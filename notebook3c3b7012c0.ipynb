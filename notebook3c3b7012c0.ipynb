{
 "cells": [
  {
   "cell_type": "markdown",
   "id": "e845b509",
   "metadata": {
    "papermill": {
     "duration": 0.024488,
     "end_time": "2023-07-30T15:10:51.486108",
     "exception": false,
     "start_time": "2023-07-30T15:10:51.461620",
     "status": "completed"
    },
    "tags": []
   },
   "source": [
    "#### Use Machine Learning to detect conditions with measurements of anonymous characteristics"
   ]
  },
  {
   "cell_type": "markdown",
   "id": "39128b1b",
   "metadata": {
    "papermill": {
     "duration": 0.023739,
     "end_time": "2023-07-30T15:10:51.534033",
     "exception": false,
     "start_time": "2023-07-30T15:10:51.510294",
     "status": "completed"
    },
    "tags": []
   },
   "source": [
    "##### 1 Identify the problem :"
   ]
  },
  {
   "cell_type": "raw",
   "id": "3f78e162",
   "metadata": {
    "papermill": {
     "duration": 0.024017,
     "end_time": "2023-07-30T15:10:51.582228",
     "exception": false,
     "start_time": "2023-07-30T15:10:51.558211",
     "status": "completed"
    },
    "tags": []
   },
   "source": [
    "Goal of the Competition\n",
    "The goal of this competition is to predict if a person has any of three medical conditions. You are being asked to predict if the person has one or more of any of the three medical conditions (Class 1), or none of the three medical conditions (Class 0). You will create a model trained on measurements of health characteristics.\n",
    "\n",
    "To determine if someone has these medical conditions requires a long and intrusive process to collect information from patients. With predictive models, we can shorten this process and keep patient details private by collecting key characteristics relative to the conditions, then encoding these characteristics.\n",
    "\n",
    "Your work will help researchers discover the relationship between measurements of certain characteristics and potential patient conditions.\n",
    "\n",
    "Context\n",
    "They say age is just a number but a whole host of health issues come with aging. From heart disease and dementia to hearing loss and arthritis, aging is a risk factor for numerous diseases and complications. The growing field of bioinformatics includes research into interventions that can help slow and reverse biological aging and prevent major age-related ailments. Data science could have a role to play in developing new methods to solve problems with diverse data, even if the number of samples is small.\n",
    "\n",
    "Currently, models like XGBoost and random forest are used to predict medical conditions yet the models' performance is not good enough. Dealing with critical problems where lives are on the line, models need to make correct predictions reliably and consistently between different cases.\n",
    "\n",
    "Founded in 2015, competition host InVitro Cell Research, LLC (ICR) is a privately funded company focused on regenerative and preventive personalized medicine. Their offices and labs in the greater New York City area offer state-of-the-art research space. InVitro Cell Research's Scientists are what set them apart, helping guide and defining their mission of researching how to repair aging people fast.\n",
    "\n",
    "In this competition, you’ll work with measurements of health characteristic data to solve critical problems in bioinformatics. Based on minimal training, you’ll create a model to predict if a person has any of three medical conditions, with an aim to improve on existing methods.\n",
    "\n",
    "You could help advance the growing field of bioinformatics and explore new methods to solve complex problems with diverse data."
   ]
  },
  {
   "cell_type": "raw",
   "id": "88a67bed",
   "metadata": {
    "papermill": {
     "duration": 0.025686,
     "end_time": "2023-07-30T15:10:51.631832",
     "exception": false,
     "start_time": "2023-07-30T15:10:51.606146",
     "status": "completed"
    },
    "tags": []
   },
   "source": [
    "This is a supervised learning problem, since the training examples are labeled. Moreover, it is a classical binary classification task, since we are asked to predict whether the person has one or more of the three pathologies (class 1), or none of the three pathologies (class 0). \n"
   ]
  },
  {
   "cell_type": "markdown",
   "id": "a554b7bf",
   "metadata": {
    "papermill": {
     "duration": 0.02405,
     "end_time": "2023-07-30T15:10:51.680105",
     "exception": false,
     "start_time": "2023-07-30T15:10:51.656055",
     "status": "completed"
    },
    "tags": []
   },
   "source": [
    "##### 2.Selecting a performance measure :"
   ]
  },
  {
   "cell_type": "raw",
   "id": "a4b7ea02",
   "metadata": {
    "papermill": {
     "duration": 0.023562,
     "end_time": "2023-07-30T15:10:51.727953",
     "exception": false,
     "start_time": "2023-07-30T15:10:51.704391",
     "status": "completed"
    },
    "tags": []
   },
   "source": [
    "Submissions are evaluated using a balanced log loss. The overall effect is such that each class has roughly equal importance for the final score.\n",
    "Each observation belongs to either class 0 or class 1. For each observation, you must submit a probability for each class.\n",
    "The log-loss indicates how close the prediction probability is to the actual value."
   ]
  },
  {
   "cell_type": "markdown",
   "id": "1a9a879e",
   "metadata": {
    "papermill": {
     "duration": 0.023831,
     "end_time": "2023-07-30T15:10:51.775825",
     "exception": false,
     "start_time": "2023-07-30T15:10:51.751994",
     "status": "completed"
    },
    "tags": []
   },
   "source": [
    "##### 3.Data preparation and first statistics\n"
   ]
  },
  {
   "cell_type": "markdown",
   "id": "39253b64",
   "metadata": {
    "papermill": {
     "duration": 0.024087,
     "end_time": "2023-07-30T15:10:51.823821",
     "exception": false,
     "start_time": "2023-07-30T15:10:51.799734",
     "status": "completed"
    },
    "tags": []
   },
   "source": [
    "###### 3.1Dataset Description"
   ]
  },
  {
   "cell_type": "raw",
   "id": "c94d1f16",
   "metadata": {
    "papermill": {
     "duration": 0.023638,
     "end_time": "2023-07-30T15:10:51.871445",
     "exception": false,
     "start_time": "2023-07-30T15:10:51.847807",
     "status": "completed"
    },
    "tags": []
   },
   "source": [
    "Dataset Description :\n",
    "The competition data comprises over fifty anonymized health characteristics linked to three age-related conditions. Your goal is to predict whether a subject has or has not been diagnosed with one of these conditions -- a binary classification problem.\n",
    "\n",
    "Note that this is a Code Competition, in which the actual test set is hidden. In this version, we give some sample data in the correct format to help you author your solutions. When your submission is scored, this example test data will be replaced with the full test set. There are about 400 rows in the full test set.\n",
    "\n",
    "Files and Field Descriptions :\n",
    "\n",
    "train.csv - The training set.\n",
    "Id Unique identifier for each observation.\n",
    "AB-GL Fifty-six anonymized health characteristics. All are numeric except for EJ, which is categorical.\n",
    "\n",
    "Class A binary target: 1 indicates the subject has been diagnosed with one of the three conditions, 0 indicates they have not.\n",
    "\n",
    "test.csv - The test set. Your goal is to predict the probability that a subject in this set belongs to each of the two classes.\n",
    "\n",
    "greeks.csv - Supplemental metadata, only available for the training set.\n",
    "\n",
    "Alpha Identifies the type of age-related condition, if present.\n",
    "A No age-related condition. Corresponds to class 0.\n",
    "B, D, G The three age-related conditions. Correspond to class 1.\n",
    "Beta, Gamma, Delta Three experimental characteristics.\n",
    "Epsilon The date the data for this subject was collected. Note that all of the data in the test set was collected after the training set was collected.\n",
    "sample_submission.csv - A sample submission file in the correct format. See the Evaluation page for more details."
   ]
  },
  {
   "cell_type": "markdown",
   "id": "ca2d3565",
   "metadata": {
    "papermill": {
     "duration": 0.023884,
     "end_time": "2023-07-30T15:10:51.919440",
     "exception": false,
     "start_time": "2023-07-30T15:10:51.895556",
     "status": "completed"
    },
    "tags": []
   },
   "source": [
    "###### 3.2Loading data"
   ]
  },
  {
   "cell_type": "code",
   "execution_count": 1,
   "id": "171e9772",
   "metadata": {
    "execution": {
     "iopub.execute_input": "2023-07-30T15:10:51.969655Z",
     "iopub.status.busy": "2023-07-30T15:10:51.969174Z",
     "iopub.status.idle": "2023-07-30T15:10:53.475104Z",
     "shell.execute_reply": "2023-07-30T15:10:53.473900Z"
    },
    "papermill": {
     "duration": 1.53477,
     "end_time": "2023-07-30T15:10:53.477975",
     "exception": false,
     "start_time": "2023-07-30T15:10:51.943205",
     "status": "completed"
    },
    "tags": []
   },
   "outputs": [
    {
     "name": "stderr",
     "output_type": "stream",
     "text": [
      "/opt/conda/lib/python3.10/site-packages/scipy/__init__.py:146: UserWarning: A NumPy version >=1.16.5 and <1.23.0 is required for this version of SciPy (detected version 1.23.5\n",
      "  warnings.warn(f\"A NumPy version >={np_minversion} and <{np_maxversion}\"\n"
     ]
    }
   ],
   "source": [
    "import pandas as pd\n",
    "import numpy as np\n",
    "import seaborn as sns\n",
    "from matplotlib import pyplot as plt"
   ]
  },
  {
   "cell_type": "code",
   "execution_count": 2,
   "id": "985483cc",
   "metadata": {
    "execution": {
     "iopub.execute_input": "2023-07-30T15:10:53.528000Z",
     "iopub.status.busy": "2023-07-30T15:10:53.527620Z",
     "iopub.status.idle": "2023-07-30T15:10:53.586089Z",
     "shell.execute_reply": "2023-07-30T15:10:53.585259Z"
    },
    "papermill": {
     "duration": 0.086582,
     "end_time": "2023-07-30T15:10:53.588790",
     "exception": false,
     "start_time": "2023-07-30T15:10:53.502208",
     "status": "completed"
    },
    "tags": []
   },
   "outputs": [],
   "source": [
    "#training_data\n",
    "train_df = pd.read_csv('/kaggle/input/dataset/train.csv')\n",
    "#test_data\n",
    "test_df = pd.read_csv('/kaggle/input/dataset/test.csv')\n",
    "#other\n",
    "greeks_df = pd.read_csv('/kaggle/input/dataset/greeks.csv')"
   ]
  },
  {
   "cell_type": "markdown",
   "id": "103fa2a4",
   "metadata": {
    "papermill": {
     "duration": 0.024759,
     "end_time": "2023-07-30T15:10:53.637852",
     "exception": false,
     "start_time": "2023-07-30T15:10:53.613093",
     "status": "completed"
    },
    "tags": []
   },
   "source": [
    "###### 3.3Examine the data structure."
   ]
  },
  {
   "cell_type": "code",
   "execution_count": 3,
   "id": "d0a987fd",
   "metadata": {
    "execution": {
     "iopub.execute_input": "2023-07-30T15:10:53.688573Z",
     "iopub.status.busy": "2023-07-30T15:10:53.687592Z",
     "iopub.status.idle": "2023-07-30T15:10:53.692963Z",
     "shell.execute_reply": "2023-07-30T15:10:53.692085Z"
    },
    "papermill": {
     "duration": 0.033518,
     "end_time": "2023-07-30T15:10:53.695436",
     "exception": false,
     "start_time": "2023-07-30T15:10:53.661918",
     "status": "completed"
    },
    "tags": []
   },
   "outputs": [],
   "source": [
    "pd.set_option('display.max_columns', None)"
   ]
  },
  {
   "cell_type": "code",
   "execution_count": 4,
   "id": "d6c6c087",
   "metadata": {
    "execution": {
     "iopub.execute_input": "2023-07-30T15:10:53.745881Z",
     "iopub.status.busy": "2023-07-30T15:10:53.745437Z",
     "iopub.status.idle": "2023-07-30T15:10:53.810838Z",
     "shell.execute_reply": "2023-07-30T15:10:53.809734Z"
    },
    "papermill": {
     "duration": 0.094081,
     "end_time": "2023-07-30T15:10:53.813876",
     "exception": false,
     "start_time": "2023-07-30T15:10:53.719795",
     "status": "completed"
    },
    "tags": []
   },
   "outputs": [
    {
     "data": {
      "text/html": [
       "<div>\n",
       "<style scoped>\n",
       "    .dataframe tbody tr th:only-of-type {\n",
       "        vertical-align: middle;\n",
       "    }\n",
       "\n",
       "    .dataframe tbody tr th {\n",
       "        vertical-align: top;\n",
       "    }\n",
       "\n",
       "    .dataframe thead th {\n",
       "        text-align: right;\n",
       "    }\n",
       "</style>\n",
       "<table border=\"1\" class=\"dataframe\">\n",
       "  <thead>\n",
       "    <tr style=\"text-align: right;\">\n",
       "      <th></th>\n",
       "      <th>Id</th>\n",
       "      <th>AB</th>\n",
       "      <th>AF</th>\n",
       "      <th>AH</th>\n",
       "      <th>AM</th>\n",
       "      <th>AR</th>\n",
       "      <th>AX</th>\n",
       "      <th>AY</th>\n",
       "      <th>AZ</th>\n",
       "      <th>BC</th>\n",
       "      <th>BD</th>\n",
       "      <th>BN</th>\n",
       "      <th>BP</th>\n",
       "      <th>BQ</th>\n",
       "      <th>BR</th>\n",
       "      <th>BZ</th>\n",
       "      <th>CB</th>\n",
       "      <th>CC</th>\n",
       "      <th>CD</th>\n",
       "      <th>CF</th>\n",
       "      <th>CH</th>\n",
       "      <th>CL</th>\n",
       "      <th>CR</th>\n",
       "      <th>CS</th>\n",
       "      <th>CU</th>\n",
       "      <th>CW</th>\n",
       "      <th>DA</th>\n",
       "      <th>DE</th>\n",
       "      <th>DF</th>\n",
       "      <th>DH</th>\n",
       "      <th>DI</th>\n",
       "      <th>DL</th>\n",
       "      <th>DN</th>\n",
       "      <th>DU</th>\n",
       "      <th>DV</th>\n",
       "      <th>DY</th>\n",
       "      <th>EB</th>\n",
       "      <th>EE</th>\n",
       "      <th>EG</th>\n",
       "      <th>EH</th>\n",
       "      <th>EJ</th>\n",
       "      <th>EL</th>\n",
       "      <th>EP</th>\n",
       "      <th>EU</th>\n",
       "      <th>FC</th>\n",
       "      <th>FD</th>\n",
       "      <th>FE</th>\n",
       "      <th>FI</th>\n",
       "      <th>FL</th>\n",
       "      <th>FR</th>\n",
       "      <th>FS</th>\n",
       "      <th>GB</th>\n",
       "      <th>GE</th>\n",
       "      <th>GF</th>\n",
       "      <th>GH</th>\n",
       "      <th>GI</th>\n",
       "      <th>GL</th>\n",
       "      <th>Class</th>\n",
       "    </tr>\n",
       "  </thead>\n",
       "  <tbody>\n",
       "    <tr>\n",
       "      <th>0</th>\n",
       "      <td>000ff2bfdfe9</td>\n",
       "      <td>0.209377</td>\n",
       "      <td>3109.03329</td>\n",
       "      <td>85.200147</td>\n",
       "      <td>22.394407</td>\n",
       "      <td>8.138688</td>\n",
       "      <td>0.699861</td>\n",
       "      <td>0.025578</td>\n",
       "      <td>9.812214</td>\n",
       "      <td>5.555634</td>\n",
       "      <td>4126.58731</td>\n",
       "      <td>22.5984</td>\n",
       "      <td>175.638726</td>\n",
       "      <td>152.707705</td>\n",
       "      <td>823.928241</td>\n",
       "      <td>257.432377</td>\n",
       "      <td>47.223358</td>\n",
       "      <td>0.563481</td>\n",
       "      <td>23.387600</td>\n",
       "      <td>4.851915</td>\n",
       "      <td>0.023482</td>\n",
       "      <td>1.050225</td>\n",
       "      <td>0.069225</td>\n",
       "      <td>13.784111</td>\n",
       "      <td>1.302012</td>\n",
       "      <td>36.205956</td>\n",
       "      <td>69.08340</td>\n",
       "      <td>295.570575</td>\n",
       "      <td>0.23868</td>\n",
       "      <td>0.284232</td>\n",
       "      <td>89.245560</td>\n",
       "      <td>84.31664</td>\n",
       "      <td>29.657104</td>\n",
       "      <td>5.310690</td>\n",
       "      <td>1.74307</td>\n",
       "      <td>23.187704</td>\n",
       "      <td>7.294176</td>\n",
       "      <td>1.987283</td>\n",
       "      <td>1433.166750</td>\n",
       "      <td>0.949104</td>\n",
       "      <td>B</td>\n",
       "      <td>30.879420</td>\n",
       "      <td>78.526968</td>\n",
       "      <td>3.828384</td>\n",
       "      <td>13.394640</td>\n",
       "      <td>10.265073</td>\n",
       "      <td>9028.291921</td>\n",
       "      <td>3.583450</td>\n",
       "      <td>7.298162</td>\n",
       "      <td>1.73855</td>\n",
       "      <td>0.094822</td>\n",
       "      <td>11.339138</td>\n",
       "      <td>72.611063</td>\n",
       "      <td>2003.810319</td>\n",
       "      <td>22.136229</td>\n",
       "      <td>69.834944</td>\n",
       "      <td>0.120343</td>\n",
       "      <td>1</td>\n",
       "    </tr>\n",
       "    <tr>\n",
       "      <th>1</th>\n",
       "      <td>007255e47698</td>\n",
       "      <td>0.145282</td>\n",
       "      <td>978.76416</td>\n",
       "      <td>85.200147</td>\n",
       "      <td>36.968889</td>\n",
       "      <td>8.138688</td>\n",
       "      <td>3.632190</td>\n",
       "      <td>0.025578</td>\n",
       "      <td>13.517790</td>\n",
       "      <td>1.229900</td>\n",
       "      <td>5496.92824</td>\n",
       "      <td>19.4205</td>\n",
       "      <td>155.868030</td>\n",
       "      <td>14.754720</td>\n",
       "      <td>51.216883</td>\n",
       "      <td>257.432377</td>\n",
       "      <td>30.284345</td>\n",
       "      <td>0.484710</td>\n",
       "      <td>50.628208</td>\n",
       "      <td>6.085041</td>\n",
       "      <td>0.031442</td>\n",
       "      <td>1.113875</td>\n",
       "      <td>1.117800</td>\n",
       "      <td>28.310953</td>\n",
       "      <td>1.357182</td>\n",
       "      <td>37.476568</td>\n",
       "      <td>70.79836</td>\n",
       "      <td>178.553100</td>\n",
       "      <td>0.23868</td>\n",
       "      <td>0.363489</td>\n",
       "      <td>110.581815</td>\n",
       "      <td>75.74548</td>\n",
       "      <td>37.532000</td>\n",
       "      <td>0.005518</td>\n",
       "      <td>1.74307</td>\n",
       "      <td>17.222328</td>\n",
       "      <td>4.926396</td>\n",
       "      <td>0.858603</td>\n",
       "      <td>1111.287150</td>\n",
       "      <td>0.003042</td>\n",
       "      <td>A</td>\n",
       "      <td>109.125159</td>\n",
       "      <td>95.415086</td>\n",
       "      <td>52.260480</td>\n",
       "      <td>17.175984</td>\n",
       "      <td>0.296850</td>\n",
       "      <td>6785.003474</td>\n",
       "      <td>10.358927</td>\n",
       "      <td>0.173229</td>\n",
       "      <td>0.49706</td>\n",
       "      <td>0.568932</td>\n",
       "      <td>9.292698</td>\n",
       "      <td>72.611063</td>\n",
       "      <td>27981.562750</td>\n",
       "      <td>29.135430</td>\n",
       "      <td>32.131996</td>\n",
       "      <td>21.978000</td>\n",
       "      <td>0</td>\n",
       "    </tr>\n",
       "    <tr>\n",
       "      <th>2</th>\n",
       "      <td>013f2bd269f5</td>\n",
       "      <td>0.470030</td>\n",
       "      <td>2635.10654</td>\n",
       "      <td>85.200147</td>\n",
       "      <td>32.360553</td>\n",
       "      <td>8.138688</td>\n",
       "      <td>6.732840</td>\n",
       "      <td>0.025578</td>\n",
       "      <td>12.824570</td>\n",
       "      <td>1.229900</td>\n",
       "      <td>5135.78024</td>\n",
       "      <td>26.4825</td>\n",
       "      <td>128.988531</td>\n",
       "      <td>219.320160</td>\n",
       "      <td>482.141594</td>\n",
       "      <td>257.432377</td>\n",
       "      <td>32.563713</td>\n",
       "      <td>0.495852</td>\n",
       "      <td>85.955376</td>\n",
       "      <td>5.376488</td>\n",
       "      <td>0.036218</td>\n",
       "      <td>1.050225</td>\n",
       "      <td>0.700350</td>\n",
       "      <td>39.364743</td>\n",
       "      <td>1.009611</td>\n",
       "      <td>21.459644</td>\n",
       "      <td>70.81970</td>\n",
       "      <td>321.426625</td>\n",
       "      <td>0.23868</td>\n",
       "      <td>0.210441</td>\n",
       "      <td>120.056438</td>\n",
       "      <td>65.46984</td>\n",
       "      <td>28.053464</td>\n",
       "      <td>1.289739</td>\n",
       "      <td>1.74307</td>\n",
       "      <td>36.861352</td>\n",
       "      <td>7.813674</td>\n",
       "      <td>8.146651</td>\n",
       "      <td>1494.076488</td>\n",
       "      <td>0.377208</td>\n",
       "      <td>B</td>\n",
       "      <td>109.125159</td>\n",
       "      <td>78.526968</td>\n",
       "      <td>5.390628</td>\n",
       "      <td>224.207424</td>\n",
       "      <td>8.745201</td>\n",
       "      <td>8338.906181</td>\n",
       "      <td>11.626917</td>\n",
       "      <td>7.709560</td>\n",
       "      <td>0.97556</td>\n",
       "      <td>1.198821</td>\n",
       "      <td>37.077772</td>\n",
       "      <td>88.609437</td>\n",
       "      <td>13676.957810</td>\n",
       "      <td>28.022851</td>\n",
       "      <td>35.192676</td>\n",
       "      <td>0.196941</td>\n",
       "      <td>0</td>\n",
       "    </tr>\n",
       "    <tr>\n",
       "      <th>3</th>\n",
       "      <td>043ac50845d5</td>\n",
       "      <td>0.252107</td>\n",
       "      <td>3819.65177</td>\n",
       "      <td>120.201618</td>\n",
       "      <td>77.112203</td>\n",
       "      <td>8.138688</td>\n",
       "      <td>3.685344</td>\n",
       "      <td>0.025578</td>\n",
       "      <td>11.053708</td>\n",
       "      <td>1.229900</td>\n",
       "      <td>4169.67738</td>\n",
       "      <td>23.6577</td>\n",
       "      <td>237.282264</td>\n",
       "      <td>11.050410</td>\n",
       "      <td>661.518640</td>\n",
       "      <td>257.432377</td>\n",
       "      <td>15.201914</td>\n",
       "      <td>0.717882</td>\n",
       "      <td>88.159360</td>\n",
       "      <td>2.347652</td>\n",
       "      <td>0.029054</td>\n",
       "      <td>1.400300</td>\n",
       "      <td>0.636075</td>\n",
       "      <td>41.116960</td>\n",
       "      <td>0.722727</td>\n",
       "      <td>21.530392</td>\n",
       "      <td>47.27586</td>\n",
       "      <td>196.607985</td>\n",
       "      <td>0.23868</td>\n",
       "      <td>0.292431</td>\n",
       "      <td>139.824570</td>\n",
       "      <td>71.57120</td>\n",
       "      <td>24.354856</td>\n",
       "      <td>2.655345</td>\n",
       "      <td>1.74307</td>\n",
       "      <td>52.003884</td>\n",
       "      <td>7.386060</td>\n",
       "      <td>3.813326</td>\n",
       "      <td>15691.552180</td>\n",
       "      <td>0.614484</td>\n",
       "      <td>B</td>\n",
       "      <td>31.674357</td>\n",
       "      <td>78.526968</td>\n",
       "      <td>31.323372</td>\n",
       "      <td>59.301984</td>\n",
       "      <td>7.884336</td>\n",
       "      <td>10965.766040</td>\n",
       "      <td>14.852022</td>\n",
       "      <td>6.122162</td>\n",
       "      <td>0.49706</td>\n",
       "      <td>0.284466</td>\n",
       "      <td>18.529584</td>\n",
       "      <td>82.416803</td>\n",
       "      <td>2094.262452</td>\n",
       "      <td>39.948656</td>\n",
       "      <td>90.493248</td>\n",
       "      <td>0.155829</td>\n",
       "      <td>0</td>\n",
       "    </tr>\n",
       "    <tr>\n",
       "      <th>4</th>\n",
       "      <td>044fb8a146ec</td>\n",
       "      <td>0.380297</td>\n",
       "      <td>3733.04844</td>\n",
       "      <td>85.200147</td>\n",
       "      <td>14.103738</td>\n",
       "      <td>8.138688</td>\n",
       "      <td>3.942255</td>\n",
       "      <td>0.054810</td>\n",
       "      <td>3.396778</td>\n",
       "      <td>102.151980</td>\n",
       "      <td>5728.73412</td>\n",
       "      <td>24.0108</td>\n",
       "      <td>324.546318</td>\n",
       "      <td>149.717165</td>\n",
       "      <td>6074.859475</td>\n",
       "      <td>257.432377</td>\n",
       "      <td>82.213495</td>\n",
       "      <td>0.536467</td>\n",
       "      <td>72.644264</td>\n",
       "      <td>30.537722</td>\n",
       "      <td>0.025472</td>\n",
       "      <td>1.050225</td>\n",
       "      <td>0.693150</td>\n",
       "      <td>31.724726</td>\n",
       "      <td>0.827550</td>\n",
       "      <td>34.415360</td>\n",
       "      <td>74.06532</td>\n",
       "      <td>200.178160</td>\n",
       "      <td>0.23868</td>\n",
       "      <td>0.207708</td>\n",
       "      <td>97.920120</td>\n",
       "      <td>52.83888</td>\n",
       "      <td>26.019912</td>\n",
       "      <td>1.144902</td>\n",
       "      <td>1.74307</td>\n",
       "      <td>9.064856</td>\n",
       "      <td>7.350720</td>\n",
       "      <td>3.490846</td>\n",
       "      <td>1403.656300</td>\n",
       "      <td>0.164268</td>\n",
       "      <td>B</td>\n",
       "      <td>109.125159</td>\n",
       "      <td>91.994825</td>\n",
       "      <td>51.141336</td>\n",
       "      <td>29.102640</td>\n",
       "      <td>4.274640</td>\n",
       "      <td>16198.049590</td>\n",
       "      <td>13.666727</td>\n",
       "      <td>8.153058</td>\n",
       "      <td>48.50134</td>\n",
       "      <td>0.121914</td>\n",
       "      <td>16.408728</td>\n",
       "      <td>146.109943</td>\n",
       "      <td>8524.370502</td>\n",
       "      <td>45.381316</td>\n",
       "      <td>36.262628</td>\n",
       "      <td>0.096614</td>\n",
       "      <td>1</td>\n",
       "    </tr>\n",
       "  </tbody>\n",
       "</table>\n",
       "</div>"
      ],
      "text/plain": [
       "             Id        AB          AF          AH         AM        AR  \\\n",
       "0  000ff2bfdfe9  0.209377  3109.03329   85.200147  22.394407  8.138688   \n",
       "1  007255e47698  0.145282   978.76416   85.200147  36.968889  8.138688   \n",
       "2  013f2bd269f5  0.470030  2635.10654   85.200147  32.360553  8.138688   \n",
       "3  043ac50845d5  0.252107  3819.65177  120.201618  77.112203  8.138688   \n",
       "4  044fb8a146ec  0.380297  3733.04844   85.200147  14.103738  8.138688   \n",
       "\n",
       "         AX        AY         AZ          BC         BD        BN          BP  \\\n",
       "0  0.699861  0.025578   9.812214    5.555634  4126.58731  22.5984  175.638726   \n",
       "1  3.632190  0.025578  13.517790    1.229900  5496.92824  19.4205  155.868030   \n",
       "2  6.732840  0.025578  12.824570    1.229900  5135.78024  26.4825  128.988531   \n",
       "3  3.685344  0.025578  11.053708    1.229900  4169.67738  23.6577  237.282264   \n",
       "4  3.942255  0.054810   3.396778  102.151980  5728.73412  24.0108  324.546318   \n",
       "\n",
       "           BQ           BR          BZ         CB        CC        CD   \\\n",
       "0  152.707705   823.928241  257.432377  47.223358  0.563481  23.387600   \n",
       "1   14.754720    51.216883  257.432377  30.284345  0.484710  50.628208   \n",
       "2  219.320160   482.141594  257.432377  32.563713  0.495852  85.955376   \n",
       "3   11.050410   661.518640  257.432377  15.201914  0.717882  88.159360   \n",
       "4  149.717165  6074.859475  257.432377  82.213495  0.536467  72.644264   \n",
       "\n",
       "          CF        CH        CL        CR         CS        CU        CW   \\\n",
       "0   4.851915  0.023482  1.050225  0.069225  13.784111  1.302012  36.205956   \n",
       "1   6.085041  0.031442  1.113875  1.117800  28.310953  1.357182  37.476568   \n",
       "2   5.376488  0.036218  1.050225  0.700350  39.364743  1.009611  21.459644   \n",
       "3   2.347652  0.029054  1.400300  0.636075  41.116960  0.722727  21.530392   \n",
       "4  30.537722  0.025472  1.050225  0.693150  31.724726  0.827550  34.415360   \n",
       "\n",
       "         DA          DE       DF        DH          DI        DL         DN  \\\n",
       "0  69.08340  295.570575  0.23868  0.284232   89.245560  84.31664  29.657104   \n",
       "1  70.79836  178.553100  0.23868  0.363489  110.581815  75.74548  37.532000   \n",
       "2  70.81970  321.426625  0.23868  0.210441  120.056438  65.46984  28.053464   \n",
       "3  47.27586  196.607985  0.23868  0.292431  139.824570  71.57120  24.354856   \n",
       "4  74.06532  200.178160  0.23868  0.207708   97.920120  52.83888  26.019912   \n",
       "\n",
       "         DU       DV         DY        EB        EE            EG        EH  \\\n",
       "0  5.310690  1.74307  23.187704  7.294176  1.987283   1433.166750  0.949104   \n",
       "1  0.005518  1.74307  17.222328  4.926396  0.858603   1111.287150  0.003042   \n",
       "2  1.289739  1.74307  36.861352  7.813674  8.146651   1494.076488  0.377208   \n",
       "3  2.655345  1.74307  52.003884  7.386060  3.813326  15691.552180  0.614484   \n",
       "4  1.144902  1.74307   9.064856  7.350720  3.490846   1403.656300  0.164268   \n",
       "\n",
       "  EJ          EL         EP         EU          FC        FD             FE  \\\n",
       "0  B   30.879420  78.526968   3.828384   13.394640  10.265073   9028.291921   \n",
       "1  A  109.125159  95.415086  52.260480   17.175984   0.296850   6785.003474   \n",
       "2  B  109.125159  78.526968   5.390628  224.207424   8.745201   8338.906181   \n",
       "3  B   31.674357  78.526968  31.323372   59.301984   7.884336  10965.766040   \n",
       "4  B  109.125159  91.994825  51.141336   29.102640   4.274640  16198.049590   \n",
       "\n",
       "          FI        FL        FR        FS         GB          GE  \\\n",
       "0   3.583450  7.298162   1.73855  0.094822  11.339138   72.611063   \n",
       "1  10.358927  0.173229   0.49706  0.568932   9.292698   72.611063   \n",
       "2  11.626917  7.709560   0.97556  1.198821  37.077772   88.609437   \n",
       "3  14.852022  6.122162   0.49706  0.284466  18.529584   82.416803   \n",
       "4  13.666727  8.153058  48.50134  0.121914  16.408728  146.109943   \n",
       "\n",
       "             GF         GH         GI         GL  Class  \n",
       "0   2003.810319  22.136229  69.834944   0.120343      1  \n",
       "1  27981.562750  29.135430  32.131996  21.978000      0  \n",
       "2  13676.957810  28.022851  35.192676   0.196941      0  \n",
       "3   2094.262452  39.948656  90.493248   0.155829      0  \n",
       "4   8524.370502  45.381316  36.262628   0.096614      1  "
      ]
     },
     "execution_count": 4,
     "metadata": {},
     "output_type": "execute_result"
    }
   ],
   "source": [
    "#Show first five lines\n",
    "train_df.head()"
   ]
  },
  {
   "cell_type": "code",
   "execution_count": 5,
   "id": "47538296",
   "metadata": {
    "execution": {
     "iopub.execute_input": "2023-07-30T15:10:53.866060Z",
     "iopub.status.busy": "2023-07-30T15:10:53.865307Z",
     "iopub.status.idle": "2023-07-30T15:10:53.896568Z",
     "shell.execute_reply": "2023-07-30T15:10:53.895271Z"
    },
    "papermill": {
     "duration": 0.060702,
     "end_time": "2023-07-30T15:10:53.899565",
     "exception": false,
     "start_time": "2023-07-30T15:10:53.838863",
     "status": "completed"
    },
    "tags": []
   },
   "outputs": [
    {
     "name": "stdout",
     "output_type": "stream",
     "text": [
      "<class 'pandas.core.frame.DataFrame'>\n",
      "RangeIndex: 617 entries, 0 to 616\n",
      "Data columns (total 58 columns):\n",
      " #   Column  Non-Null Count  Dtype  \n",
      "---  ------  --------------  -----  \n",
      " 0   Id      617 non-null    object \n",
      " 1   AB      617 non-null    float64\n",
      " 2   AF      617 non-null    float64\n",
      " 3   AH      617 non-null    float64\n",
      " 4   AM      617 non-null    float64\n",
      " 5   AR      617 non-null    float64\n",
      " 6   AX      617 non-null    float64\n",
      " 7   AY      617 non-null    float64\n",
      " 8   AZ      617 non-null    float64\n",
      " 9   BC      617 non-null    float64\n",
      " 10  BD      617 non-null    float64\n",
      " 11  BN      617 non-null    float64\n",
      " 12  BP      617 non-null    float64\n",
      " 13  BQ      557 non-null    float64\n",
      " 14  BR      617 non-null    float64\n",
      " 15  BZ      617 non-null    float64\n",
      " 16  CB      615 non-null    float64\n",
      " 17  CC      614 non-null    float64\n",
      " 18  CD      617 non-null    float64\n",
      " 19  CF      617 non-null    float64\n",
      " 20  CH      617 non-null    float64\n",
      " 21  CL      617 non-null    float64\n",
      " 22  CR      617 non-null    float64\n",
      " 23  CS      617 non-null    float64\n",
      " 24  CU      617 non-null    float64\n",
      " 25  CW      617 non-null    float64\n",
      " 26  DA      617 non-null    float64\n",
      " 27  DE      617 non-null    float64\n",
      " 28  DF      617 non-null    float64\n",
      " 29  DH      617 non-null    float64\n",
      " 30  DI      617 non-null    float64\n",
      " 31  DL      617 non-null    float64\n",
      " 32  DN      617 non-null    float64\n",
      " 33  DU      616 non-null    float64\n",
      " 34  DV      617 non-null    float64\n",
      " 35  DY      617 non-null    float64\n",
      " 36  EB      617 non-null    float64\n",
      " 37  EE      617 non-null    float64\n",
      " 38  EG      617 non-null    float64\n",
      " 39  EH      617 non-null    float64\n",
      " 40  EJ      617 non-null    object \n",
      " 41  EL      557 non-null    float64\n",
      " 42  EP      617 non-null    float64\n",
      " 43  EU      617 non-null    float64\n",
      " 44  FC      616 non-null    float64\n",
      " 45  FD      617 non-null    float64\n",
      " 46  FE      617 non-null    float64\n",
      " 47  FI      617 non-null    float64\n",
      " 48  FL      616 non-null    float64\n",
      " 49  FR      617 non-null    float64\n",
      " 50  FS      615 non-null    float64\n",
      " 51  GB      617 non-null    float64\n",
      " 52  GE      617 non-null    float64\n",
      " 53  GF      617 non-null    float64\n",
      " 54  GH      617 non-null    float64\n",
      " 55  GI      617 non-null    float64\n",
      " 56  GL      616 non-null    float64\n",
      " 57  Class   617 non-null    int64  \n",
      "dtypes: float64(55), int64(1), object(2)\n",
      "memory usage: 279.7+ KB\n"
     ]
    }
   ],
   "source": [
    "#Dataset information\n",
    "train_df.info()"
   ]
  },
  {
   "cell_type": "raw",
   "id": "885b5763",
   "metadata": {
    "papermill": {
     "duration": 0.024755,
     "end_time": "2023-07-30T15:10:53.949685",
     "exception": false,
     "start_time": "2023-07-30T15:10:53.924930",
     "status": "completed"
    },
    "tags": []
   },
   "source": [
    "Since the target column is numeric, one solution would be to transform it into a string, with 0 as no, and 1 as yes."
   ]
  },
  {
   "cell_type": "code",
   "execution_count": 6,
   "id": "6950bb4f",
   "metadata": {
    "execution": {
     "iopub.execute_input": "2023-07-30T15:10:54.001591Z",
     "iopub.status.busy": "2023-07-30T15:10:54.001139Z",
     "iopub.status.idle": "2023-07-30T15:10:54.008390Z",
     "shell.execute_reply": "2023-07-30T15:10:54.007038Z"
    },
    "papermill": {
     "duration": 0.036509,
     "end_time": "2023-07-30T15:10:54.011064",
     "exception": false,
     "start_time": "2023-07-30T15:10:53.974555",
     "status": "completed"
    },
    "tags": []
   },
   "outputs": [],
   "source": [
    "train_df['Class'] = train_df['Class'].apply(str)"
   ]
  },
  {
   "cell_type": "code",
   "execution_count": 7,
   "id": "05a2b291",
   "metadata": {
    "execution": {
     "iopub.execute_input": "2023-07-30T15:10:54.065474Z",
     "iopub.status.busy": "2023-07-30T15:10:54.065002Z",
     "iopub.status.idle": "2023-07-30T15:10:54.074840Z",
     "shell.execute_reply": "2023-07-30T15:10:54.073435Z"
    },
    "papermill": {
     "duration": 0.040986,
     "end_time": "2023-07-30T15:10:54.077524",
     "exception": false,
     "start_time": "2023-07-30T15:10:54.036538",
     "status": "completed"
    },
    "tags": []
   },
   "outputs": [
    {
     "data": {
      "text/plain": [
       "0      1\n",
       "1      0\n",
       "2      0\n",
       "3      0\n",
       "4      1\n",
       "      ..\n",
       "612    0\n",
       "613    0\n",
       "614    0\n",
       "615    0\n",
       "616    0\n",
       "Name: Class, Length: 617, dtype: object"
      ]
     },
     "execution_count": 7,
     "metadata": {},
     "output_type": "execute_result"
    }
   ],
   "source": [
    "train_df['Class']"
   ]
  },
  {
   "cell_type": "markdown",
   "id": "d4df741d",
   "metadata": {
    "papermill": {
     "duration": 0.025166,
     "end_time": "2023-07-30T15:10:54.127997",
     "exception": false,
     "start_time": "2023-07-30T15:10:54.102831",
     "status": "completed"
    },
    "tags": []
   },
   "source": [
    "###### 4.Summary statistics and data visualization"
   ]
  },
  {
   "cell_type": "markdown",
   "id": "1bef9b8d",
   "metadata": {
    "papermill": {
     "duration": 0.024925,
     "end_time": "2023-07-30T15:10:54.178173",
     "exception": false,
     "start_time": "2023-07-30T15:10:54.153248",
     "status": "completed"
    },
    "tags": []
   },
   "source": [
    "###### 4.1Descriptive statistics"
   ]
  },
  {
   "cell_type": "code",
   "execution_count": 8,
   "id": "8dd952e5",
   "metadata": {
    "execution": {
     "iopub.execute_input": "2023-07-30T15:10:54.230658Z",
     "iopub.status.busy": "2023-07-30T15:10:54.230169Z",
     "iopub.status.idle": "2023-07-30T15:10:54.429497Z",
     "shell.execute_reply": "2023-07-30T15:10:54.428382Z"
    },
    "papermill": {
     "duration": 0.228506,
     "end_time": "2023-07-30T15:10:54.432148",
     "exception": false,
     "start_time": "2023-07-30T15:10:54.203642",
     "status": "completed"
    },
    "tags": []
   },
   "outputs": [
    {
     "data": {
      "text/html": [
       "<div>\n",
       "<style scoped>\n",
       "    .dataframe tbody tr th:only-of-type {\n",
       "        vertical-align: middle;\n",
       "    }\n",
       "\n",
       "    .dataframe tbody tr th {\n",
       "        vertical-align: top;\n",
       "    }\n",
       "\n",
       "    .dataframe thead th {\n",
       "        text-align: right;\n",
       "    }\n",
       "</style>\n",
       "<table border=\"1\" class=\"dataframe\">\n",
       "  <thead>\n",
       "    <tr style=\"text-align: right;\">\n",
       "      <th></th>\n",
       "      <th>AB</th>\n",
       "      <th>AF</th>\n",
       "      <th>AH</th>\n",
       "      <th>AM</th>\n",
       "      <th>AR</th>\n",
       "      <th>AX</th>\n",
       "      <th>AY</th>\n",
       "      <th>AZ</th>\n",
       "      <th>BC</th>\n",
       "      <th>BD</th>\n",
       "      <th>BN</th>\n",
       "      <th>BP</th>\n",
       "      <th>BQ</th>\n",
       "      <th>BR</th>\n",
       "      <th>BZ</th>\n",
       "      <th>CB</th>\n",
       "      <th>CC</th>\n",
       "      <th>CD</th>\n",
       "      <th>CF</th>\n",
       "      <th>CH</th>\n",
       "      <th>CL</th>\n",
       "      <th>CR</th>\n",
       "      <th>CS</th>\n",
       "      <th>CU</th>\n",
       "      <th>CW</th>\n",
       "      <th>DA</th>\n",
       "      <th>DE</th>\n",
       "      <th>DF</th>\n",
       "      <th>DH</th>\n",
       "      <th>DI</th>\n",
       "      <th>DL</th>\n",
       "      <th>DN</th>\n",
       "      <th>DU</th>\n",
       "      <th>DV</th>\n",
       "      <th>DY</th>\n",
       "      <th>EB</th>\n",
       "      <th>EE</th>\n",
       "      <th>EG</th>\n",
       "      <th>EH</th>\n",
       "      <th>EL</th>\n",
       "      <th>EP</th>\n",
       "      <th>EU</th>\n",
       "      <th>FC</th>\n",
       "      <th>FD</th>\n",
       "      <th>FE</th>\n",
       "      <th>FI</th>\n",
       "      <th>FL</th>\n",
       "      <th>FR</th>\n",
       "      <th>FS</th>\n",
       "      <th>GB</th>\n",
       "      <th>GE</th>\n",
       "      <th>GF</th>\n",
       "      <th>GH</th>\n",
       "      <th>GI</th>\n",
       "      <th>GL</th>\n",
       "    </tr>\n",
       "  </thead>\n",
       "  <tbody>\n",
       "    <tr>\n",
       "      <th>count</th>\n",
       "      <td>617.000000</td>\n",
       "      <td>617.000000</td>\n",
       "      <td>617.000000</td>\n",
       "      <td>617.000000</td>\n",
       "      <td>617.000000</td>\n",
       "      <td>617.000000</td>\n",
       "      <td>617.000000</td>\n",
       "      <td>617.000000</td>\n",
       "      <td>617.000000</td>\n",
       "      <td>617.000000</td>\n",
       "      <td>617.000000</td>\n",
       "      <td>617.000000</td>\n",
       "      <td>557.000000</td>\n",
       "      <td>617.000000</td>\n",
       "      <td>617.000000</td>\n",
       "      <td>615.000000</td>\n",
       "      <td>614.000000</td>\n",
       "      <td>617.000000</td>\n",
       "      <td>617.000000</td>\n",
       "      <td>617.000000</td>\n",
       "      <td>617.000000</td>\n",
       "      <td>617.000000</td>\n",
       "      <td>617.000000</td>\n",
       "      <td>617.000000</td>\n",
       "      <td>617.000000</td>\n",
       "      <td>617.000000</td>\n",
       "      <td>617.000000</td>\n",
       "      <td>617.000000</td>\n",
       "      <td>617.000000</td>\n",
       "      <td>617.000000</td>\n",
       "      <td>617.000000</td>\n",
       "      <td>617.000000</td>\n",
       "      <td>616.000000</td>\n",
       "      <td>617.000000</td>\n",
       "      <td>617.000000</td>\n",
       "      <td>617.000000</td>\n",
       "      <td>617.000000</td>\n",
       "      <td>617.000000</td>\n",
       "      <td>617.000000</td>\n",
       "      <td>557.000000</td>\n",
       "      <td>617.000000</td>\n",
       "      <td>617.000000</td>\n",
       "      <td>616.000000</td>\n",
       "      <td>617.000000</td>\n",
       "      <td>617.000000</td>\n",
       "      <td>617.000000</td>\n",
       "      <td>616.000000</td>\n",
       "      <td>617.000000</td>\n",
       "      <td>615.000000</td>\n",
       "      <td>617.000000</td>\n",
       "      <td>617.000000</td>\n",
       "      <td>617.000000</td>\n",
       "      <td>617.000000</td>\n",
       "      <td>617.000000</td>\n",
       "      <td>616.000000</td>\n",
       "    </tr>\n",
       "    <tr>\n",
       "      <th>mean</th>\n",
       "      <td>0.477149</td>\n",
       "      <td>3502.013221</td>\n",
       "      <td>118.624513</td>\n",
       "      <td>38.968552</td>\n",
       "      <td>10.128242</td>\n",
       "      <td>5.545576</td>\n",
       "      <td>0.060320</td>\n",
       "      <td>10.566447</td>\n",
       "      <td>8.053012</td>\n",
       "      <td>5350.388655</td>\n",
       "      <td>21.419492</td>\n",
       "      <td>231.322223</td>\n",
       "      <td>98.328737</td>\n",
       "      <td>1218.133238</td>\n",
       "      <td>550.632525</td>\n",
       "      <td>77.104151</td>\n",
       "      <td>0.688801</td>\n",
       "      <td>90.251735</td>\n",
       "      <td>11.241064</td>\n",
       "      <td>0.030615</td>\n",
       "      <td>1.403761</td>\n",
       "      <td>0.742262</td>\n",
       "      <td>36.917590</td>\n",
       "      <td>1.383792</td>\n",
       "      <td>27.165653</td>\n",
       "      <td>51.128326</td>\n",
       "      <td>401.901299</td>\n",
       "      <td>0.633884</td>\n",
       "      <td>0.367002</td>\n",
       "      <td>146.972099</td>\n",
       "      <td>94.795377</td>\n",
       "      <td>26.370568</td>\n",
       "      <td>1.802900</td>\n",
       "      <td>1.924830</td>\n",
       "      <td>26.388989</td>\n",
       "      <td>9.072700</td>\n",
       "      <td>3.064778</td>\n",
       "      <td>1731.248215</td>\n",
       "      <td>0.305107</td>\n",
       "      <td>69.582596</td>\n",
       "      <td>105.060712</td>\n",
       "      <td>69.117005</td>\n",
       "      <td>71.341526</td>\n",
       "      <td>6.930086</td>\n",
       "      <td>10306.810737</td>\n",
       "      <td>10.111079</td>\n",
       "      <td>5.433199</td>\n",
       "      <td>3.533905</td>\n",
       "      <td>0.421501</td>\n",
       "      <td>20.724856</td>\n",
       "      <td>131.714987</td>\n",
       "      <td>14679.595398</td>\n",
       "      <td>31.489716</td>\n",
       "      <td>50.584437</td>\n",
       "      <td>8.530961</td>\n",
       "    </tr>\n",
       "    <tr>\n",
       "      <th>std</th>\n",
       "      <td>0.468388</td>\n",
       "      <td>2300.322717</td>\n",
       "      <td>127.838950</td>\n",
       "      <td>69.728226</td>\n",
       "      <td>10.518877</td>\n",
       "      <td>2.551696</td>\n",
       "      <td>0.416817</td>\n",
       "      <td>4.350645</td>\n",
       "      <td>65.166943</td>\n",
       "      <td>3021.326641</td>\n",
       "      <td>3.478278</td>\n",
       "      <td>183.992505</td>\n",
       "      <td>96.479371</td>\n",
       "      <td>7575.293707</td>\n",
       "      <td>2076.371275</td>\n",
       "      <td>159.049302</td>\n",
       "      <td>0.263994</td>\n",
       "      <td>51.585130</td>\n",
       "      <td>13.571133</td>\n",
       "      <td>0.014808</td>\n",
       "      <td>1.922210</td>\n",
       "      <td>0.281195</td>\n",
       "      <td>17.266347</td>\n",
       "      <td>0.538717</td>\n",
       "      <td>14.645993</td>\n",
       "      <td>21.210888</td>\n",
       "      <td>317.745623</td>\n",
       "      <td>1.912384</td>\n",
       "      <td>0.112989</td>\n",
       "      <td>86.084419</td>\n",
       "      <td>28.243187</td>\n",
       "      <td>8.038825</td>\n",
       "      <td>9.034721</td>\n",
       "      <td>1.484555</td>\n",
       "      <td>18.116679</td>\n",
       "      <td>6.200281</td>\n",
       "      <td>2.058344</td>\n",
       "      <td>1790.227476</td>\n",
       "      <td>1.847499</td>\n",
       "      <td>38.555707</td>\n",
       "      <td>68.445620</td>\n",
       "      <td>390.187057</td>\n",
       "      <td>165.551545</td>\n",
       "      <td>64.754262</td>\n",
       "      <td>11331.294051</td>\n",
       "      <td>2.934025</td>\n",
       "      <td>11.496257</td>\n",
       "      <td>50.181948</td>\n",
       "      <td>1.305365</td>\n",
       "      <td>9.991907</td>\n",
       "      <td>144.181524</td>\n",
       "      <td>19352.959387</td>\n",
       "      <td>9.864239</td>\n",
       "      <td>36.266251</td>\n",
       "      <td>10.327010</td>\n",
       "    </tr>\n",
       "    <tr>\n",
       "      <th>min</th>\n",
       "      <td>0.081187</td>\n",
       "      <td>192.593280</td>\n",
       "      <td>85.200147</td>\n",
       "      <td>3.177522</td>\n",
       "      <td>8.138688</td>\n",
       "      <td>0.699861</td>\n",
       "      <td>0.025578</td>\n",
       "      <td>3.396778</td>\n",
       "      <td>1.229900</td>\n",
       "      <td>1693.624320</td>\n",
       "      <td>9.886800</td>\n",
       "      <td>72.948951</td>\n",
       "      <td>1.331155</td>\n",
       "      <td>51.216883</td>\n",
       "      <td>257.432377</td>\n",
       "      <td>12.499760</td>\n",
       "      <td>0.176874</td>\n",
       "      <td>23.387600</td>\n",
       "      <td>0.510888</td>\n",
       "      <td>0.003184</td>\n",
       "      <td>1.050225</td>\n",
       "      <td>0.069225</td>\n",
       "      <td>13.784111</td>\n",
       "      <td>0.137925</td>\n",
       "      <td>7.030640</td>\n",
       "      <td>6.906400</td>\n",
       "      <td>35.998895</td>\n",
       "      <td>0.238680</td>\n",
       "      <td>0.040995</td>\n",
       "      <td>60.232470</td>\n",
       "      <td>10.345600</td>\n",
       "      <td>6.339496</td>\n",
       "      <td>0.005518</td>\n",
       "      <td>1.743070</td>\n",
       "      <td>0.804068</td>\n",
       "      <td>4.926396</td>\n",
       "      <td>0.286201</td>\n",
       "      <td>185.594100</td>\n",
       "      <td>0.003042</td>\n",
       "      <td>5.394675</td>\n",
       "      <td>78.526968</td>\n",
       "      <td>3.828384</td>\n",
       "      <td>7.534128</td>\n",
       "      <td>0.296850</td>\n",
       "      <td>1563.136688</td>\n",
       "      <td>3.583450</td>\n",
       "      <td>0.173229</td>\n",
       "      <td>0.497060</td>\n",
       "      <td>0.067730</td>\n",
       "      <td>4.102182</td>\n",
       "      <td>72.611063</td>\n",
       "      <td>13.038894</td>\n",
       "      <td>9.432735</td>\n",
       "      <td>0.897628</td>\n",
       "      <td>0.001129</td>\n",
       "    </tr>\n",
       "    <tr>\n",
       "      <th>25%</th>\n",
       "      <td>0.252107</td>\n",
       "      <td>2197.345480</td>\n",
       "      <td>85.200147</td>\n",
       "      <td>12.270314</td>\n",
       "      <td>8.138688</td>\n",
       "      <td>4.128294</td>\n",
       "      <td>0.025578</td>\n",
       "      <td>8.129580</td>\n",
       "      <td>1.229900</td>\n",
       "      <td>4155.702870</td>\n",
       "      <td>19.420500</td>\n",
       "      <td>156.847239</td>\n",
       "      <td>27.834425</td>\n",
       "      <td>424.990642</td>\n",
       "      <td>257.432377</td>\n",
       "      <td>23.317567</td>\n",
       "      <td>0.563688</td>\n",
       "      <td>64.724192</td>\n",
       "      <td>5.066306</td>\n",
       "      <td>0.023482</td>\n",
       "      <td>1.050225</td>\n",
       "      <td>0.589575</td>\n",
       "      <td>29.782467</td>\n",
       "      <td>1.070298</td>\n",
       "      <td>7.030640</td>\n",
       "      <td>37.942520</td>\n",
       "      <td>188.815690</td>\n",
       "      <td>0.238680</td>\n",
       "      <td>0.295164</td>\n",
       "      <td>102.703553</td>\n",
       "      <td>78.232240</td>\n",
       "      <td>20.888264</td>\n",
       "      <td>0.005518</td>\n",
       "      <td>1.743070</td>\n",
       "      <td>14.715792</td>\n",
       "      <td>5.965392</td>\n",
       "      <td>1.648679</td>\n",
       "      <td>1111.160625</td>\n",
       "      <td>0.003042</td>\n",
       "      <td>30.927468</td>\n",
       "      <td>78.526968</td>\n",
       "      <td>4.324656</td>\n",
       "      <td>25.815384</td>\n",
       "      <td>0.296850</td>\n",
       "      <td>5164.666260</td>\n",
       "      <td>8.523098</td>\n",
       "      <td>0.173229</td>\n",
       "      <td>0.497060</td>\n",
       "      <td>0.067730</td>\n",
       "      <td>14.036718</td>\n",
       "      <td>72.611063</td>\n",
       "      <td>2798.992584</td>\n",
       "      <td>25.034888</td>\n",
       "      <td>23.011684</td>\n",
       "      <td>0.124392</td>\n",
       "    </tr>\n",
       "    <tr>\n",
       "      <th>50%</th>\n",
       "      <td>0.354659</td>\n",
       "      <td>3120.318960</td>\n",
       "      <td>85.200147</td>\n",
       "      <td>20.533110</td>\n",
       "      <td>8.138688</td>\n",
       "      <td>5.031912</td>\n",
       "      <td>0.025578</td>\n",
       "      <td>10.461320</td>\n",
       "      <td>1.229900</td>\n",
       "      <td>4997.960730</td>\n",
       "      <td>21.186000</td>\n",
       "      <td>193.908816</td>\n",
       "      <td>61.642115</td>\n",
       "      <td>627.417402</td>\n",
       "      <td>257.432377</td>\n",
       "      <td>42.554330</td>\n",
       "      <td>0.658715</td>\n",
       "      <td>79.819104</td>\n",
       "      <td>9.123000</td>\n",
       "      <td>0.027860</td>\n",
       "      <td>1.050225</td>\n",
       "      <td>0.730800</td>\n",
       "      <td>34.835130</td>\n",
       "      <td>1.351665</td>\n",
       "      <td>36.019104</td>\n",
       "      <td>49.180940</td>\n",
       "      <td>307.509595</td>\n",
       "      <td>0.238680</td>\n",
       "      <td>0.358023</td>\n",
       "      <td>130.050630</td>\n",
       "      <td>96.264960</td>\n",
       "      <td>25.248800</td>\n",
       "      <td>0.251741</td>\n",
       "      <td>1.743070</td>\n",
       "      <td>21.642456</td>\n",
       "      <td>8.149404</td>\n",
       "      <td>2.616119</td>\n",
       "      <td>1493.817413</td>\n",
       "      <td>0.085176</td>\n",
       "      <td>71.949306</td>\n",
       "      <td>78.526968</td>\n",
       "      <td>22.641144</td>\n",
       "      <td>36.394008</td>\n",
       "      <td>1.870155</td>\n",
       "      <td>7345.143424</td>\n",
       "      <td>9.945452</td>\n",
       "      <td>3.028141</td>\n",
       "      <td>1.131000</td>\n",
       "      <td>0.250601</td>\n",
       "      <td>18.771436</td>\n",
       "      <td>72.611063</td>\n",
       "      <td>7838.273610</td>\n",
       "      <td>30.608946</td>\n",
       "      <td>41.007968</td>\n",
       "      <td>0.337827</td>\n",
       "    </tr>\n",
       "    <tr>\n",
       "      <th>75%</th>\n",
       "      <td>0.559763</td>\n",
       "      <td>4361.637390</td>\n",
       "      <td>113.739540</td>\n",
       "      <td>39.139886</td>\n",
       "      <td>8.138688</td>\n",
       "      <td>6.431634</td>\n",
       "      <td>0.036845</td>\n",
       "      <td>12.969516</td>\n",
       "      <td>5.081244</td>\n",
       "      <td>6035.885700</td>\n",
       "      <td>23.657700</td>\n",
       "      <td>247.803462</td>\n",
       "      <td>134.009015</td>\n",
       "      <td>975.649259</td>\n",
       "      <td>257.432377</td>\n",
       "      <td>77.310097</td>\n",
       "      <td>0.772206</td>\n",
       "      <td>99.813520</td>\n",
       "      <td>13.565901</td>\n",
       "      <td>0.034427</td>\n",
       "      <td>1.228445</td>\n",
       "      <td>0.859350</td>\n",
       "      <td>40.529401</td>\n",
       "      <td>1.660617</td>\n",
       "      <td>37.935832</td>\n",
       "      <td>61.408760</td>\n",
       "      <td>507.896200</td>\n",
       "      <td>0.238680</td>\n",
       "      <td>0.426348</td>\n",
       "      <td>165.836955</td>\n",
       "      <td>110.640680</td>\n",
       "      <td>30.544224</td>\n",
       "      <td>1.058690</td>\n",
       "      <td>1.743070</td>\n",
       "      <td>34.058344</td>\n",
       "      <td>10.503048</td>\n",
       "      <td>3.910070</td>\n",
       "      <td>1905.701475</td>\n",
       "      <td>0.237276</td>\n",
       "      <td>109.125159</td>\n",
       "      <td>112.766654</td>\n",
       "      <td>49.085352</td>\n",
       "      <td>56.714448</td>\n",
       "      <td>4.880214</td>\n",
       "      <td>10647.951650</td>\n",
       "      <td>11.516657</td>\n",
       "      <td>6.238814</td>\n",
       "      <td>1.512060</td>\n",
       "      <td>0.535067</td>\n",
       "      <td>25.608406</td>\n",
       "      <td>127.591671</td>\n",
       "      <td>19035.709240</td>\n",
       "      <td>36.863947</td>\n",
       "      <td>67.931664</td>\n",
       "      <td>21.978000</td>\n",
       "    </tr>\n",
       "    <tr>\n",
       "      <th>max</th>\n",
       "      <td>6.161666</td>\n",
       "      <td>28688.187660</td>\n",
       "      <td>1910.123198</td>\n",
       "      <td>630.518230</td>\n",
       "      <td>178.943634</td>\n",
       "      <td>38.270880</td>\n",
       "      <td>10.315851</td>\n",
       "      <td>38.971568</td>\n",
       "      <td>1463.693448</td>\n",
       "      <td>53060.599240</td>\n",
       "      <td>29.307300</td>\n",
       "      <td>2447.810550</td>\n",
       "      <td>344.644105</td>\n",
       "      <td>179250.252900</td>\n",
       "      <td>50092.459300</td>\n",
       "      <td>2271.436167</td>\n",
       "      <td>4.103032</td>\n",
       "      <td>633.534408</td>\n",
       "      <td>200.967526</td>\n",
       "      <td>0.224074</td>\n",
       "      <td>31.688153</td>\n",
       "      <td>3.039675</td>\n",
       "      <td>267.942823</td>\n",
       "      <td>4.951507</td>\n",
       "      <td>64.521624</td>\n",
       "      <td>210.330920</td>\n",
       "      <td>2103.405190</td>\n",
       "      <td>37.895013</td>\n",
       "      <td>1.060404</td>\n",
       "      <td>1049.168078</td>\n",
       "      <td>326.236200</td>\n",
       "      <td>62.808096</td>\n",
       "      <td>161.355315</td>\n",
       "      <td>25.192930</td>\n",
       "      <td>152.355164</td>\n",
       "      <td>94.958580</td>\n",
       "      <td>18.324926</td>\n",
       "      <td>30243.758780</td>\n",
       "      <td>42.569748</td>\n",
       "      <td>109.125159</td>\n",
       "      <td>1063.594578</td>\n",
       "      <td>6501.264480</td>\n",
       "      <td>3030.655824</td>\n",
       "      <td>1578.654237</td>\n",
       "      <td>143224.682300</td>\n",
       "      <td>35.851039</td>\n",
       "      <td>137.932739</td>\n",
       "      <td>1244.227020</td>\n",
       "      <td>31.365763</td>\n",
       "      <td>135.781294</td>\n",
       "      <td>1497.351958</td>\n",
       "      <td>143790.071200</td>\n",
       "      <td>81.210825</td>\n",
       "      <td>191.194764</td>\n",
       "      <td>21.978000</td>\n",
       "    </tr>\n",
       "  </tbody>\n",
       "</table>\n",
       "</div>"
      ],
      "text/plain": [
       "               AB            AF           AH          AM          AR  \\\n",
       "count  617.000000    617.000000   617.000000  617.000000  617.000000   \n",
       "mean     0.477149   3502.013221   118.624513   38.968552   10.128242   \n",
       "std      0.468388   2300.322717   127.838950   69.728226   10.518877   \n",
       "min      0.081187    192.593280    85.200147    3.177522    8.138688   \n",
       "25%      0.252107   2197.345480    85.200147   12.270314    8.138688   \n",
       "50%      0.354659   3120.318960    85.200147   20.533110    8.138688   \n",
       "75%      0.559763   4361.637390   113.739540   39.139886    8.138688   \n",
       "max      6.161666  28688.187660  1910.123198  630.518230  178.943634   \n",
       "\n",
       "               AX          AY          AZ           BC           BD   \\\n",
       "count  617.000000  617.000000  617.000000   617.000000    617.000000   \n",
       "mean     5.545576    0.060320   10.566447     8.053012   5350.388655   \n",
       "std      2.551696    0.416817    4.350645    65.166943   3021.326641   \n",
       "min      0.699861    0.025578    3.396778     1.229900   1693.624320   \n",
       "25%      4.128294    0.025578    8.129580     1.229900   4155.702870   \n",
       "50%      5.031912    0.025578   10.461320     1.229900   4997.960730   \n",
       "75%      6.431634    0.036845   12.969516     5.081244   6035.885700   \n",
       "max     38.270880   10.315851   38.971568  1463.693448  53060.599240   \n",
       "\n",
       "               BN           BP          BQ             BR            BZ  \\\n",
       "count  617.000000   617.000000  557.000000     617.000000    617.000000   \n",
       "mean    21.419492   231.322223   98.328737    1218.133238    550.632525   \n",
       "std      3.478278   183.992505   96.479371    7575.293707   2076.371275   \n",
       "min      9.886800    72.948951    1.331155      51.216883    257.432377   \n",
       "25%     19.420500   156.847239   27.834425     424.990642    257.432377   \n",
       "50%     21.186000   193.908816   61.642115     627.417402    257.432377   \n",
       "75%     23.657700   247.803462  134.009015     975.649259    257.432377   \n",
       "max     29.307300  2447.810550  344.644105  179250.252900  50092.459300   \n",
       "\n",
       "                CB          CC         CD           CF          CH  \\\n",
       "count   615.000000  614.000000  617.000000  617.000000  617.000000   \n",
       "mean     77.104151    0.688801   90.251735   11.241064    0.030615   \n",
       "std     159.049302    0.263994   51.585130   13.571133    0.014808   \n",
       "min      12.499760    0.176874   23.387600    0.510888    0.003184   \n",
       "25%      23.317567    0.563688   64.724192    5.066306    0.023482   \n",
       "50%      42.554330    0.658715   79.819104    9.123000    0.027860   \n",
       "75%      77.310097    0.772206   99.813520   13.565901    0.034427   \n",
       "max    2271.436167    4.103032  633.534408  200.967526    0.224074   \n",
       "\n",
       "               CL          CR          CS          CU         CW           DA  \\\n",
       "count  617.000000  617.000000  617.000000  617.000000  617.000000  617.000000   \n",
       "mean     1.403761    0.742262   36.917590    1.383792   27.165653   51.128326   \n",
       "std      1.922210    0.281195   17.266347    0.538717   14.645993   21.210888   \n",
       "min      1.050225    0.069225   13.784111    0.137925    7.030640    6.906400   \n",
       "25%      1.050225    0.589575   29.782467    1.070298    7.030640   37.942520   \n",
       "50%      1.050225    0.730800   34.835130    1.351665   36.019104   49.180940   \n",
       "75%      1.228445    0.859350   40.529401    1.660617   37.935832   61.408760   \n",
       "max     31.688153    3.039675  267.942823    4.951507   64.521624  210.330920   \n",
       "\n",
       "                DE          DF          DH           DI          DL  \\\n",
       "count   617.000000  617.000000  617.000000   617.000000  617.000000   \n",
       "mean    401.901299    0.633884    0.367002   146.972099   94.795377   \n",
       "std     317.745623    1.912384    0.112989    86.084419   28.243187   \n",
       "min      35.998895    0.238680    0.040995    60.232470   10.345600   \n",
       "25%     188.815690    0.238680    0.295164   102.703553   78.232240   \n",
       "50%     307.509595    0.238680    0.358023   130.050630   96.264960   \n",
       "75%     507.896200    0.238680    0.426348   165.836955  110.640680   \n",
       "max    2103.405190   37.895013    1.060404  1049.168078  326.236200   \n",
       "\n",
       "               DN          DU          DV          DY          EB          EE  \\\n",
       "count  617.000000  616.000000  617.000000  617.000000  617.000000  617.000000   \n",
       "mean    26.370568    1.802900    1.924830   26.388989    9.072700    3.064778   \n",
       "std      8.038825    9.034721    1.484555   18.116679    6.200281    2.058344   \n",
       "min      6.339496    0.005518    1.743070    0.804068    4.926396    0.286201   \n",
       "25%     20.888264    0.005518    1.743070   14.715792    5.965392    1.648679   \n",
       "50%     25.248800    0.251741    1.743070   21.642456    8.149404    2.616119   \n",
       "75%     30.544224    1.058690    1.743070   34.058344   10.503048    3.910070   \n",
       "max     62.808096  161.355315   25.192930  152.355164   94.958580   18.324926   \n",
       "\n",
       "                 EG          EH          EL           EP           EU  \\\n",
       "count    617.000000  617.000000  557.000000   617.000000   617.000000   \n",
       "mean    1731.248215    0.305107   69.582596   105.060712    69.117005   \n",
       "std     1790.227476    1.847499   38.555707    68.445620   390.187057   \n",
       "min      185.594100    0.003042    5.394675    78.526968     3.828384   \n",
       "25%     1111.160625    0.003042   30.927468    78.526968     4.324656   \n",
       "50%     1493.817413    0.085176   71.949306    78.526968    22.641144   \n",
       "75%     1905.701475    0.237276  109.125159   112.766654    49.085352   \n",
       "max    30243.758780   42.569748  109.125159  1063.594578  6501.264480   \n",
       "\n",
       "                FC          FD              FE          FI          FL  \\\n",
       "count   616.000000   617.000000     617.000000  617.000000  616.000000   \n",
       "mean     71.341526     6.930086   10306.810737   10.111079    5.433199   \n",
       "std     165.551545    64.754262   11331.294051    2.934025   11.496257   \n",
       "min       7.534128     0.296850    1563.136688    3.583450    0.173229   \n",
       "25%      25.815384     0.296850    5164.666260    8.523098    0.173229   \n",
       "50%      36.394008     1.870155    7345.143424    9.945452    3.028141   \n",
       "75%      56.714448     4.880214   10647.951650   11.516657    6.238814   \n",
       "max    3030.655824  1578.654237  143224.682300   35.851039  137.932739   \n",
       "\n",
       "                FR          FS          GB           GE             GF  \\\n",
       "count   617.000000  615.000000  617.000000   617.000000     617.000000   \n",
       "mean      3.533905    0.421501   20.724856   131.714987   14679.595398   \n",
       "std      50.181948    1.305365    9.991907   144.181524   19352.959387   \n",
       "min       0.497060    0.067730    4.102182    72.611063      13.038894   \n",
       "25%       0.497060    0.067730   14.036718    72.611063    2798.992584   \n",
       "50%       1.131000    0.250601   18.771436    72.611063    7838.273610   \n",
       "75%       1.512060    0.535067   25.608406   127.591671   19035.709240   \n",
       "max    1244.227020   31.365763  135.781294  1497.351958  143790.071200   \n",
       "\n",
       "               GH          GI          GL  \n",
       "count  617.000000  617.000000  616.000000  \n",
       "mean    31.489716   50.584437    8.530961  \n",
       "std      9.864239   36.266251   10.327010  \n",
       "min      9.432735    0.897628    0.001129  \n",
       "25%     25.034888   23.011684    0.124392  \n",
       "50%     30.608946   41.007968    0.337827  \n",
       "75%     36.863947   67.931664   21.978000  \n",
       "max     81.210825  191.194764   21.978000  "
      ]
     },
     "execution_count": 8,
     "metadata": {},
     "output_type": "execute_result"
    }
   ],
   "source": [
    "#Numerical variables\n",
    "train_df.describe()"
   ]
  },
  {
   "cell_type": "raw",
   "id": "884904f3",
   "metadata": {
    "papermill": {
     "duration": 0.026598,
     "end_time": "2023-07-30T15:10:54.485120",
     "exception": false,
     "start_time": "2023-07-30T15:10:54.458522",
     "status": "completed"
    },
    "tags": []
   },
   "source": [
    "These statistics show, among other things, that the quantitative variables are not on the same scale, and this is something we're going to have to sort out ahead."
   ]
  },
  {
   "cell_type": "code",
   "execution_count": 9,
   "id": "98ef09b3",
   "metadata": {
    "execution": {
     "iopub.execute_input": "2023-07-30T15:10:54.540157Z",
     "iopub.status.busy": "2023-07-30T15:10:54.539769Z",
     "iopub.status.idle": "2023-07-30T15:10:54.553259Z",
     "shell.execute_reply": "2023-07-30T15:10:54.552358Z"
    },
    "papermill": {
     "duration": 0.044497,
     "end_time": "2023-07-30T15:10:54.556160",
     "exception": false,
     "start_time": "2023-07-30T15:10:54.511663",
     "status": "completed"
    },
    "tags": []
   },
   "outputs": [
    {
     "name": "stderr",
     "output_type": "stream",
     "text": [
      "/tmp/ipykernel_20/2566899487.py:1: FutureWarning: The default value of numeric_only in DataFrame.skew is deprecated. In a future version, it will default to False. In addition, specifying 'numeric_only=None' is deprecated. Select only valid columns or specify the value of numeric_only to silence this warning.\n",
      "  train_df.skew()\n"
     ]
    },
    {
     "data": {
      "text/plain": [
       "AB        5.927245\n",
       "AF        3.751057\n",
       "AH       10.094184\n",
       "AM        6.434969\n",
       "AR       13.259275\n",
       "AX        4.400920\n",
       "AY       24.270320\n",
       "AZ        0.799989\n",
       "BC       19.726787\n",
       "BD       10.455121\n",
       "BN       -0.452831\n",
       "BP        6.464570\n",
       "BQ        1.380746\n",
       "BR       21.804495\n",
       "BZ       22.193979\n",
       "CB        8.775588\n",
       "CC        5.568676\n",
       "CD        4.087235\n",
       "CF        9.302033\n",
       "CH        6.274781\n",
       "CL       11.398838\n",
       "CR        2.448436\n",
       "CS        7.944825\n",
       "CU        0.961026\n",
       "CW       -0.406131\n",
       "DA        1.644509\n",
       "DE        2.039423\n",
       "DF       13.798896\n",
       "DH        0.772547\n",
       "DI        4.401212\n",
       "DL        1.246755\n",
       "DN        0.915665\n",
       "DU       14.590580\n",
       "DV       13.167744\n",
       "DY        1.970481\n",
       "EB        8.677239\n",
       "EE        2.059802\n",
       "EG        9.608652\n",
       "EH       20.084787\n",
       "EL       -0.147017\n",
       "EP        9.282442\n",
       "EU       14.985507\n",
       "FC       11.366151\n",
       "FD       23.402877\n",
       "FE        5.300799\n",
       "FI        1.388188\n",
       "FL        6.601233\n",
       "FR       24.618316\n",
       "FS       21.801439\n",
       "GB        3.145217\n",
       "GE        4.913469\n",
       "GF        3.042299\n",
       "GH        0.889175\n",
       "GI        1.193504\n",
       "GL        0.499068\n",
       "Class     1.714476\n",
       "dtype: float64"
      ]
     },
     "execution_count": 9,
     "metadata": {},
     "output_type": "execute_result"
    }
   ],
   "source": [
    "train_df.skew()"
   ]
  },
  {
   "cell_type": "raw",
   "id": "dc99503a",
   "metadata": {
    "papermill": {
     "duration": 0.026383,
     "end_time": "2023-07-30T15:10:54.609113",
     "exception": false,
     "start_time": "2023-07-30T15:10:54.582730",
     "status": "completed"
    },
    "tags": []
   },
   "source": [
    "These results show a strong asymmetry in the data available."
   ]
  },
  {
   "cell_type": "code",
   "execution_count": 10,
   "id": "fc6a45b4",
   "metadata": {
    "execution": {
     "iopub.execute_input": "2023-07-30T15:10:54.666913Z",
     "iopub.status.busy": "2023-07-30T15:10:54.666525Z",
     "iopub.status.idle": "2023-07-30T15:10:54.675999Z",
     "shell.execute_reply": "2023-07-30T15:10:54.674895Z"
    },
    "papermill": {
     "duration": 0.041533,
     "end_time": "2023-07-30T15:10:54.678244",
     "exception": false,
     "start_time": "2023-07-30T15:10:54.636711",
     "status": "completed"
    },
    "tags": []
   },
   "outputs": [
    {
     "data": {
      "text/plain": [
       "0    509\n",
       "1    108\n",
       "Name: Class, dtype: int64"
      ]
     },
     "execution_count": 10,
     "metadata": {},
     "output_type": "execute_result"
    }
   ],
   "source": [
    "#Target variable.\n",
    "train_df.Class.value_counts()"
   ]
  },
  {
   "cell_type": "raw",
   "id": "7484edc4",
   "metadata": {
    "papermill": {
     "duration": 0.02797,
     "end_time": "2023-07-30T15:10:54.734728",
     "exception": false,
     "start_time": "2023-07-30T15:10:54.706758",
     "status": "completed"
    },
    "tags": []
   },
   "source": [
    "This result shows an imbalance in the target variable.\n",
    "Let's visualize this with a graph."
   ]
  },
  {
   "cell_type": "code",
   "execution_count": 11,
   "id": "3cd2a958",
   "metadata": {
    "execution": {
     "iopub.execute_input": "2023-07-30T15:10:54.791395Z",
     "iopub.status.busy": "2023-07-30T15:10:54.790682Z",
     "iopub.status.idle": "2023-07-30T15:10:55.106747Z",
     "shell.execute_reply": "2023-07-30T15:10:55.105265Z"
    },
    "papermill": {
     "duration": 0.346929,
     "end_time": "2023-07-30T15:10:55.109562",
     "exception": false,
     "start_time": "2023-07-30T15:10:54.762633",
     "status": "completed"
    },
    "tags": []
   },
   "outputs": [
    {
     "data": {
      "text/plain": [
       "Text(0, 0.5, 'Number of observations per class.')"
      ]
     },
     "execution_count": 11,
     "metadata": {},
     "output_type": "execute_result"
    },
    {
     "data": {
      "image/png": "[encoded data removed]",
      "text/plain": [
       "<Figure size 640x480 with 1 Axes>"
      ]
     },
     "metadata": {},
     "output_type": "display_data"
    }
   ],
   "source": [
    "sns.countplot(data=train_df, x=\"Class\")\n",
    "plt.title('Show the number of observations in each class using bars.')\n",
    "plt.xlabel('Class')\n",
    "plt.ylabel('Number of observations per class.')"
   ]
  },
  {
   "cell_type": "raw",
   "id": "1f39b95c",
   "metadata": {
    "papermill": {
     "duration": 0.028591,
     "end_time": "2023-07-30T15:10:55.167406",
     "exception": false,
     "start_time": "2023-07-30T15:10:55.138815",
     "status": "completed"
    },
    "tags": []
   },
   "source": [
    "This graph shows that the negative class is the most representative."
   ]
  },
  {
   "cell_type": "code",
   "execution_count": 12,
   "id": "225ea556",
   "metadata": {
    "execution": {
     "iopub.execute_input": "2023-07-30T15:10:55.226963Z",
     "iopub.status.busy": "2023-07-30T15:10:55.226232Z",
     "iopub.status.idle": "2023-07-30T15:10:55.234488Z",
     "shell.execute_reply": "2023-07-30T15:10:55.233351Z"
    },
    "papermill": {
     "duration": 0.041305,
     "end_time": "2023-07-30T15:10:55.236997",
     "exception": false,
     "start_time": "2023-07-30T15:10:55.195692",
     "status": "completed"
    },
    "tags": []
   },
   "outputs": [
    {
     "data": {
      "text/plain": [
       "B    395\n",
       "A    222\n",
       "Name: EJ, dtype: int64"
      ]
     },
     "execution_count": 12,
     "metadata": {},
     "output_type": "execute_result"
    }
   ],
   "source": [
    "#column EJ\n",
    "train_df['EJ'].value_counts()"
   ]
  },
  {
   "cell_type": "code",
   "execution_count": 13,
   "id": "fb2af150",
   "metadata": {
    "execution": {
     "iopub.execute_input": "2023-07-30T15:10:55.294112Z",
     "iopub.status.busy": "2023-07-30T15:10:55.293665Z",
     "iopub.status.idle": "2023-07-30T15:10:55.613737Z",
     "shell.execute_reply": "2023-07-30T15:10:55.612608Z"
    },
    "papermill": {
     "duration": 0.351806,
     "end_time": "2023-07-30T15:10:55.616447",
     "exception": false,
     "start_time": "2023-07-30T15:10:55.264641",
     "status": "completed"
    },
    "tags": []
   },
   "outputs": [
    {
     "data": {
      "text/plain": [
       "Text(0, 0.5, 'Number of observations per CATEGORY.')"
      ]
     },
     "execution_count": 13,
     "metadata": {},
     "output_type": "execute_result"
    },
    {
     "data": {
      "image/png": "[encoded data removed]",
      "text/plain": [
       "<Figure size 640x480 with 1 Axes>"
      ]
     },
     "metadata": {},
     "output_type": "display_data"
    }
   ],
   "source": [
    "sns.countplot(data=train_df, x=\"EJ\")\n",
    "plt.title('Show the number of observations in each category using bars.')\n",
    "plt.xlabel('EJ')\n",
    "plt.ylabel('Number of observations per CATEGORY.')"
   ]
  },
  {
   "cell_type": "raw",
   "id": "e3f67f1b",
   "metadata": {
    "papermill": {
     "duration": 0.028871,
     "end_time": "2023-07-30T15:10:55.676820",
     "exception": false,
     "start_time": "2023-07-30T15:10:55.647949",
     "status": "completed"
    },
    "tags": []
   },
   "source": [
    "This graph shows that age-related ailments are clearly higher than non-age-related ones."
   ]
  },
  {
   "cell_type": "markdown",
   "id": "12833ef0",
   "metadata": {
    "papermill": {
     "duration": 0.027911,
     "end_time": "2023-07-30T15:10:55.733034",
     "exception": false,
     "start_time": "2023-07-30T15:10:55.705123",
     "status": "completed"
    },
    "tags": []
   },
   "source": [
    "###### 5.PREPARE DATA FOR MACHINE LEARNING MACHINE LEARNING ALGORITHMS"
   ]
  },
  {
   "cell_type": "code",
   "execution_count": 14,
   "id": "7d4ad7fc",
   "metadata": {
    "execution": {
     "iopub.execute_input": "2023-07-30T15:10:55.791762Z",
     "iopub.status.busy": "2023-07-30T15:10:55.791368Z",
     "iopub.status.idle": "2023-07-30T15:10:55.796154Z",
     "shell.execute_reply": "2023-07-30T15:10:55.794926Z"
    },
    "papermill": {
     "duration": 0.037314,
     "end_time": "2023-07-30T15:10:55.798536",
     "exception": false,
     "start_time": "2023-07-30T15:10:55.761222",
     "status": "completed"
    },
    "tags": []
   },
   "outputs": [],
   "source": [
    "# from sklearn.preprocessing import OneHotEncoder\n",
    "# encoder = OneHotEncoder()\n",
    "# train_df['EJ'] = encoder.fit_transform(train_df['EJ'].values.reshape(-1,1)).toarray()"
   ]
  },
  {
   "cell_type": "code",
   "execution_count": 15,
   "id": "de66de6b",
   "metadata": {
    "execution": {
     "iopub.execute_input": "2023-07-30T15:10:55.859239Z",
     "iopub.status.busy": "2023-07-30T15:10:55.858820Z",
     "iopub.status.idle": "2023-07-30T15:10:55.863699Z",
     "shell.execute_reply": "2023-07-30T15:10:55.862590Z"
    },
    "papermill": {
     "duration": 0.038036,
     "end_time": "2023-07-30T15:10:55.866458",
     "exception": false,
     "start_time": "2023-07-30T15:10:55.828422",
     "status": "completed"
    },
    "tags": []
   },
   "outputs": [],
   "source": [
    "# test_df['EJ'] = encoder.transform(test_df['EJ'].values.reshape(-1,1)).toarray()"
   ]
  },
  {
   "cell_type": "code",
   "execution_count": 16,
   "id": "f92ec5c3",
   "metadata": {
    "execution": {
     "iopub.execute_input": "2023-07-30T15:10:55.927098Z",
     "iopub.status.busy": "2023-07-30T15:10:55.926698Z",
     "iopub.status.idle": "2023-07-30T15:10:55.933838Z",
     "shell.execute_reply": "2023-07-30T15:10:55.932966Z"
    },
    "papermill": {
     "duration": 0.040074,
     "end_time": "2023-07-30T15:10:55.936155",
     "exception": false,
     "start_time": "2023-07-30T15:10:55.896081",
     "status": "completed"
    },
    "tags": []
   },
   "outputs": [],
   "source": [
    "#Features\n",
    "X = train_df.drop(['Id','Class'],axis=1)\n",
    "#Target\n",
    "y = train_df['Class']\n",
    "\n",
    "#Test\n",
    "X_test = test_df.drop(['Id'],axis=1)"
   ]
  },
  {
   "cell_type": "code",
   "execution_count": 17,
   "id": "39967a74",
   "metadata": {
    "execution": {
     "iopub.execute_input": "2023-07-30T15:10:55.997282Z",
     "iopub.status.busy": "2023-07-30T15:10:55.996821Z",
     "iopub.status.idle": "2023-07-30T15:10:56.984806Z",
     "shell.execute_reply": "2023-07-30T15:10:56.983497Z"
    },
    "papermill": {
     "duration": 1.022571,
     "end_time": "2023-07-30T15:10:56.988058",
     "exception": false,
     "start_time": "2023-07-30T15:10:55.965487",
     "status": "completed"
    },
    "tags": []
   },
   "outputs": [],
   "source": [
    "from sklearn.impute import SimpleImputer\n",
    "from sklearn.preprocessing import StandardScaler, OneHotEncoder\n",
    "from sklearn.compose import ColumnTransformer\n",
    "from sklearn.pipeline import Pipeline\n",
    "from sklearn.compose import make_column_selector as selector\n",
    "from sklearn.feature_selection import SelectFromModel\n",
    "from sklearn.ensemble import RandomForestClassifier, GradientBoostingClassifier\n",
    "from xgboost import XGBClassifier\n",
    "from sklearn.tree import DecisionTreeClassifier\n",
    "from sklearn.linear_model import LogisticRegression,SGDClassifier\n",
    "from sklearn.neural_network import MLPClassifier"
   ]
  },
  {
   "cell_type": "raw",
   "id": "79945209",
   "metadata": {
    "papermill": {
     "duration": 0.029808,
     "end_time": "2023-07-30T15:10:57.047326",
     "exception": false,
     "start_time": "2023-07-30T15:10:57.017518",
     "status": "completed"
    },
    "tags": []
   },
   "source": [
    "In this part, we deal with missing values by replacing them with the median value, scale quantitative columns, encode categorical variables, and use feature engineering to choose the columns best suited to our case."
   ]
  },
  {
   "cell_type": "code",
   "execution_count": 18,
   "id": "88419589",
   "metadata": {
    "execution": {
     "iopub.execute_input": "2023-07-30T15:10:57.108710Z",
     "iopub.status.busy": "2023-07-30T15:10:57.108322Z",
     "iopub.status.idle": "2023-07-30T15:10:57.114474Z",
     "shell.execute_reply": "2023-07-30T15:10:57.113267Z"
    },
    "papermill": {
     "duration": 0.039006,
     "end_time": "2023-07-30T15:10:57.116884",
     "exception": false,
     "start_time": "2023-07-30T15:10:57.077878",
     "status": "completed"
    },
    "tags": []
   },
   "outputs": [],
   "source": [
    "# Scale numeric values\n",
    "num_transformer = Pipeline(steps=[\n",
    "    ('imputer', SimpleImputer(strategy='median')),\n",
    "    ('scaler', StandardScaler())])\n",
    "\n",
    "# One-hot encode categorical values\n",
    "cat_transformer = Pipeline(steps=[\n",
    "    ('imputer', SimpleImputer(strategy='most_frequent')),\n",
    "    ('onehot', OneHotEncoder(handle_unknown='ignore'))])"
   ]
  },
  {
   "cell_type": "code",
   "execution_count": 19,
   "id": "4fc7116d",
   "metadata": {
    "execution": {
     "iopub.execute_input": "2023-07-30T15:10:57.176304Z",
     "iopub.status.busy": "2023-07-30T15:10:57.175778Z",
     "iopub.status.idle": "2023-07-30T15:10:57.181533Z",
     "shell.execute_reply": "2023-07-30T15:10:57.180141Z"
    },
    "papermill": {
     "duration": 0.038263,
     "end_time": "2023-07-30T15:10:57.184044",
     "exception": false,
     "start_time": "2023-07-30T15:10:57.145781",
     "status": "completed"
    },
    "tags": []
   },
   "outputs": [],
   "source": [
    "preprocessor = ColumnTransformer(\n",
    "    transformers=[\n",
    "        ('num', num_transformer, selector(dtype_include='float64')),\n",
    "        ('cat', cat_transformer, selector(dtype_include='category'))])"
   ]
  },
  {
   "cell_type": "code",
   "execution_count": 20,
   "id": "6ff5e1fd",
   "metadata": {
    "execution": {
     "iopub.execute_input": "2023-07-30T15:10:57.243167Z",
     "iopub.status.busy": "2023-07-30T15:10:57.242772Z",
     "iopub.status.idle": "2023-07-30T15:10:57.262684Z",
     "shell.execute_reply": "2023-07-30T15:10:57.261649Z"
    },
    "papermill": {
     "duration": 0.052752,
     "end_time": "2023-07-30T15:10:57.265365",
     "exception": false,
     "start_time": "2023-07-30T15:10:57.212613",
     "status": "completed"
    },
    "tags": []
   },
   "outputs": [],
   "source": [
    "X = preprocessor.fit_transform(X)"
   ]
  },
  {
   "cell_type": "code",
   "execution_count": 21,
   "id": "0ac9c651",
   "metadata": {
    "execution": {
     "iopub.execute_input": "2023-07-30T15:10:57.324107Z",
     "iopub.status.busy": "2023-07-30T15:10:57.323728Z",
     "iopub.status.idle": "2023-07-30T15:10:57.333031Z",
     "shell.execute_reply": "2023-07-30T15:10:57.331847Z"
    },
    "papermill": {
     "duration": 0.041733,
     "end_time": "2023-07-30T15:10:57.335496",
     "exception": false,
     "start_time": "2023-07-30T15:10:57.293763",
     "status": "completed"
    },
    "tags": []
   },
   "outputs": [],
   "source": [
    "X_test = preprocessor.transform(X_test)"
   ]
  },
  {
   "cell_type": "raw",
   "id": "958b1fa8",
   "metadata": {
    "papermill": {
     "duration": 0.027967,
     "end_time": "2023-07-30T15:10:57.391939",
     "exception": false,
     "start_time": "2023-07-30T15:10:57.363972",
     "status": "completed"
    },
    "tags": []
   },
   "source": [
    "Since I'm dealing with unbalanced data for the target class, I'll proceed as follows."
   ]
  },
  {
   "cell_type": "code",
   "execution_count": 22,
   "id": "80162553",
   "metadata": {
    "execution": {
     "iopub.execute_input": "2023-07-30T15:10:57.450608Z",
     "iopub.status.busy": "2023-07-30T15:10:57.450165Z",
     "iopub.status.idle": "2023-07-30T15:10:57.719092Z",
     "shell.execute_reply": "2023-07-30T15:10:57.718108Z"
    },
    "papermill": {
     "duration": 0.301405,
     "end_time": "2023-07-30T15:10:57.721693",
     "exception": false,
     "start_time": "2023-07-30T15:10:57.420288",
     "status": "completed"
    },
    "tags": []
   },
   "outputs": [],
   "source": [
    "from imblearn.over_sampling import SMOTE\n",
    "X_resampled, y_resampled = SMOTE().fit_resample(X, y)"
   ]
  },
  {
   "cell_type": "code",
   "execution_count": 23,
   "id": "a0802ea0",
   "metadata": {
    "execution": {
     "iopub.execute_input": "2023-07-30T15:10:57.781634Z",
     "iopub.status.busy": "2023-07-30T15:10:57.781247Z",
     "iopub.status.idle": "2023-07-30T15:10:57.790300Z",
     "shell.execute_reply": "2023-07-30T15:10:57.789159Z"
    },
    "papermill": {
     "duration": 0.041118,
     "end_time": "2023-07-30T15:10:57.792499",
     "exception": false,
     "start_time": "2023-07-30T15:10:57.751381",
     "status": "completed"
    },
    "tags": []
   },
   "outputs": [
    {
     "data": {
      "text/plain": [
       "1    509\n",
       "0    509\n",
       "Name: Class, dtype: int64"
      ]
     },
     "execution_count": 23,
     "metadata": {},
     "output_type": "execute_result"
    }
   ],
   "source": [
    "# on transforme y_comb en Series pour avoir un affichage plus agréable\n",
    "pd.Series(y_resampled).value_counts()"
   ]
  },
  {
   "cell_type": "code",
   "execution_count": 24,
   "id": "bd6139d7",
   "metadata": {
    "execution": {
     "iopub.execute_input": "2023-07-30T15:10:57.851098Z",
     "iopub.status.busy": "2023-07-30T15:10:57.850702Z",
     "iopub.status.idle": "2023-07-30T15:10:57.854988Z",
     "shell.execute_reply": "2023-07-30T15:10:57.853872Z"
    },
    "papermill": {
     "duration": 0.036596,
     "end_time": "2023-07-30T15:10:57.857400",
     "exception": false,
     "start_time": "2023-07-30T15:10:57.820804",
     "status": "completed"
    },
    "tags": []
   },
   "outputs": [],
   "source": [
    "# from imblearn.over_sampling import SMOTE\n",
    "# smote = SMOTE()\n",
    "# X_train, y_train = smote.fit_resample(x_train, y_train)\n",
    "# X_val, y_val = smote.fit_resample(x_val, y_val)\n",
    "\n",
    "# train_X_sm = pd.DataFrame(X_train, columns=X.columns)\n",
    "# valid_X_sm = pd.DataFrame(X_val, columns=X.columns)\n",
    "\n",
    "# print(train_Y_sm.value_counts())\n",
    "# print(valid_Y_sm.value_counts())"
   ]
  },
  {
   "cell_type": "raw",
   "id": "ff283610",
   "metadata": {
    "papermill": {
     "duration": 0.028078,
     "end_time": "2023-07-30T15:10:57.914162",
     "exception": false,
     "start_time": "2023-07-30T15:10:57.886084",
     "status": "completed"
    },
    "tags": []
   },
   "source": [
    "Separation of training data into two parts, for training and validation."
   ]
  },
  {
   "cell_type": "code",
   "execution_count": 25,
   "id": "567542ea",
   "metadata": {
    "execution": {
     "iopub.execute_input": "2023-07-30T15:10:57.974079Z",
     "iopub.status.busy": "2023-07-30T15:10:57.973653Z",
     "iopub.status.idle": "2023-07-30T15:10:57.978917Z",
     "shell.execute_reply": "2023-07-30T15:10:57.977799Z"
    },
    "papermill": {
     "duration": 0.038408,
     "end_time": "2023-07-30T15:10:57.981282",
     "exception": false,
     "start_time": "2023-07-30T15:10:57.942874",
     "status": "completed"
    },
    "tags": []
   },
   "outputs": [],
   "source": [
    "from sklearn.model_selection import train_test_split\n",
    "#x_train, x_val, y_train, y_val = train_test_split(X_resampled,y_resampled,test_size=0.1,random_state = 42)"
   ]
  },
  {
   "cell_type": "code",
   "execution_count": 26,
   "id": "43455647",
   "metadata": {
    "execution": {
     "iopub.execute_input": "2023-07-30T15:10:58.042920Z",
     "iopub.status.busy": "2023-07-30T15:10:58.042497Z",
     "iopub.status.idle": "2023-07-30T15:10:58.048535Z",
     "shell.execute_reply": "2023-07-30T15:10:58.047424Z"
    },
    "papermill": {
     "duration": 0.039702,
     "end_time": "2023-07-30T15:10:58.050999",
     "exception": false,
     "start_time": "2023-07-30T15:10:58.011297",
     "status": "completed"
    },
    "tags": []
   },
   "outputs": [],
   "source": [
    "from sklearn.preprocessing import LabelEncoder\n",
    "le = LabelEncoder()\n",
    "y_train_xgb = le.fit_transform(y_resampled)"
   ]
  },
  {
   "cell_type": "markdown",
   "id": "5b36b935",
   "metadata": {
    "papermill": {
     "duration": 0.028215,
     "end_time": "2023-07-30T15:10:58.107601",
     "exception": false,
     "start_time": "2023-07-30T15:10:58.079386",
     "status": "completed"
    },
    "tags": []
   },
   "source": [
    "###### 6.Choice of machine learning models."
   ]
  },
  {
   "cell_type": "raw",
   "id": "3f782aa3",
   "metadata": {
    "papermill": {
     "duration": 0.029471,
     "end_time": "2023-07-30T15:10:58.165293",
     "exception": false,
     "start_time": "2023-07-30T15:10:58.135822",
     "status": "completed"
    },
    "tags": []
   },
   "source": [
    "In my project, I'll be using ensemble methods, linear methods and other algorithms..\n",
    "1.RandomForestClassifier\n",
    "2.GradientBoostingClassifier \n",
    "3.XGBClassifier\n",
    "4.LogisticRegression\n"
   ]
  },
  {
   "cell_type": "code",
   "execution_count": 27,
   "id": "4e18b4d5",
   "metadata": {
    "execution": {
     "iopub.execute_input": "2023-07-30T15:10:58.225701Z",
     "iopub.status.busy": "2023-07-30T15:10:58.225009Z",
     "iopub.status.idle": "2023-07-30T15:10:58.231387Z",
     "shell.execute_reply": "2023-07-30T15:10:58.230264Z"
    },
    "papermill": {
     "duration": 0.040531,
     "end_time": "2023-07-30T15:10:58.234352",
     "exception": false,
     "start_time": "2023-07-30T15:10:58.193821",
     "status": "completed"
    },
    "tags": []
   },
   "outputs": [],
   "source": [
    "#Random Forest Classifier.\n",
    "random_forest_clf = Pipeline(\n",
    "    steps=[\n",
    "        #(\"preprocessor\", preprocessor),\n",
    "        (\"select_from_model\",SelectFromModel(RandomForestClassifier(n_estimators=100, max_depth=None,\n",
    "        min_samples_split=2, random_state=0),threshold='median')),\n",
    "         (\"classifier\", RandomForestClassifier(n_estimators=100, max_depth=None,\n",
    "         min_samples_split=2, random_state=0))\n",
    "         ]\n",
    "        )\n"
   ]
  },
  {
   "cell_type": "code",
   "execution_count": 28,
   "id": "9b8ca847",
   "metadata": {
    "execution": {
     "iopub.execute_input": "2023-07-30T15:10:58.294043Z",
     "iopub.status.busy": "2023-07-30T15:10:58.293647Z",
     "iopub.status.idle": "2023-07-30T15:10:59.458347Z",
     "shell.execute_reply": "2023-07-30T15:10:59.457044Z"
    },
    "papermill": {
     "duration": 1.197173,
     "end_time": "2023-07-30T15:10:59.460662",
     "exception": false,
     "start_time": "2023-07-30T15:10:58.263489",
     "status": "completed"
    },
    "tags": []
   },
   "outputs": [
    {
     "data": {
      "text/html": [
       "<style>#sk-container-id-1 {color: black;background-color: white;}#sk-container-id-1 pre{padding: 0;}#sk-container-id-1 div.sk-toggleable {background-color: white;}#sk-container-id-1 label.sk-toggleable__label {cursor: pointer;display: block;width: 100%;margin-bottom: 0;padding: 0.3em;box-sizing: border-box;text-align: center;}#sk-container-id-1 label.sk-toggleable__label-arrow:before {content: \"▸\";float: left;margin-right: 0.25em;color: #696969;}#sk-container-id-1 label.sk-toggleable__label-arrow:hover:before {color: black;}#sk-container-id-1 div.sk-estimator:hover label.sk-toggleable__label-arrow:before {color: black;}#sk-container-id-1 div.sk-toggleable__content {max-height: 0;max-width: 0;overflow: hidden;text-align: left;background-color: #f0f8ff;}#sk-container-id-1 div.sk-toggleable__content pre {margin: 0.2em;color: black;border-radius: 0.25em;background-color: #f0f8ff;}#sk-container-id-1 input.sk-toggleable__control:checked~div.sk-toggleable__content {max-height: 200px;max-width: 100%;overflow: auto;}#sk-container-id-1 input.sk-toggleable__control:checked~label.sk-toggleable__label-arrow:before {content: \"▾\";}#sk-container-id-1 div.sk-estimator input.sk-toggleable__control:checked~label.sk-toggleable__label {background-color: #d4ebff;}#sk-container-id-1 div.sk-label input.sk-toggleable__control:checked~label.sk-toggleable__label {background-color: #d4ebff;}#sk-container-id-1 input.sk-hidden--visually {border: 0;clip: rect(1px 1px 1px 1px);clip: rect(1px, 1px, 1px, 1px);height: 1px;margin: -1px;overflow: hidden;padding: 0;position: absolute;width: 1px;}#sk-container-id-1 div.sk-estimator {font-family: monospace;background-color: #f0f8ff;border: 1px dotted black;border-radius: 0.25em;box-sizing: border-box;margin-bottom: 0.5em;}#sk-container-id-1 div.sk-estimator:hover {background-color: #d4ebff;}#sk-container-id-1 div.sk-parallel-item::after {content: \"\";width: 100%;border-bottom: 1px solid gray;flex-grow: 1;}#sk-container-id-1 div.sk-label:hover label.sk-toggleable__label {background-color: #d4ebff;}#sk-container-id-1 div.sk-serial::before {content: \"\";position: absolute;border-left: 1px solid gray;box-sizing: border-box;top: 0;bottom: 0;left: 50%;z-index: 0;}#sk-container-id-1 div.sk-serial {display: flex;flex-direction: column;align-items: center;background-color: white;padding-right: 0.2em;padding-left: 0.2em;position: relative;}#sk-container-id-1 div.sk-item {position: relative;z-index: 1;}#sk-container-id-1 div.sk-parallel {display: flex;align-items: stretch;justify-content: center;background-color: white;position: relative;}#sk-container-id-1 div.sk-item::before, #sk-container-id-1 div.sk-parallel-item::before {content: \"\";position: absolute;border-left: 1px solid gray;box-sizing: border-box;top: 0;bottom: 0;left: 50%;z-index: -1;}#sk-container-id-1 div.sk-parallel-item {display: flex;flex-direction: column;z-index: 1;position: relative;background-color: white;}#sk-container-id-1 div.sk-parallel-item:first-child::after {align-self: flex-end;width: 50%;}#sk-container-id-1 div.sk-parallel-item:last-child::after {align-self: flex-start;width: 50%;}#sk-container-id-1 div.sk-parallel-item:only-child::after {width: 0;}#sk-container-id-1 div.sk-dashed-wrapped {border: 1px dashed gray;margin: 0 0.4em 0.5em 0.4em;box-sizing: border-box;padding-bottom: 0.4em;background-color: white;}#sk-container-id-1 div.sk-label label {font-family: monospace;font-weight: bold;display: inline-block;line-height: 1.2em;}#sk-container-id-1 div.sk-label-container {text-align: center;}#sk-container-id-1 div.sk-container {/* jupyter's `normalize.less` sets `[hidden] { display: none; }` but bootstrap.min.css set `[hidden] { display: none !important; }` so we also need the `!important` here to be able to override the default hidden behavior on the sphinx rendered scikit-learn.org. See: https://github.com/scikit-learn/scikit-learn/issues/21755 */display: inline-block !important;position: relative;}#sk-container-id-1 div.sk-text-repr-fallback {display: none;}</style><div id=\"sk-container-id-1\" class=\"sk-top-container\"><div class=\"sk-text-repr-fallback\"><pre>Pipeline(steps=[(&#x27;select_from_model&#x27;,\n",
       "                 SelectFromModel(estimator=RandomForestClassifier(random_state=0),\n",
       "                                 threshold=&#x27;median&#x27;)),\n",
       "                (&#x27;classifier&#x27;, RandomForestClassifier(random_state=0))])</pre><b>In a Jupyter environment, please rerun this cell to show the HTML representation or trust the notebook. <br />On GitHub, the HTML representation is unable to render, please try loading this page with nbviewer.org.</b></div><div class=\"sk-container\" hidden><div class=\"sk-item sk-dashed-wrapped\"><div class=\"sk-label-container\"><div class=\"sk-label sk-toggleable\"><input class=\"sk-toggleable__control sk-hidden--visually\" id=\"sk-estimator-id-1\" type=\"checkbox\" ><label for=\"sk-estimator-id-1\" class=\"sk-toggleable__label sk-toggleable__label-arrow\">Pipeline</label><div class=\"sk-toggleable__content\"><pre>Pipeline(steps=[(&#x27;select_from_model&#x27;,\n",
       "                 SelectFromModel(estimator=RandomForestClassifier(random_state=0),\n",
       "                                 threshold=&#x27;median&#x27;)),\n",
       "                (&#x27;classifier&#x27;, RandomForestClassifier(random_state=0))])</pre></div></div></div><div class=\"sk-serial\"><div class=\"sk-item sk-dashed-wrapped\"><div class=\"sk-label-container\"><div class=\"sk-label sk-toggleable\"><input class=\"sk-toggleable__control sk-hidden--visually\" id=\"sk-estimator-id-2\" type=\"checkbox\" ><label for=\"sk-estimator-id-2\" class=\"sk-toggleable__label sk-toggleable__label-arrow\">select_from_model: SelectFromModel</label><div class=\"sk-toggleable__content\"><pre>SelectFromModel(estimator=RandomForestClassifier(random_state=0),\n",
       "                threshold=&#x27;median&#x27;)</pre></div></div></div><div class=\"sk-parallel\"><div class=\"sk-parallel-item\"><div class=\"sk-item\"><div class=\"sk-label-container\"><div class=\"sk-label sk-toggleable\"><input class=\"sk-toggleable__control sk-hidden--visually\" id=\"sk-estimator-id-3\" type=\"checkbox\" ><label for=\"sk-estimator-id-3\" class=\"sk-toggleable__label sk-toggleable__label-arrow\">estimator: RandomForestClassifier</label><div class=\"sk-toggleable__content\"><pre>RandomForestClassifier(random_state=0)</pre></div></div></div><div class=\"sk-serial\"><div class=\"sk-item\"><div class=\"sk-estimator sk-toggleable\"><input class=\"sk-toggleable__control sk-hidden--visually\" id=\"sk-estimator-id-4\" type=\"checkbox\" ><label for=\"sk-estimator-id-4\" class=\"sk-toggleable__label sk-toggleable__label-arrow\">RandomForestClassifier</label><div class=\"sk-toggleable__content\"><pre>RandomForestClassifier(random_state=0)</pre></div></div></div></div></div></div></div></div><div class=\"sk-item\"><div class=\"sk-estimator sk-toggleable\"><input class=\"sk-toggleable__control sk-hidden--visually\" id=\"sk-estimator-id-5\" type=\"checkbox\" ><label for=\"sk-estimator-id-5\" class=\"sk-toggleable__label sk-toggleable__label-arrow\">RandomForestClassifier</label><div class=\"sk-toggleable__content\"><pre>RandomForestClassifier(random_state=0)</pre></div></div></div></div></div></div></div>"
      ],
      "text/plain": [
       "Pipeline(steps=[('select_from_model',\n",
       "                 SelectFromModel(estimator=RandomForestClassifier(random_state=0),\n",
       "                                 threshold='median')),\n",
       "                ('classifier', RandomForestClassifier(random_state=0))])"
      ]
     },
     "execution_count": 28,
     "metadata": {},
     "output_type": "execute_result"
    }
   ],
   "source": [
    "random_forest_clf.fit(X_resampled,y_resampled)"
   ]
  },
  {
   "cell_type": "code",
   "execution_count": 29,
   "id": "f4c94c44",
   "metadata": {
    "execution": {
     "iopub.execute_input": "2023-07-30T15:10:59.520345Z",
     "iopub.status.busy": "2023-07-30T15:10:59.519866Z",
     "iopub.status.idle": "2023-07-30T15:10:59.526556Z",
     "shell.execute_reply": "2023-07-30T15:10:59.525347Z"
    },
    "papermill": {
     "duration": 0.039211,
     "end_time": "2023-07-30T15:10:59.528887",
     "exception": false,
     "start_time": "2023-07-30T15:10:59.489676",
     "status": "completed"
    },
    "tags": []
   },
   "outputs": [],
   "source": [
    "#GradientBoostingClassifier \n",
    "gradient_boosting_clf = Pipeline(\n",
    "    steps=[\n",
    "        #(\"preprocessor\", preprocessor),\n",
    "        (\"select_from_model\",SelectFromModel(RandomForestClassifier(n_estimators=100, max_depth=None,\n",
    "        min_samples_split=2, random_state=0),threshold='median')),\n",
    "         (\"classifier\", GradientBoostingClassifier(n_estimators=100, learning_rate=1.0,\n",
    "         max_depth=1, random_state=0))\n",
    "         ]\n",
    "        )"
   ]
  },
  {
   "cell_type": "code",
   "execution_count": 30,
   "id": "b0fe50f6",
   "metadata": {
    "execution": {
     "iopub.execute_input": "2023-07-30T15:10:59.590804Z",
     "iopub.status.busy": "2023-07-30T15:10:59.590416Z",
     "iopub.status.idle": "2023-07-30T15:11:00.610444Z",
     "shell.execute_reply": "2023-07-30T15:11:00.609234Z"
    },
    "papermill": {
     "duration": 1.054138,
     "end_time": "2023-07-30T15:11:00.612938",
     "exception": false,
     "start_time": "2023-07-30T15:10:59.558800",
     "status": "completed"
    },
    "tags": []
   },
   "outputs": [
    {
     "data": {
      "text/html": [
       "<style>#sk-container-id-2 {color: black;background-color: white;}#sk-container-id-2 pre{padding: 0;}#sk-container-id-2 div.sk-toggleable {background-color: white;}#sk-container-id-2 label.sk-toggleable__label {cursor: pointer;display: block;width: 100%;margin-bottom: 0;padding: 0.3em;box-sizing: border-box;text-align: center;}#sk-container-id-2 label.sk-toggleable__label-arrow:before {content: \"▸\";float: left;margin-right: 0.25em;color: #696969;}#sk-container-id-2 label.sk-toggleable__label-arrow:hover:before {color: black;}#sk-container-id-2 div.sk-estimator:hover label.sk-toggleable__label-arrow:before {color: black;}#sk-container-id-2 div.sk-toggleable__content {max-height: 0;max-width: 0;overflow: hidden;text-align: left;background-color: #f0f8ff;}#sk-container-id-2 div.sk-toggleable__content pre {margin: 0.2em;color: black;border-radius: 0.25em;background-color: #f0f8ff;}#sk-container-id-2 input.sk-toggleable__control:checked~div.sk-toggleable__content {max-height: 200px;max-width: 100%;overflow: auto;}#sk-container-id-2 input.sk-toggleable__control:checked~label.sk-toggleable__label-arrow:before {content: \"▾\";}#sk-container-id-2 div.sk-estimator input.sk-toggleable__control:checked~label.sk-toggleable__label {background-color: #d4ebff;}#sk-container-id-2 div.sk-label input.sk-toggleable__control:checked~label.sk-toggleable__label {background-color: #d4ebff;}#sk-container-id-2 input.sk-hidden--visually {border: 0;clip: rect(1px 1px 1px 1px);clip: rect(1px, 1px, 1px, 1px);height: 1px;margin: -1px;overflow: hidden;padding: 0;position: absolute;width: 1px;}#sk-container-id-2 div.sk-estimator {font-family: monospace;background-color: #f0f8ff;border: 1px dotted black;border-radius: 0.25em;box-sizing: border-box;margin-bottom: 0.5em;}#sk-container-id-2 div.sk-estimator:hover {background-color: #d4ebff;}#sk-container-id-2 div.sk-parallel-item::after {content: \"\";width: 100%;border-bottom: 1px solid gray;flex-grow: 1;}#sk-container-id-2 div.sk-label:hover label.sk-toggleable__label {background-color: #d4ebff;}#sk-container-id-2 div.sk-serial::before {content: \"\";position: absolute;border-left: 1px solid gray;box-sizing: border-box;top: 0;bottom: 0;left: 50%;z-index: 0;}#sk-container-id-2 div.sk-serial {display: flex;flex-direction: column;align-items: center;background-color: white;padding-right: 0.2em;padding-left: 0.2em;position: relative;}#sk-container-id-2 div.sk-item {position: relative;z-index: 1;}#sk-container-id-2 div.sk-parallel {display: flex;align-items: stretch;justify-content: center;background-color: white;position: relative;}#sk-container-id-2 div.sk-item::before, #sk-container-id-2 div.sk-parallel-item::before {content: \"\";position: absolute;border-left: 1px solid gray;box-sizing: border-box;top: 0;bottom: 0;left: 50%;z-index: -1;}#sk-container-id-2 div.sk-parallel-item {display: flex;flex-direction: column;z-index: 1;position: relative;background-color: white;}#sk-container-id-2 div.sk-parallel-item:first-child::after {align-self: flex-end;width: 50%;}#sk-container-id-2 div.sk-parallel-item:last-child::after {align-self: flex-start;width: 50%;}#sk-container-id-2 div.sk-parallel-item:only-child::after {width: 0;}#sk-container-id-2 div.sk-dashed-wrapped {border: 1px dashed gray;margin: 0 0.4em 0.5em 0.4em;box-sizing: border-box;padding-bottom: 0.4em;background-color: white;}#sk-container-id-2 div.sk-label label {font-family: monospace;font-weight: bold;display: inline-block;line-height: 1.2em;}#sk-container-id-2 div.sk-label-container {text-align: center;}#sk-container-id-2 div.sk-container {/* jupyter's `normalize.less` sets `[hidden] { display: none; }` but bootstrap.min.css set `[hidden] { display: none !important; }` so we also need the `!important` here to be able to override the default hidden behavior on the sphinx rendered scikit-learn.org. See: https://github.com/scikit-learn/scikit-learn/issues/21755 */display: inline-block !important;position: relative;}#sk-container-id-2 div.sk-text-repr-fallback {display: none;}</style><div id=\"sk-container-id-2\" class=\"sk-top-container\"><div class=\"sk-text-repr-fallback\"><pre>Pipeline(steps=[(&#x27;select_from_model&#x27;,\n",
       "                 SelectFromModel(estimator=RandomForestClassifier(random_state=0),\n",
       "                                 threshold=&#x27;median&#x27;)),\n",
       "                (&#x27;classifier&#x27;,\n",
       "                 GradientBoostingClassifier(learning_rate=1.0, max_depth=1,\n",
       "                                            random_state=0))])</pre><b>In a Jupyter environment, please rerun this cell to show the HTML representation or trust the notebook. <br />On GitHub, the HTML representation is unable to render, please try loading this page with nbviewer.org.</b></div><div class=\"sk-container\" hidden><div class=\"sk-item sk-dashed-wrapped\"><div class=\"sk-label-container\"><div class=\"sk-label sk-toggleable\"><input class=\"sk-toggleable__control sk-hidden--visually\" id=\"sk-estimator-id-6\" type=\"checkbox\" ><label for=\"sk-estimator-id-6\" class=\"sk-toggleable__label sk-toggleable__label-arrow\">Pipeline</label><div class=\"sk-toggleable__content\"><pre>Pipeline(steps=[(&#x27;select_from_model&#x27;,\n",
       "                 SelectFromModel(estimator=RandomForestClassifier(random_state=0),\n",
       "                                 threshold=&#x27;median&#x27;)),\n",
       "                (&#x27;classifier&#x27;,\n",
       "                 GradientBoostingClassifier(learning_rate=1.0, max_depth=1,\n",
       "                                            random_state=0))])</pre></div></div></div><div class=\"sk-serial\"><div class=\"sk-item sk-dashed-wrapped\"><div class=\"sk-label-container\"><div class=\"sk-label sk-toggleable\"><input class=\"sk-toggleable__control sk-hidden--visually\" id=\"sk-estimator-id-7\" type=\"checkbox\" ><label for=\"sk-estimator-id-7\" class=\"sk-toggleable__label sk-toggleable__label-arrow\">select_from_model: SelectFromModel</label><div class=\"sk-toggleable__content\"><pre>SelectFromModel(estimator=RandomForestClassifier(random_state=0),\n",
       "                threshold=&#x27;median&#x27;)</pre></div></div></div><div class=\"sk-parallel\"><div class=\"sk-parallel-item\"><div class=\"sk-item\"><div class=\"sk-label-container\"><div class=\"sk-label sk-toggleable\"><input class=\"sk-toggleable__control sk-hidden--visually\" id=\"sk-estimator-id-8\" type=\"checkbox\" ><label for=\"sk-estimator-id-8\" class=\"sk-toggleable__label sk-toggleable__label-arrow\">estimator: RandomForestClassifier</label><div class=\"sk-toggleable__content\"><pre>RandomForestClassifier(random_state=0)</pre></div></div></div><div class=\"sk-serial\"><div class=\"sk-item\"><div class=\"sk-estimator sk-toggleable\"><input class=\"sk-toggleable__control sk-hidden--visually\" id=\"sk-estimator-id-9\" type=\"checkbox\" ><label for=\"sk-estimator-id-9\" class=\"sk-toggleable__label sk-toggleable__label-arrow\">RandomForestClassifier</label><div class=\"sk-toggleable__content\"><pre>RandomForestClassifier(random_state=0)</pre></div></div></div></div></div></div></div></div><div class=\"sk-item\"><div class=\"sk-estimator sk-toggleable\"><input class=\"sk-toggleable__control sk-hidden--visually\" id=\"sk-estimator-id-10\" type=\"checkbox\" ><label for=\"sk-estimator-id-10\" class=\"sk-toggleable__label sk-toggleable__label-arrow\">GradientBoostingClassifier</label><div class=\"sk-toggleable__content\"><pre>GradientBoostingClassifier(learning_rate=1.0, max_depth=1, random_state=0)</pre></div></div></div></div></div></div></div>"
      ],
      "text/plain": [
       "Pipeline(steps=[('select_from_model',\n",
       "                 SelectFromModel(estimator=RandomForestClassifier(random_state=0),\n",
       "                                 threshold='median')),\n",
       "                ('classifier',\n",
       "                 GradientBoostingClassifier(learning_rate=1.0, max_depth=1,\n",
       "                                            random_state=0))])"
      ]
     },
     "execution_count": 30,
     "metadata": {},
     "output_type": "execute_result"
    }
   ],
   "source": [
    "gradient_boosting_clf.fit(X_resampled,y_resampled)"
   ]
  },
  {
   "cell_type": "code",
   "execution_count": 31,
   "id": "b02ba62b",
   "metadata": {
    "execution": {
     "iopub.execute_input": "2023-07-30T15:11:00.676629Z",
     "iopub.status.busy": "2023-07-30T15:11:00.675647Z",
     "iopub.status.idle": "2023-07-30T15:11:00.680203Z",
     "shell.execute_reply": "2023-07-30T15:11:00.679407Z"
    },
    "papermill": {
     "duration": 0.039707,
     "end_time": "2023-07-30T15:11:00.682514",
     "exception": false,
     "start_time": "2023-07-30T15:11:00.642807",
     "status": "completed"
    },
    "tags": []
   },
   "outputs": [],
   "source": [
    "# y_val_xgb = le.transform(y_val)"
   ]
  },
  {
   "cell_type": "code",
   "execution_count": 32,
   "id": "79ee952a",
   "metadata": {
    "execution": {
     "iopub.execute_input": "2023-07-30T15:11:00.743446Z",
     "iopub.status.busy": "2023-07-30T15:11:00.743044Z",
     "iopub.status.idle": "2023-07-30T15:11:00.749673Z",
     "shell.execute_reply": "2023-07-30T15:11:00.748472Z"
    },
    "papermill": {
     "duration": 0.040226,
     "end_time": "2023-07-30T15:11:00.752122",
     "exception": false,
     "start_time": "2023-07-30T15:11:00.711896",
     "status": "completed"
    },
    "tags": []
   },
   "outputs": [],
   "source": [
    "#XGBClassifier\n",
    "xgb_clf = Pipeline(\n",
    "    steps=[\n",
    "        #(\"preprocessor\", preprocessor),\n",
    "        (\"select_from_model\",SelectFromModel(RandomForestClassifier(n_estimators=100, max_depth=None,\n",
    "        min_samples_split=2, random_state=0),threshold='median')),\n",
    "         (\"classifier\", XGBClassifier(objective=\"binary:logistic\", random_state=42))\n",
    "         ]\n",
    "        )"
   ]
  },
  {
   "cell_type": "code",
   "execution_count": 33,
   "id": "b9191231",
   "metadata": {
    "execution": {
     "iopub.execute_input": "2023-07-30T15:11:00.815178Z",
     "iopub.status.busy": "2023-07-30T15:11:00.814719Z",
     "iopub.status.idle": "2023-07-30T15:11:01.656260Z",
     "shell.execute_reply": "2023-07-30T15:11:01.655431Z"
    },
    "papermill": {
     "duration": 0.875605,
     "end_time": "2023-07-30T15:11:01.658423",
     "exception": false,
     "start_time": "2023-07-30T15:11:00.782818",
     "status": "completed"
    },
    "tags": []
   },
   "outputs": [
    {
     "data": {
      "text/html": [
       "<style>#sk-container-id-3 {color: black;background-color: white;}#sk-container-id-3 pre{padding: 0;}#sk-container-id-3 div.sk-toggleable {background-color: white;}#sk-container-id-3 label.sk-toggleable__label {cursor: pointer;display: block;width: 100%;margin-bottom: 0;padding: 0.3em;box-sizing: border-box;text-align: center;}#sk-container-id-3 label.sk-toggleable__label-arrow:before {content: \"▸\";float: left;margin-right: 0.25em;color: #696969;}#sk-container-id-3 label.sk-toggleable__label-arrow:hover:before {color: black;}#sk-container-id-3 div.sk-estimator:hover label.sk-toggleable__label-arrow:before {color: black;}#sk-container-id-3 div.sk-toggleable__content {max-height: 0;max-width: 0;overflow: hidden;text-align: left;background-color: #f0f8ff;}#sk-container-id-3 div.sk-toggleable__content pre {margin: 0.2em;color: black;border-radius: 0.25em;background-color: #f0f8ff;}#sk-container-id-3 input.sk-toggleable__control:checked~div.sk-toggleable__content {max-height: 200px;max-width: 100%;overflow: auto;}#sk-container-id-3 input.sk-toggleable__control:checked~label.sk-toggleable__label-arrow:before {content: \"▾\";}#sk-container-id-3 div.sk-estimator input.sk-toggleable__control:checked~label.sk-toggleable__label {background-color: #d4ebff;}#sk-container-id-3 div.sk-label input.sk-toggleable__control:checked~label.sk-toggleable__label {background-color: #d4ebff;}#sk-container-id-3 input.sk-hidden--visually {border: 0;clip: rect(1px 1px 1px 1px);clip: rect(1px, 1px, 1px, 1px);height: 1px;margin: -1px;overflow: hidden;padding: 0;position: absolute;width: 1px;}#sk-container-id-3 div.sk-estimator {font-family: monospace;background-color: #f0f8ff;border: 1px dotted black;border-radius: 0.25em;box-sizing: border-box;margin-bottom: 0.5em;}#sk-container-id-3 div.sk-estimator:hover {background-color: #d4ebff;}#sk-container-id-3 div.sk-parallel-item::after {content: \"\";width: 100%;border-bottom: 1px solid gray;flex-grow: 1;}#sk-container-id-3 div.sk-label:hover label.sk-toggleable__label {background-color: #d4ebff;}#sk-container-id-3 div.sk-serial::before {content: \"\";position: absolute;border-left: 1px solid gray;box-sizing: border-box;top: 0;bottom: 0;left: 50%;z-index: 0;}#sk-container-id-3 div.sk-serial {display: flex;flex-direction: column;align-items: center;background-color: white;padding-right: 0.2em;padding-left: 0.2em;position: relative;}#sk-container-id-3 div.sk-item {position: relative;z-index: 1;}#sk-container-id-3 div.sk-parallel {display: flex;align-items: stretch;justify-content: center;background-color: white;position: relative;}#sk-container-id-3 div.sk-item::before, #sk-container-id-3 div.sk-parallel-item::before {content: \"\";position: absolute;border-left: 1px solid gray;box-sizing: border-box;top: 0;bottom: 0;left: 50%;z-index: -1;}#sk-container-id-3 div.sk-parallel-item {display: flex;flex-direction: column;z-index: 1;position: relative;background-color: white;}#sk-container-id-3 div.sk-parallel-item:first-child::after {align-self: flex-end;width: 50%;}#sk-container-id-3 div.sk-parallel-item:last-child::after {align-self: flex-start;width: 50%;}#sk-container-id-3 div.sk-parallel-item:only-child::after {width: 0;}#sk-container-id-3 div.sk-dashed-wrapped {border: 1px dashed gray;margin: 0 0.4em 0.5em 0.4em;box-sizing: border-box;padding-bottom: 0.4em;background-color: white;}#sk-container-id-3 div.sk-label label {font-family: monospace;font-weight: bold;display: inline-block;line-height: 1.2em;}#sk-container-id-3 div.sk-label-container {text-align: center;}#sk-container-id-3 div.sk-container {/* jupyter's `normalize.less` sets `[hidden] { display: none; }` but bootstrap.min.css set `[hidden] { display: none !important; }` so we also need the `!important` here to be able to override the default hidden behavior on the sphinx rendered scikit-learn.org. See: https://github.com/scikit-learn/scikit-learn/issues/21755 */display: inline-block !important;position: relative;}#sk-container-id-3 div.sk-text-repr-fallback {display: none;}</style><div id=\"sk-container-id-3\" class=\"sk-top-container\"><div class=\"sk-text-repr-fallback\"><pre>Pipeline(steps=[(&#x27;select_from_model&#x27;,\n",
       "                 SelectFromModel(estimator=RandomForestClassifier(random_state=0),\n",
       "                                 threshold=&#x27;median&#x27;)),\n",
       "                (&#x27;classifier&#x27;,\n",
       "                 XGBClassifier(base_score=None, booster=None, callbacks=None,\n",
       "                               colsample_bylevel=None, colsample_bynode=None,\n",
       "                               colsample_bytree=None,\n",
       "                               early_stopping_rounds=None,\n",
       "                               enable_categorical=False, eval_metric=None,\n",
       "                               feature_types=None,...one,\n",
       "                               grow_policy=None, importance_type=None,\n",
       "                               interaction_constraints=None, learning_rate=None,\n",
       "                               max_bin=None, max_cat_threshold=None,\n",
       "                               max_cat_to_onehot=None, max_delta_step=None,\n",
       "                               max_depth=None, max_leaves=None,\n",
       "                               min_child_weight=None, missing=nan,\n",
       "                               monotone_constraints=None, n_estimators=100,\n",
       "                               n_jobs=None, num_parallel_tree=None,\n",
       "                               predictor=None, random_state=42, ...))])</pre><b>In a Jupyter environment, please rerun this cell to show the HTML representation or trust the notebook. <br />On GitHub, the HTML representation is unable to render, please try loading this page with nbviewer.org.</b></div><div class=\"sk-container\" hidden><div class=\"sk-item sk-dashed-wrapped\"><div class=\"sk-label-container\"><div class=\"sk-label sk-toggleable\"><input class=\"sk-toggleable__control sk-hidden--visually\" id=\"sk-estimator-id-11\" type=\"checkbox\" ><label for=\"sk-estimator-id-11\" class=\"sk-toggleable__label sk-toggleable__label-arrow\">Pipeline</label><div class=\"sk-toggleable__content\"><pre>Pipeline(steps=[(&#x27;select_from_model&#x27;,\n",
       "                 SelectFromModel(estimator=RandomForestClassifier(random_state=0),\n",
       "                                 threshold=&#x27;median&#x27;)),\n",
       "                (&#x27;classifier&#x27;,\n",
       "                 XGBClassifier(base_score=None, booster=None, callbacks=None,\n",
       "                               colsample_bylevel=None, colsample_bynode=None,\n",
       "                               colsample_bytree=None,\n",
       "                               early_stopping_rounds=None,\n",
       "                               enable_categorical=False, eval_metric=None,\n",
       "                               feature_types=None,...one,\n",
       "                               grow_policy=None, importance_type=None,\n",
       "                               interaction_constraints=None, learning_rate=None,\n",
       "                               max_bin=None, max_cat_threshold=None,\n",
       "                               max_cat_to_onehot=None, max_delta_step=None,\n",
       "                               max_depth=None, max_leaves=None,\n",
       "                               min_child_weight=None, missing=nan,\n",
       "                               monotone_constraints=None, n_estimators=100,\n",
       "                               n_jobs=None, num_parallel_tree=None,\n",
       "                               predictor=None, random_state=42, ...))])</pre></div></div></div><div class=\"sk-serial\"><div class=\"sk-item sk-dashed-wrapped\"><div class=\"sk-label-container\"><div class=\"sk-label sk-toggleable\"><input class=\"sk-toggleable__control sk-hidden--visually\" id=\"sk-estimator-id-12\" type=\"checkbox\" ><label for=\"sk-estimator-id-12\" class=\"sk-toggleable__label sk-toggleable__label-arrow\">select_from_model: SelectFromModel</label><div class=\"sk-toggleable__content\"><pre>SelectFromModel(estimator=RandomForestClassifier(random_state=0),\n",
       "                threshold=&#x27;median&#x27;)</pre></div></div></div><div class=\"sk-parallel\"><div class=\"sk-parallel-item\"><div class=\"sk-item\"><div class=\"sk-label-container\"><div class=\"sk-label sk-toggleable\"><input class=\"sk-toggleable__control sk-hidden--visually\" id=\"sk-estimator-id-13\" type=\"checkbox\" ><label for=\"sk-estimator-id-13\" class=\"sk-toggleable__label sk-toggleable__label-arrow\">estimator: RandomForestClassifier</label><div class=\"sk-toggleable__content\"><pre>RandomForestClassifier(random_state=0)</pre></div></div></div><div class=\"sk-serial\"><div class=\"sk-item\"><div class=\"sk-estimator sk-toggleable\"><input class=\"sk-toggleable__control sk-hidden--visually\" id=\"sk-estimator-id-14\" type=\"checkbox\" ><label for=\"sk-estimator-id-14\" class=\"sk-toggleable__label sk-toggleable__label-arrow\">RandomForestClassifier</label><div class=\"sk-toggleable__content\"><pre>RandomForestClassifier(random_state=0)</pre></div></div></div></div></div></div></div></div><div class=\"sk-item\"><div class=\"sk-estimator sk-toggleable\"><input class=\"sk-toggleable__control sk-hidden--visually\" id=\"sk-estimator-id-15\" type=\"checkbox\" ><label for=\"sk-estimator-id-15\" class=\"sk-toggleable__label sk-toggleable__label-arrow\">XGBClassifier</label><div class=\"sk-toggleable__content\"><pre>XGBClassifier(base_score=None, booster=None, callbacks=None,\n",
       "              colsample_bylevel=None, colsample_bynode=None,\n",
       "              colsample_bytree=None, early_stopping_rounds=None,\n",
       "              enable_categorical=False, eval_metric=None, feature_types=None,\n",
       "              gamma=None, gpu_id=None, grow_policy=None, importance_type=None,\n",
       "              interaction_constraints=None, learning_rate=None, max_bin=None,\n",
       "              max_cat_threshold=None, max_cat_to_onehot=None,\n",
       "              max_delta_step=None, max_depth=None, max_leaves=None,\n",
       "              min_child_weight=None, missing=nan, monotone_constraints=None,\n",
       "              n_estimators=100, n_jobs=None, num_parallel_tree=None,\n",
       "              predictor=None, random_state=42, ...)</pre></div></div></div></div></div></div></div>"
      ],
      "text/plain": [
       "Pipeline(steps=[('select_from_model',\n",
       "                 SelectFromModel(estimator=RandomForestClassifier(random_state=0),\n",
       "                                 threshold='median')),\n",
       "                ('classifier',\n",
       "                 XGBClassifier(base_score=None, booster=None, callbacks=None,\n",
       "                               colsample_bylevel=None, colsample_bynode=None,\n",
       "                               colsample_bytree=None,\n",
       "                               early_stopping_rounds=None,\n",
       "                               enable_categorical=False, eval_metric=None,\n",
       "                               feature_types=None,...one,\n",
       "                               grow_policy=None, importance_type=None,\n",
       "                               interaction_constraints=None, learning_rate=None,\n",
       "                               max_bin=None, max_cat_threshold=None,\n",
       "                               max_cat_to_onehot=None, max_delta_step=None,\n",
       "                               max_depth=None, max_leaves=None,\n",
       "                               min_child_weight=None, missing=nan,\n",
       "                               monotone_constraints=None, n_estimators=100,\n",
       "                               n_jobs=None, num_parallel_tree=None,\n",
       "                               predictor=None, random_state=42, ...))])"
      ]
     },
     "execution_count": 33,
     "metadata": {},
     "output_type": "execute_result"
    }
   ],
   "source": [
    "xgb_clf.fit(X_resampled,y_train_xgb)"
   ]
  },
  {
   "cell_type": "code",
   "execution_count": 34,
   "id": "65b3d418",
   "metadata": {
    "execution": {
     "iopub.execute_input": "2023-07-30T15:11:01.725473Z",
     "iopub.status.busy": "2023-07-30T15:11:01.724738Z",
     "iopub.status.idle": "2023-07-30T15:11:01.730015Z",
     "shell.execute_reply": "2023-07-30T15:11:01.729245Z"
    },
    "papermill": {
     "duration": 0.040462,
     "end_time": "2023-07-30T15:11:01.732428",
     "exception": false,
     "start_time": "2023-07-30T15:11:01.691966",
     "status": "completed"
    },
    "tags": []
   },
   "outputs": [],
   "source": [
    "#LogisticRegression\n",
    "logistic_clf = Pipeline(\n",
    "    steps=[\n",
    "        #(\"preprocessor\", preprocessor),\n",
    "        (\"select_from_model\",SelectFromModel(RandomForestClassifier(n_estimators=100, max_depth=None,\n",
    "        min_samples_split=2, random_state=0),threshold='median')),\n",
    "         (\"classifier\", LogisticRegression(random_state=42))\n",
    "         ]\n",
    "        )"
   ]
  },
  {
   "cell_type": "code",
   "execution_count": 35,
   "id": "74f905b3",
   "metadata": {
    "execution": {
     "iopub.execute_input": "2023-07-30T15:11:01.795637Z",
     "iopub.status.busy": "2023-07-30T15:11:01.795213Z",
     "iopub.status.idle": "2023-07-30T15:11:02.493027Z",
     "shell.execute_reply": "2023-07-30T15:11:02.491251Z"
    },
    "papermill": {
     "duration": 0.733486,
     "end_time": "2023-07-30T15:11:02.497008",
     "exception": false,
     "start_time": "2023-07-30T15:11:01.763522",
     "status": "completed"
    },
    "tags": []
   },
   "outputs": [
    {
     "data": {
      "text/html": [
       "<style>#sk-container-id-4 {color: black;background-color: white;}#sk-container-id-4 pre{padding: 0;}#sk-container-id-4 div.sk-toggleable {background-color: white;}#sk-container-id-4 label.sk-toggleable__label {cursor: pointer;display: block;width: 100%;margin-bottom: 0;padding: 0.3em;box-sizing: border-box;text-align: center;}#sk-container-id-4 label.sk-toggleable__label-arrow:before {content: \"▸\";float: left;margin-right: 0.25em;color: #696969;}#sk-container-id-4 label.sk-toggleable__label-arrow:hover:before {color: black;}#sk-container-id-4 div.sk-estimator:hover label.sk-toggleable__label-arrow:before {color: black;}#sk-container-id-4 div.sk-toggleable__content {max-height: 0;max-width: 0;overflow: hidden;text-align: left;background-color: #f0f8ff;}#sk-container-id-4 div.sk-toggleable__content pre {margin: 0.2em;color: black;border-radius: 0.25em;background-color: #f0f8ff;}#sk-container-id-4 input.sk-toggleable__control:checked~div.sk-toggleable__content {max-height: 200px;max-width: 100%;overflow: auto;}#sk-container-id-4 input.sk-toggleable__control:checked~label.sk-toggleable__label-arrow:before {content: \"▾\";}#sk-container-id-4 div.sk-estimator input.sk-toggleable__control:checked~label.sk-toggleable__label {background-color: #d4ebff;}#sk-container-id-4 div.sk-label input.sk-toggleable__control:checked~label.sk-toggleable__label {background-color: #d4ebff;}#sk-container-id-4 input.sk-hidden--visually {border: 0;clip: rect(1px 1px 1px 1px);clip: rect(1px, 1px, 1px, 1px);height: 1px;margin: -1px;overflow: hidden;padding: 0;position: absolute;width: 1px;}#sk-container-id-4 div.sk-estimator {font-family: monospace;background-color: #f0f8ff;border: 1px dotted black;border-radius: 0.25em;box-sizing: border-box;margin-bottom: 0.5em;}#sk-container-id-4 div.sk-estimator:hover {background-color: #d4ebff;}#sk-container-id-4 div.sk-parallel-item::after {content: \"\";width: 100%;border-bottom: 1px solid gray;flex-grow: 1;}#sk-container-id-4 div.sk-label:hover label.sk-toggleable__label {background-color: #d4ebff;}#sk-container-id-4 div.sk-serial::before {content: \"\";position: absolute;border-left: 1px solid gray;box-sizing: border-box;top: 0;bottom: 0;left: 50%;z-index: 0;}#sk-container-id-4 div.sk-serial {display: flex;flex-direction: column;align-items: center;background-color: white;padding-right: 0.2em;padding-left: 0.2em;position: relative;}#sk-container-id-4 div.sk-item {position: relative;z-index: 1;}#sk-container-id-4 div.sk-parallel {display: flex;align-items: stretch;justify-content: center;background-color: white;position: relative;}#sk-container-id-4 div.sk-item::before, #sk-container-id-4 div.sk-parallel-item::before {content: \"\";position: absolute;border-left: 1px solid gray;box-sizing: border-box;top: 0;bottom: 0;left: 50%;z-index: -1;}#sk-container-id-4 div.sk-parallel-item {display: flex;flex-direction: column;z-index: 1;position: relative;background-color: white;}#sk-container-id-4 div.sk-parallel-item:first-child::after {align-self: flex-end;width: 50%;}#sk-container-id-4 div.sk-parallel-item:last-child::after {align-self: flex-start;width: 50%;}#sk-container-id-4 div.sk-parallel-item:only-child::after {width: 0;}#sk-container-id-4 div.sk-dashed-wrapped {border: 1px dashed gray;margin: 0 0.4em 0.5em 0.4em;box-sizing: border-box;padding-bottom: 0.4em;background-color: white;}#sk-container-id-4 div.sk-label label {font-family: monospace;font-weight: bold;display: inline-block;line-height: 1.2em;}#sk-container-id-4 div.sk-label-container {text-align: center;}#sk-container-id-4 div.sk-container {/* jupyter's `normalize.less` sets `[hidden] { display: none; }` but bootstrap.min.css set `[hidden] { display: none !important; }` so we also need the `!important` here to be able to override the default hidden behavior on the sphinx rendered scikit-learn.org. See: https://github.com/scikit-learn/scikit-learn/issues/21755 */display: inline-block !important;position: relative;}#sk-container-id-4 div.sk-text-repr-fallback {display: none;}</style><div id=\"sk-container-id-4\" class=\"sk-top-container\"><div class=\"sk-text-repr-fallback\"><pre>Pipeline(steps=[(&#x27;select_from_model&#x27;,\n",
       "                 SelectFromModel(estimator=RandomForestClassifier(random_state=0),\n",
       "                                 threshold=&#x27;median&#x27;)),\n",
       "                (&#x27;classifier&#x27;, LogisticRegression(random_state=42))])</pre><b>In a Jupyter environment, please rerun this cell to show the HTML representation or trust the notebook. <br />On GitHub, the HTML representation is unable to render, please try loading this page with nbviewer.org.</b></div><div class=\"sk-container\" hidden><div class=\"sk-item sk-dashed-wrapped\"><div class=\"sk-label-container\"><div class=\"sk-label sk-toggleable\"><input class=\"sk-toggleable__control sk-hidden--visually\" id=\"sk-estimator-id-16\" type=\"checkbox\" ><label for=\"sk-estimator-id-16\" class=\"sk-toggleable__label sk-toggleable__label-arrow\">Pipeline</label><div class=\"sk-toggleable__content\"><pre>Pipeline(steps=[(&#x27;select_from_model&#x27;,\n",
       "                 SelectFromModel(estimator=RandomForestClassifier(random_state=0),\n",
       "                                 threshold=&#x27;median&#x27;)),\n",
       "                (&#x27;classifier&#x27;, LogisticRegression(random_state=42))])</pre></div></div></div><div class=\"sk-serial\"><div class=\"sk-item sk-dashed-wrapped\"><div class=\"sk-label-container\"><div class=\"sk-label sk-toggleable\"><input class=\"sk-toggleable__control sk-hidden--visually\" id=\"sk-estimator-id-17\" type=\"checkbox\" ><label for=\"sk-estimator-id-17\" class=\"sk-toggleable__label sk-toggleable__label-arrow\">select_from_model: SelectFromModel</label><div class=\"sk-toggleable__content\"><pre>SelectFromModel(estimator=RandomForestClassifier(random_state=0),\n",
       "                threshold=&#x27;median&#x27;)</pre></div></div></div><div class=\"sk-parallel\"><div class=\"sk-parallel-item\"><div class=\"sk-item\"><div class=\"sk-label-container\"><div class=\"sk-label sk-toggleable\"><input class=\"sk-toggleable__control sk-hidden--visually\" id=\"sk-estimator-id-18\" type=\"checkbox\" ><label for=\"sk-estimator-id-18\" class=\"sk-toggleable__label sk-toggleable__label-arrow\">estimator: RandomForestClassifier</label><div class=\"sk-toggleable__content\"><pre>RandomForestClassifier(random_state=0)</pre></div></div></div><div class=\"sk-serial\"><div class=\"sk-item\"><div class=\"sk-estimator sk-toggleable\"><input class=\"sk-toggleable__control sk-hidden--visually\" id=\"sk-estimator-id-19\" type=\"checkbox\" ><label for=\"sk-estimator-id-19\" class=\"sk-toggleable__label sk-toggleable__label-arrow\">RandomForestClassifier</label><div class=\"sk-toggleable__content\"><pre>RandomForestClassifier(random_state=0)</pre></div></div></div></div></div></div></div></div><div class=\"sk-item\"><div class=\"sk-estimator sk-toggleable\"><input class=\"sk-toggleable__control sk-hidden--visually\" id=\"sk-estimator-id-20\" type=\"checkbox\" ><label for=\"sk-estimator-id-20\" class=\"sk-toggleable__label sk-toggleable__label-arrow\">LogisticRegression</label><div class=\"sk-toggleable__content\"><pre>LogisticRegression(random_state=42)</pre></div></div></div></div></div></div></div>"
      ],
      "text/plain": [
       "Pipeline(steps=[('select_from_model',\n",
       "                 SelectFromModel(estimator=RandomForestClassifier(random_state=0),\n",
       "                                 threshold='median')),\n",
       "                ('classifier', LogisticRegression(random_state=42))])"
      ]
     },
     "execution_count": 35,
     "metadata": {},
     "output_type": "execute_result"
    }
   ],
   "source": [
    "logistic_clf.fit(X_resampled,y_resampled)"
   ]
  },
  {
   "cell_type": "code",
   "execution_count": 36,
   "id": "aa4c1dc9",
   "metadata": {
    "execution": {
     "iopub.execute_input": "2023-07-30T15:11:02.601329Z",
     "iopub.status.busy": "2023-07-30T15:11:02.600927Z",
     "iopub.status.idle": "2023-07-30T15:11:02.607085Z",
     "shell.execute_reply": "2023-07-30T15:11:02.605852Z"
    },
    "papermill": {
     "duration": 0.04684,
     "end_time": "2023-07-30T15:11:02.609559",
     "exception": false,
     "start_time": "2023-07-30T15:11:02.562719",
     "status": "completed"
    },
    "tags": []
   },
   "outputs": [],
   "source": [
    "#DecisionTreeClassifier\n",
    "dtree_clf = Pipeline(\n",
    "    steps=[\n",
    "        #(\"preprocessor\", preprocessor),\n",
    "        (\"select_from_model\",SelectFromModel(RandomForestClassifier(n_estimators=100, max_depth=None,\n",
    "       min_samples_split=2, random_state=0),threshold='median')),\n",
    "         (\"classifier\", DecisionTreeClassifier(random_state=42))\n",
    "         ]\n",
    "        )"
   ]
  },
  {
   "cell_type": "code",
   "execution_count": 37,
   "id": "691b9c49",
   "metadata": {
    "execution": {
     "iopub.execute_input": "2023-07-30T15:11:02.670807Z",
     "iopub.status.busy": "2023-07-30T15:11:02.670405Z",
     "iopub.status.idle": "2023-07-30T15:11:03.331553Z",
     "shell.execute_reply": "2023-07-30T15:11:03.330278Z"
    },
    "papermill": {
     "duration": 0.695238,
     "end_time": "2023-07-30T15:11:03.334282",
     "exception": false,
     "start_time": "2023-07-30T15:11:02.639044",
     "status": "completed"
    },
    "tags": []
   },
   "outputs": [
    {
     "data": {
      "text/html": [
       "<style>#sk-container-id-5 {color: black;background-color: white;}#sk-container-id-5 pre{padding: 0;}#sk-container-id-5 div.sk-toggleable {background-color: white;}#sk-container-id-5 label.sk-toggleable__label {cursor: pointer;display: block;width: 100%;margin-bottom: 0;padding: 0.3em;box-sizing: border-box;text-align: center;}#sk-container-id-5 label.sk-toggleable__label-arrow:before {content: \"▸\";float: left;margin-right: 0.25em;color: #696969;}#sk-container-id-5 label.sk-toggleable__label-arrow:hover:before {color: black;}#sk-container-id-5 div.sk-estimator:hover label.sk-toggleable__label-arrow:before {color: black;}#sk-container-id-5 div.sk-toggleable__content {max-height: 0;max-width: 0;overflow: hidden;text-align: left;background-color: #f0f8ff;}#sk-container-id-5 div.sk-toggleable__content pre {margin: 0.2em;color: black;border-radius: 0.25em;background-color: #f0f8ff;}#sk-container-id-5 input.sk-toggleable__control:checked~div.sk-toggleable__content {max-height: 200px;max-width: 100%;overflow: auto;}#sk-container-id-5 input.sk-toggleable__control:checked~label.sk-toggleable__label-arrow:before {content: \"▾\";}#sk-container-id-5 div.sk-estimator input.sk-toggleable__control:checked~label.sk-toggleable__label {background-color: #d4ebff;}#sk-container-id-5 div.sk-label input.sk-toggleable__control:checked~label.sk-toggleable__label {background-color: #d4ebff;}#sk-container-id-5 input.sk-hidden--visually {border: 0;clip: rect(1px 1px 1px 1px);clip: rect(1px, 1px, 1px, 1px);height: 1px;margin: -1px;overflow: hidden;padding: 0;position: absolute;width: 1px;}#sk-container-id-5 div.sk-estimator {font-family: monospace;background-color: #f0f8ff;border: 1px dotted black;border-radius: 0.25em;box-sizing: border-box;margin-bottom: 0.5em;}#sk-container-id-5 div.sk-estimator:hover {background-color: #d4ebff;}#sk-container-id-5 div.sk-parallel-item::after {content: \"\";width: 100%;border-bottom: 1px solid gray;flex-grow: 1;}#sk-container-id-5 div.sk-label:hover label.sk-toggleable__label {background-color: #d4ebff;}#sk-container-id-5 div.sk-serial::before {content: \"\";position: absolute;border-left: 1px solid gray;box-sizing: border-box;top: 0;bottom: 0;left: 50%;z-index: 0;}#sk-container-id-5 div.sk-serial {display: flex;flex-direction: column;align-items: center;background-color: white;padding-right: 0.2em;padding-left: 0.2em;position: relative;}#sk-container-id-5 div.sk-item {position: relative;z-index: 1;}#sk-container-id-5 div.sk-parallel {display: flex;align-items: stretch;justify-content: center;background-color: white;position: relative;}#sk-container-id-5 div.sk-item::before, #sk-container-id-5 div.sk-parallel-item::before {content: \"\";position: absolute;border-left: 1px solid gray;box-sizing: border-box;top: 0;bottom: 0;left: 50%;z-index: -1;}#sk-container-id-5 div.sk-parallel-item {display: flex;flex-direction: column;z-index: 1;position: relative;background-color: white;}#sk-container-id-5 div.sk-parallel-item:first-child::after {align-self: flex-end;width: 50%;}#sk-container-id-5 div.sk-parallel-item:last-child::after {align-self: flex-start;width: 50%;}#sk-container-id-5 div.sk-parallel-item:only-child::after {width: 0;}#sk-container-id-5 div.sk-dashed-wrapped {border: 1px dashed gray;margin: 0 0.4em 0.5em 0.4em;box-sizing: border-box;padding-bottom: 0.4em;background-color: white;}#sk-container-id-5 div.sk-label label {font-family: monospace;font-weight: bold;display: inline-block;line-height: 1.2em;}#sk-container-id-5 div.sk-label-container {text-align: center;}#sk-container-id-5 div.sk-container {/* jupyter's `normalize.less` sets `[hidden] { display: none; }` but bootstrap.min.css set `[hidden] { display: none !important; }` so we also need the `!important` here to be able to override the default hidden behavior on the sphinx rendered scikit-learn.org. See: https://github.com/scikit-learn/scikit-learn/issues/21755 */display: inline-block !important;position: relative;}#sk-container-id-5 div.sk-text-repr-fallback {display: none;}</style><div id=\"sk-container-id-5\" class=\"sk-top-container\"><div class=\"sk-text-repr-fallback\"><pre>Pipeline(steps=[(&#x27;select_from_model&#x27;,\n",
       "                 SelectFromModel(estimator=RandomForestClassifier(random_state=0),\n",
       "                                 threshold=&#x27;median&#x27;)),\n",
       "                (&#x27;classifier&#x27;, DecisionTreeClassifier(random_state=42))])</pre><b>In a Jupyter environment, please rerun this cell to show the HTML representation or trust the notebook. <br />On GitHub, the HTML representation is unable to render, please try loading this page with nbviewer.org.</b></div><div class=\"sk-container\" hidden><div class=\"sk-item sk-dashed-wrapped\"><div class=\"sk-label-container\"><div class=\"sk-label sk-toggleable\"><input class=\"sk-toggleable__control sk-hidden--visually\" id=\"sk-estimator-id-21\" type=\"checkbox\" ><label for=\"sk-estimator-id-21\" class=\"sk-toggleable__label sk-toggleable__label-arrow\">Pipeline</label><div class=\"sk-toggleable__content\"><pre>Pipeline(steps=[(&#x27;select_from_model&#x27;,\n",
       "                 SelectFromModel(estimator=RandomForestClassifier(random_state=0),\n",
       "                                 threshold=&#x27;median&#x27;)),\n",
       "                (&#x27;classifier&#x27;, DecisionTreeClassifier(random_state=42))])</pre></div></div></div><div class=\"sk-serial\"><div class=\"sk-item sk-dashed-wrapped\"><div class=\"sk-label-container\"><div class=\"sk-label sk-toggleable\"><input class=\"sk-toggleable__control sk-hidden--visually\" id=\"sk-estimator-id-22\" type=\"checkbox\" ><label for=\"sk-estimator-id-22\" class=\"sk-toggleable__label sk-toggleable__label-arrow\">select_from_model: SelectFromModel</label><div class=\"sk-toggleable__content\"><pre>SelectFromModel(estimator=RandomForestClassifier(random_state=0),\n",
       "                threshold=&#x27;median&#x27;)</pre></div></div></div><div class=\"sk-parallel\"><div class=\"sk-parallel-item\"><div class=\"sk-item\"><div class=\"sk-label-container\"><div class=\"sk-label sk-toggleable\"><input class=\"sk-toggleable__control sk-hidden--visually\" id=\"sk-estimator-id-23\" type=\"checkbox\" ><label for=\"sk-estimator-id-23\" class=\"sk-toggleable__label sk-toggleable__label-arrow\">estimator: RandomForestClassifier</label><div class=\"sk-toggleable__content\"><pre>RandomForestClassifier(random_state=0)</pre></div></div></div><div class=\"sk-serial\"><div class=\"sk-item\"><div class=\"sk-estimator sk-toggleable\"><input class=\"sk-toggleable__control sk-hidden--visually\" id=\"sk-estimator-id-24\" type=\"checkbox\" ><label for=\"sk-estimator-id-24\" class=\"sk-toggleable__label sk-toggleable__label-arrow\">RandomForestClassifier</label><div class=\"sk-toggleable__content\"><pre>RandomForestClassifier(random_state=0)</pre></div></div></div></div></div></div></div></div><div class=\"sk-item\"><div class=\"sk-estimator sk-toggleable\"><input class=\"sk-toggleable__control sk-hidden--visually\" id=\"sk-estimator-id-25\" type=\"checkbox\" ><label for=\"sk-estimator-id-25\" class=\"sk-toggleable__label sk-toggleable__label-arrow\">DecisionTreeClassifier</label><div class=\"sk-toggleable__content\"><pre>DecisionTreeClassifier(random_state=42)</pre></div></div></div></div></div></div></div>"
      ],
      "text/plain": [
       "Pipeline(steps=[('select_from_model',\n",
       "                 SelectFromModel(estimator=RandomForestClassifier(random_state=0),\n",
       "                                 threshold='median')),\n",
       "                ('classifier', DecisionTreeClassifier(random_state=42))])"
      ]
     },
     "execution_count": 37,
     "metadata": {},
     "output_type": "execute_result"
    }
   ],
   "source": [
    "dtree_clf.fit(X_resampled,y_resampled)"
   ]
  },
  {
   "cell_type": "markdown",
   "id": "f2f81691",
   "metadata": {
    "papermill": {
     "duration": 0.02921,
     "end_time": "2023-07-30T15:11:03.393619",
     "exception": false,
     "start_time": "2023-07-30T15:11:03.364409",
     "status": "completed"
    },
    "tags": []
   },
   "source": [
    "###### 7.Improving assessment through cross-validation"
   ]
  },
  {
   "cell_type": "code",
   "execution_count": 38,
   "id": "850b5c3c",
   "metadata": {
    "execution": {
     "iopub.execute_input": "2023-07-30T15:11:03.455146Z",
     "iopub.status.busy": "2023-07-30T15:11:03.454766Z",
     "iopub.status.idle": "2023-07-30T15:11:03.460057Z",
     "shell.execute_reply": "2023-07-30T15:11:03.458738Z"
    },
    "papermill": {
     "duration": 0.039084,
     "end_time": "2023-07-30T15:11:03.462627",
     "exception": false,
     "start_time": "2023-07-30T15:11:03.423543",
     "status": "completed"
    },
    "tags": []
   },
   "outputs": [],
   "source": [
    "from sklearn.model_selection import cross_val_score, StratifiedKFold, KFold"
   ]
  },
  {
   "cell_type": "code",
   "execution_count": 39,
   "id": "0609f854",
   "metadata": {
    "execution": {
     "iopub.execute_input": "2023-07-30T15:11:03.525050Z",
     "iopub.status.busy": "2023-07-30T15:11:03.524664Z",
     "iopub.status.idle": "2023-07-30T15:11:03.529916Z",
     "shell.execute_reply": "2023-07-30T15:11:03.528768Z"
    },
    "papermill": {
     "duration": 0.039423,
     "end_time": "2023-07-30T15:11:03.532390",
     "exception": false,
     "start_time": "2023-07-30T15:11:03.492967",
     "status": "completed"
    },
    "tags": []
   },
   "outputs": [],
   "source": [
    "#cv =StratifiedKFold(n_splits=10,shuffle=True, random_state=42)\n",
    "#kf = KFold(n_splits=10, shuffle=True, random_state = 42)"
   ]
  },
  {
   "cell_type": "code",
   "execution_count": 40,
   "id": "33c04fbe",
   "metadata": {
    "execution": {
     "iopub.execute_input": "2023-07-30T15:11:03.595464Z",
     "iopub.status.busy": "2023-07-30T15:11:03.595048Z",
     "iopub.status.idle": "2023-07-30T15:11:14.209543Z",
     "shell.execute_reply": "2023-07-30T15:11:14.208256Z"
    },
    "papermill": {
     "duration": 10.649408,
     "end_time": "2023-07-30T15:11:14.212093",
     "exception": false,
     "start_time": "2023-07-30T15:11:03.562685",
     "status": "completed"
    },
    "tags": []
   },
   "outputs": [
    {
     "data": {
      "text/plain": [
       "array([-0.18746775, -0.19880022, -0.12674316, -0.17552446, -0.12524779,\n",
       "       -0.1488549 , -0.16358158, -0.1877144 , -0.1371541 , -0.1487812 ])"
      ]
     },
     "execution_count": 40,
     "metadata": {},
     "output_type": "execute_result"
    }
   ],
   "source": [
    "##Random Forest Classifier.\n",
    "from sklearn.model_selection import cross_val_score\n",
    "scores = cross_val_score(random_forest_clf, X_resampled,y_resampled, cv=10,scoring='neg_log_loss')\n",
    "scores"
   ]
  },
  {
   "cell_type": "code",
   "execution_count": 41,
   "id": "db7df5d9",
   "metadata": {
    "execution": {
     "iopub.execute_input": "2023-07-30T15:11:14.276390Z",
     "iopub.status.busy": "2023-07-30T15:11:14.275918Z",
     "iopub.status.idle": "2023-07-30T15:11:14.282243Z",
     "shell.execute_reply": "2023-07-30T15:11:14.281147Z"
    },
    "papermill": {
     "duration": 0.040109,
     "end_time": "2023-07-30T15:11:14.284331",
     "exception": false,
     "start_time": "2023-07-30T15:11:14.244222",
     "status": "completed"
    },
    "tags": []
   },
   "outputs": [
    {
     "name": "stdout",
     "output_type": "stream",
     "text": [
      "-0.16 accuracy with a standard deviation of 0.03\n"
     ]
    }
   ],
   "source": [
    "print(\"%0.2f accuracy with a standard deviation of %0.2f\" % (scores.mean(), scores.std()))"
   ]
  },
  {
   "cell_type": "code",
   "execution_count": 42,
   "id": "43d639f4",
   "metadata": {
    "execution": {
     "iopub.execute_input": "2023-07-30T15:11:14.348296Z",
     "iopub.status.busy": "2023-07-30T15:11:14.347448Z",
     "iopub.status.idle": "2023-07-30T15:11:23.564761Z",
     "shell.execute_reply": "2023-07-30T15:11:23.563666Z"
    },
    "papermill": {
     "duration": 9.252533,
     "end_time": "2023-07-30T15:11:23.567215",
     "exception": false,
     "start_time": "2023-07-30T15:11:14.314682",
     "status": "completed"
    },
    "tags": []
   },
   "outputs": [
    {
     "data": {
      "text/plain": [
       "array([-0.17574528, -0.25332172, -0.05521353, -0.29847957, -0.11047531,\n",
       "       -0.14512824, -0.13782991, -0.26016363, -0.11662498, -0.14949942])"
      ]
     },
     "execution_count": 42,
     "metadata": {},
     "output_type": "execute_result"
    }
   ],
   "source": [
    "#GradientBoostingClassifier\n",
    "scores = cross_val_score(gradient_boosting_clf, X_resampled,y_resampled, cv=10,scoring='neg_log_loss')\n",
    "scores"
   ]
  },
  {
   "cell_type": "code",
   "execution_count": 43,
   "id": "f60ae45a",
   "metadata": {
    "execution": {
     "iopub.execute_input": "2023-07-30T15:11:23.629842Z",
     "iopub.status.busy": "2023-07-30T15:11:23.629450Z",
     "iopub.status.idle": "2023-07-30T15:11:23.635050Z",
     "shell.execute_reply": "2023-07-30T15:11:23.633881Z"
    },
    "papermill": {
     "duration": 0.040526,
     "end_time": "2023-07-30T15:11:23.638085",
     "exception": false,
     "start_time": "2023-07-30T15:11:23.597559",
     "status": "completed"
    },
    "tags": []
   },
   "outputs": [
    {
     "name": "stdout",
     "output_type": "stream",
     "text": [
      "-0.17 accuracy with a standard deviation of 0.07\n"
     ]
    }
   ],
   "source": [
    "print(\"%0.2f accuracy with a standard deviation of %0.2f\" % (scores.mean(), scores.std()))"
   ]
  },
  {
   "cell_type": "code",
   "execution_count": 44,
   "id": "711b2580",
   "metadata": {
    "execution": {
     "iopub.execute_input": "2023-07-30T15:11:23.703788Z",
     "iopub.status.busy": "2023-07-30T15:11:23.703377Z",
     "iopub.status.idle": "2023-07-30T15:11:31.114575Z",
     "shell.execute_reply": "2023-07-30T15:11:31.113545Z"
    },
    "papermill": {
     "duration": 7.447035,
     "end_time": "2023-07-30T15:11:31.117022",
     "exception": false,
     "start_time": "2023-07-30T15:11:23.669987",
     "status": "completed"
    },
    "tags": []
   },
   "outputs": [
    {
     "data": {
      "text/plain": [
       "array([-0.05283103, -0.10084991, -0.03680063, -0.12683571, -0.08725534,\n",
       "       -0.08665136, -0.05997967, -0.15317762, -0.09612479, -0.02609614])"
      ]
     },
     "execution_count": 44,
     "metadata": {},
     "output_type": "execute_result"
    }
   ],
   "source": [
    "#XGBClassifier\n",
    "scores = cross_val_score(xgb_clf, X_resampled, y_train_xgb, cv=10,scoring='neg_log_loss')\n",
    "scores"
   ]
  },
  {
   "cell_type": "code",
   "execution_count": 45,
   "id": "b8ba2d75",
   "metadata": {
    "execution": {
     "iopub.execute_input": "2023-07-30T15:11:31.182948Z",
     "iopub.status.busy": "2023-07-30T15:11:31.182550Z",
     "iopub.status.idle": "2023-07-30T15:11:31.188481Z",
     "shell.execute_reply": "2023-07-30T15:11:31.187440Z"
    },
    "papermill": {
     "duration": 0.042514,
     "end_time": "2023-07-30T15:11:31.191770",
     "exception": false,
     "start_time": "2023-07-30T15:11:31.149256",
     "status": "completed"
    },
    "tags": []
   },
   "outputs": [
    {
     "name": "stdout",
     "output_type": "stream",
     "text": [
      "-0.08 accuracy with a standard deviation of 0.04\n"
     ]
    }
   ],
   "source": [
    "print(\"%0.2f accuracy with a standard deviation of %0.2f\" % (scores.mean(), scores.std()))"
   ]
  },
  {
   "cell_type": "code",
   "execution_count": 46,
   "id": "147cc4d7",
   "metadata": {
    "execution": {
     "iopub.execute_input": "2023-07-30T15:11:31.257525Z",
     "iopub.status.busy": "2023-07-30T15:11:31.257077Z",
     "iopub.status.idle": "2023-07-30T15:11:38.169337Z",
     "shell.execute_reply": "2023-07-30T15:11:38.168138Z"
    },
    "papermill": {
     "duration": 6.949867,
     "end_time": "2023-07-30T15:11:38.173245",
     "exception": false,
     "start_time": "2023-07-30T15:11:31.223378",
     "status": "completed"
    },
    "tags": []
   },
   "outputs": [
    {
     "data": {
      "text/plain": [
       "array([-0.26802416, -0.3358706 , -0.25915463, -0.32230955, -0.20423967,\n",
       "       -0.51746434, -0.34368706, -0.39068806, -0.33062802, -0.29397388])"
      ]
     },
     "execution_count": 46,
     "metadata": {},
     "output_type": "execute_result"
    }
   ],
   "source": [
    "#LogisticRegression\n",
    "scores = cross_val_score(logistic_clf,X_resampled,y_resampled, cv=10,scoring='neg_log_loss')\n",
    "scores"
   ]
  },
  {
   "cell_type": "code",
   "execution_count": 47,
   "id": "d3b28772",
   "metadata": {
    "execution": {
     "iopub.execute_input": "2023-07-30T15:11:38.272129Z",
     "iopub.status.busy": "2023-07-30T15:11:38.271294Z",
     "iopub.status.idle": "2023-07-30T15:11:38.278813Z",
     "shell.execute_reply": "2023-07-30T15:11:38.277604Z"
    },
    "papermill": {
     "duration": 0.043062,
     "end_time": "2023-07-30T15:11:38.281588",
     "exception": false,
     "start_time": "2023-07-30T15:11:38.238526",
     "status": "completed"
    },
    "tags": []
   },
   "outputs": [
    {
     "name": "stdout",
     "output_type": "stream",
     "text": [
      "-0.33 accuracy with a standard deviation of 0.08\n"
     ]
    }
   ],
   "source": [
    "print(\"%0.2f accuracy with a standard deviation of %0.2f\" % (scores.mean(), scores.std()))"
   ]
  },
  {
   "cell_type": "code",
   "execution_count": 48,
   "id": "6de008af",
   "metadata": {
    "execution": {
     "iopub.execute_input": "2023-07-30T15:11:38.350171Z",
     "iopub.status.busy": "2023-07-30T15:11:38.349775Z",
     "iopub.status.idle": "2023-07-30T15:11:44.424540Z",
     "shell.execute_reply": "2023-07-30T15:11:44.423330Z"
    },
    "papermill": {
     "duration": 6.111472,
     "end_time": "2023-07-30T15:11:44.427089",
     "exception": false,
     "start_time": "2023-07-30T15:11:38.315617",
     "status": "completed"
    },
    "tags": []
   },
   "outputs": [
    {
     "data": {
      "text/plain": [
       "array([-3.88706066, -4.59379896, -2.12021491, -5.30053726, -2.82695321,\n",
       "       -4.24042981, -2.47358406, -4.24042981, -2.14120713, -1.42747142])"
      ]
     },
     "execution_count": 48,
     "metadata": {},
     "output_type": "execute_result"
    }
   ],
   "source": [
    "##DecisionTreeClassifier\n",
    "scores = cross_val_score(dtree_clf,X_resampled,y_resampled, cv=10,scoring='neg_log_loss')\n",
    "scores"
   ]
  },
  {
   "cell_type": "code",
   "execution_count": 49,
   "id": "6bc0ee15",
   "metadata": {
    "execution": {
     "iopub.execute_input": "2023-07-30T15:11:44.493669Z",
     "iopub.status.busy": "2023-07-30T15:11:44.493250Z",
     "iopub.status.idle": "2023-07-30T15:11:44.499896Z",
     "shell.execute_reply": "2023-07-30T15:11:44.498596Z"
    },
    "papermill": {
     "duration": 0.043568,
     "end_time": "2023-07-30T15:11:44.502864",
     "exception": false,
     "start_time": "2023-07-30T15:11:44.459296",
     "status": "completed"
    },
    "tags": []
   },
   "outputs": [
    {
     "name": "stdout",
     "output_type": "stream",
     "text": [
      "-3.33 accuracy with a standard deviation of 1.22\n"
     ]
    }
   ],
   "source": [
    "print(\"%0.2f accuracy with a standard deviation of %0.2f\" % (scores.mean(), scores.std()))"
   ]
  },
  {
   "cell_type": "markdown",
   "id": "63b3980c",
   "metadata": {
    "papermill": {
     "duration": 0.031505,
     "end_time": "2023-07-30T15:11:44.565833",
     "exception": false,
     "start_time": "2023-07-30T15:11:44.534328",
     "status": "completed"
    },
    "tags": []
   },
   "source": [
    "###### 8.Fine-tune my models using grid search."
   ]
  },
  {
   "cell_type": "code",
   "execution_count": 50,
   "id": "74547f30",
   "metadata": {
    "execution": {
     "iopub.execute_input": "2023-07-30T15:11:44.630317Z",
     "iopub.status.busy": "2023-07-30T15:11:44.629862Z",
     "iopub.status.idle": "2023-07-30T15:11:44.635674Z",
     "shell.execute_reply": "2023-07-30T15:11:44.634456Z"
    },
    "papermill": {
     "duration": 0.041171,
     "end_time": "2023-07-30T15:11:44.638173",
     "exception": false,
     "start_time": "2023-07-30T15:11:44.597002",
     "status": "completed"
    },
    "tags": []
   },
   "outputs": [],
   "source": [
    "from sklearn.model_selection import GridSearchCV"
   ]
  },
  {
   "cell_type": "code",
   "execution_count": 51,
   "id": "244502db",
   "metadata": {
    "execution": {
     "iopub.execute_input": "2023-07-30T15:11:44.703019Z",
     "iopub.status.busy": "2023-07-30T15:11:44.702480Z",
     "iopub.status.idle": "2023-07-30T15:11:44.710667Z",
     "shell.execute_reply": "2023-07-30T15:11:44.709340Z"
    },
    "papermill": {
     "duration": 0.043754,
     "end_time": "2023-07-30T15:11:44.713278",
     "exception": false,
     "start_time": "2023-07-30T15:11:44.669524",
     "status": "completed"
    },
    "tags": []
   },
   "outputs": [],
   "source": [
    "#brute force scan for all parameters, here are the tricks\n",
    "#usually max_depth is 6,7,8\n",
    "#learning rate is around 0.05, but small changes may make big diff\n",
    "#tuning min_child_weight subsample colsample_bytree can have \n",
    "#much fun of fighting against overfit \n",
    "#n_estimators is how many round of boosting\n",
    "#finally, ensemble xgboost with multiple seeds may reduce variance\n",
    "param_grid = { \n",
    "    'classifier__max_depth': [3, 4, 5, 6, 8, 10, 12, 15],\n",
    "    'classifier__learning_rate': [0.001, 0.01, 0.1, 0.20, 0.25, 0.30],\n",
    "    \"classifier__gamma\":[0, 0.25, 0.5, 0.75,1],\n",
    "    'classifier__n_estimators': [50,100, 150, 200],\n",
    "    #'select_from_model__estimator' : [50,100, 150, 200],\n",
    "    \"classifier__subsample\":[0.9],\n",
    "    \"classifier__colsample_bytree\":[0.5],\n",
    "    #\"classifier__early_stopping_rounds\": [10], \n",
    "    #\"classifier__random_state\": [random_state], \n",
    "}"
   ]
  },
  {
   "cell_type": "code",
   "execution_count": 52,
   "id": "12bf78c3",
   "metadata": {
    "execution": {
     "iopub.execute_input": "2023-07-30T15:11:44.779052Z",
     "iopub.status.busy": "2023-07-30T15:11:44.778606Z",
     "iopub.status.idle": "2023-07-30T15:11:44.783535Z",
     "shell.execute_reply": "2023-07-30T15:11:44.782398Z"
    },
    "papermill": {
     "duration": 0.039945,
     "end_time": "2023-07-30T15:11:44.785800",
     "exception": false,
     "start_time": "2023-07-30T15:11:44.745855",
     "status": "completed"
    },
    "tags": []
   },
   "outputs": [],
   "source": [
    "# param_grid = { \n",
    "#     'classifier__n_estimators': [100,500,1000],\n",
    "#     'classifier__max_features': ['auto', 'sqrt', 'log2'],\n",
    "#     'classifier__max_depth' : [4,5,6,7,8],\n",
    "#     'classifier__criterion' :['gini', 'entropy']\n",
    "# }"
   ]
  },
  {
   "cell_type": "code",
   "execution_count": 53,
   "id": "a2c7fe63",
   "metadata": {
    "execution": {
     "iopub.execute_input": "2023-07-30T15:11:44.850074Z",
     "iopub.status.busy": "2023-07-30T15:11:44.849691Z",
     "iopub.status.idle": "2023-07-30T15:11:44.854151Z",
     "shell.execute_reply": "2023-07-30T15:11:44.853013Z"
    },
    "papermill": {
     "duration": 0.039232,
     "end_time": "2023-07-30T15:11:44.856490",
     "exception": false,
     "start_time": "2023-07-30T15:11:44.817258",
     "status": "completed"
    },
    "tags": []
   },
   "outputs": [],
   "source": [
    "#param_grid ={'penalty': ['l1','l2'], 'C': [0.001,0.01,0.1,1,10,100,1000]}"
   ]
  },
  {
   "cell_type": "code",
   "execution_count": 54,
   "id": "85239cad",
   "metadata": {
    "execution": {
     "iopub.execute_input": "2023-07-30T15:11:44.923110Z",
     "iopub.status.busy": "2023-07-30T15:11:44.922698Z",
     "iopub.status.idle": "2023-07-30T16:05:49.140805Z",
     "shell.execute_reply": "2023-07-30T16:05:49.139294Z"
    },
    "papermill": {
     "duration": 3244.286643,
     "end_time": "2023-07-30T16:05:49.176629",
     "exception": false,
     "start_time": "2023-07-30T15:11:44.889986",
     "status": "completed"
    },
    "tags": []
   },
   "outputs": [
    {
     "name": "stderr",
     "output_type": "stream",
     "text": [
      "/opt/conda/lib/python3.10/site-packages/scipy/__init__.py:146: UserWarning: A NumPy version >=1.16.5 and <1.23.0 is required for this version of SciPy (detected version 1.23.5\n",
      "  warnings.warn(f\"A NumPy version >={np_minversion} and <{np_maxversion}\"\n",
      "/opt/conda/lib/python3.10/site-packages/scipy/__init__.py:146: UserWarning: A NumPy version >=1.16.5 and <1.23.0 is required for this version of SciPy (detected version 1.23.5\n",
      "  warnings.warn(f\"A NumPy version >={np_minversion} and <{np_maxversion}\"\n",
      "/opt/conda/lib/python3.10/site-packages/scipy/__init__.py:146: UserWarning: A NumPy version >=1.16.5 and <1.23.0 is required for this version of SciPy (detected version 1.23.5\n",
      "  warnings.warn(f\"A NumPy version >={np_minversion} and <{np_maxversion}\"\n",
      "/opt/conda/lib/python3.10/site-packages/scipy/__init__.py:146: UserWarning: A NumPy version >=1.16.5 and <1.23.0 is required for this version of SciPy (detected version 1.23.5\n",
      "  warnings.warn(f\"A NumPy version >={np_minversion} and <{np_maxversion}\"\n"
     ]
    },
    {
     "data": {
      "text/html": [
       "<style>#sk-container-id-6 {color: black;background-color: white;}#sk-container-id-6 pre{padding: 0;}#sk-container-id-6 div.sk-toggleable {background-color: white;}#sk-container-id-6 label.sk-toggleable__label {cursor: pointer;display: block;width: 100%;margin-bottom: 0;padding: 0.3em;box-sizing: border-box;text-align: center;}#sk-container-id-6 label.sk-toggleable__label-arrow:before {content: \"▸\";float: left;margin-right: 0.25em;color: #696969;}#sk-container-id-6 label.sk-toggleable__label-arrow:hover:before {color: black;}#sk-container-id-6 div.sk-estimator:hover label.sk-toggleable__label-arrow:before {color: black;}#sk-container-id-6 div.sk-toggleable__content {max-height: 0;max-width: 0;overflow: hidden;text-align: left;background-color: #f0f8ff;}#sk-container-id-6 div.sk-toggleable__content pre {margin: 0.2em;color: black;border-radius: 0.25em;background-color: #f0f8ff;}#sk-container-id-6 input.sk-toggleable__control:checked~div.sk-toggleable__content {max-height: 200px;max-width: 100%;overflow: auto;}#sk-container-id-6 input.sk-toggleable__control:checked~label.sk-toggleable__label-arrow:before {content: \"▾\";}#sk-container-id-6 div.sk-estimator input.sk-toggleable__control:checked~label.sk-toggleable__label {background-color: #d4ebff;}#sk-container-id-6 div.sk-label input.sk-toggleable__control:checked~label.sk-toggleable__label {background-color: #d4ebff;}#sk-container-id-6 input.sk-hidden--visually {border: 0;clip: rect(1px 1px 1px 1px);clip: rect(1px, 1px, 1px, 1px);height: 1px;margin: -1px;overflow: hidden;padding: 0;position: absolute;width: 1px;}#sk-container-id-6 div.sk-estimator {font-family: monospace;background-color: #f0f8ff;border: 1px dotted black;border-radius: 0.25em;box-sizing: border-box;margin-bottom: 0.5em;}#sk-container-id-6 div.sk-estimator:hover {background-color: #d4ebff;}#sk-container-id-6 div.sk-parallel-item::after {content: \"\";width: 100%;border-bottom: 1px solid gray;flex-grow: 1;}#sk-container-id-6 div.sk-label:hover label.sk-toggleable__label {background-color: #d4ebff;}#sk-container-id-6 div.sk-serial::before {content: \"\";position: absolute;border-left: 1px solid gray;box-sizing: border-box;top: 0;bottom: 0;left: 50%;z-index: 0;}#sk-container-id-6 div.sk-serial {display: flex;flex-direction: column;align-items: center;background-color: white;padding-right: 0.2em;padding-left: 0.2em;position: relative;}#sk-container-id-6 div.sk-item {position: relative;z-index: 1;}#sk-container-id-6 div.sk-parallel {display: flex;align-items: stretch;justify-content: center;background-color: white;position: relative;}#sk-container-id-6 div.sk-item::before, #sk-container-id-6 div.sk-parallel-item::before {content: \"\";position: absolute;border-left: 1px solid gray;box-sizing: border-box;top: 0;bottom: 0;left: 50%;z-index: -1;}#sk-container-id-6 div.sk-parallel-item {display: flex;flex-direction: column;z-index: 1;position: relative;background-color: white;}#sk-container-id-6 div.sk-parallel-item:first-child::after {align-self: flex-end;width: 50%;}#sk-container-id-6 div.sk-parallel-item:last-child::after {align-self: flex-start;width: 50%;}#sk-container-id-6 div.sk-parallel-item:only-child::after {width: 0;}#sk-container-id-6 div.sk-dashed-wrapped {border: 1px dashed gray;margin: 0 0.4em 0.5em 0.4em;box-sizing: border-box;padding-bottom: 0.4em;background-color: white;}#sk-container-id-6 div.sk-label label {font-family: monospace;font-weight: bold;display: inline-block;line-height: 1.2em;}#sk-container-id-6 div.sk-label-container {text-align: center;}#sk-container-id-6 div.sk-container {/* jupyter's `normalize.less` sets `[hidden] { display: none; }` but bootstrap.min.css set `[hidden] { display: none !important; }` so we also need the `!important` here to be able to override the default hidden behavior on the sphinx rendered scikit-learn.org. See: https://github.com/scikit-learn/scikit-learn/issues/21755 */display: inline-block !important;position: relative;}#sk-container-id-6 div.sk-text-repr-fallback {display: none;}</style><div id=\"sk-container-id-6\" class=\"sk-top-container\"><div class=\"sk-text-repr-fallback\"><pre>GridSearchCV(cv=10,\n",
       "             estimator=Pipeline(steps=[(&#x27;select_from_model&#x27;,\n",
       "                                        SelectFromModel(estimator=RandomForestClassifier(random_state=0),\n",
       "                                                        threshold=&#x27;median&#x27;)),\n",
       "                                       (&#x27;classifier&#x27;,\n",
       "                                        XGBClassifier(base_score=None,\n",
       "                                                      booster=None,\n",
       "                                                      callbacks=None,\n",
       "                                                      colsample_bylevel=None,\n",
       "                                                      colsample_bynode=None,\n",
       "                                                      colsample_bytree=None,\n",
       "                                                      early_stopping_rounds=None,\n",
       "                                                      enable_categorical=False,\n",
       "                                                      eval_me...\n",
       "                                                      num_parallel_tree=None,\n",
       "                                                      predictor=None,\n",
       "                                                      random_state=42, ...))]),\n",
       "             n_jobs=-1,\n",
       "             param_grid={&#x27;classifier__colsample_bytree&#x27;: [0.5],\n",
       "                         &#x27;classifier__gamma&#x27;: [0, 0.25, 0.5, 0.75, 1],\n",
       "                         &#x27;classifier__learning_rate&#x27;: [0.001, 0.01, 0.1, 0.2,\n",
       "                                                       0.25, 0.3],\n",
       "                         &#x27;classifier__max_depth&#x27;: [3, 4, 5, 6, 8, 10, 12, 15],\n",
       "                         &#x27;classifier__n_estimators&#x27;: [50, 100, 150, 200],\n",
       "                         &#x27;classifier__subsample&#x27;: [0.9]},\n",
       "             scoring=&#x27;neg_log_loss&#x27;)</pre><b>In a Jupyter environment, please rerun this cell to show the HTML representation or trust the notebook. <br />On GitHub, the HTML representation is unable to render, please try loading this page with nbviewer.org.</b></div><div class=\"sk-container\" hidden><div class=\"sk-item sk-dashed-wrapped\"><div class=\"sk-label-container\"><div class=\"sk-label sk-toggleable\"><input class=\"sk-toggleable__control sk-hidden--visually\" id=\"sk-estimator-id-26\" type=\"checkbox\" ><label for=\"sk-estimator-id-26\" class=\"sk-toggleable__label sk-toggleable__label-arrow\">GridSearchCV</label><div class=\"sk-toggleable__content\"><pre>GridSearchCV(cv=10,\n",
       "             estimator=Pipeline(steps=[(&#x27;select_from_model&#x27;,\n",
       "                                        SelectFromModel(estimator=RandomForestClassifier(random_state=0),\n",
       "                                                        threshold=&#x27;median&#x27;)),\n",
       "                                       (&#x27;classifier&#x27;,\n",
       "                                        XGBClassifier(base_score=None,\n",
       "                                                      booster=None,\n",
       "                                                      callbacks=None,\n",
       "                                                      colsample_bylevel=None,\n",
       "                                                      colsample_bynode=None,\n",
       "                                                      colsample_bytree=None,\n",
       "                                                      early_stopping_rounds=None,\n",
       "                                                      enable_categorical=False,\n",
       "                                                      eval_me...\n",
       "                                                      num_parallel_tree=None,\n",
       "                                                      predictor=None,\n",
       "                                                      random_state=42, ...))]),\n",
       "             n_jobs=-1,\n",
       "             param_grid={&#x27;classifier__colsample_bytree&#x27;: [0.5],\n",
       "                         &#x27;classifier__gamma&#x27;: [0, 0.25, 0.5, 0.75, 1],\n",
       "                         &#x27;classifier__learning_rate&#x27;: [0.001, 0.01, 0.1, 0.2,\n",
       "                                                       0.25, 0.3],\n",
       "                         &#x27;classifier__max_depth&#x27;: [3, 4, 5, 6, 8, 10, 12, 15],\n",
       "                         &#x27;classifier__n_estimators&#x27;: [50, 100, 150, 200],\n",
       "                         &#x27;classifier__subsample&#x27;: [0.9]},\n",
       "             scoring=&#x27;neg_log_loss&#x27;)</pre></div></div></div><div class=\"sk-parallel\"><div class=\"sk-parallel-item\"><div class=\"sk-item\"><div class=\"sk-label-container\"><div class=\"sk-label sk-toggleable\"><input class=\"sk-toggleable__control sk-hidden--visually\" id=\"sk-estimator-id-27\" type=\"checkbox\" ><label for=\"sk-estimator-id-27\" class=\"sk-toggleable__label sk-toggleable__label-arrow\">estimator: Pipeline</label><div class=\"sk-toggleable__content\"><pre>Pipeline(steps=[(&#x27;select_from_model&#x27;,\n",
       "                 SelectFromModel(estimator=RandomForestClassifier(random_state=0),\n",
       "                                 threshold=&#x27;median&#x27;)),\n",
       "                (&#x27;classifier&#x27;,\n",
       "                 XGBClassifier(base_score=None, booster=None, callbacks=None,\n",
       "                               colsample_bylevel=None, colsample_bynode=None,\n",
       "                               colsample_bytree=None,\n",
       "                               early_stopping_rounds=None,\n",
       "                               enable_categorical=False, eval_metric=None,\n",
       "                               feature_types=None,...one,\n",
       "                               grow_policy=None, importance_type=None,\n",
       "                               interaction_constraints=None, learning_rate=None,\n",
       "                               max_bin=None, max_cat_threshold=None,\n",
       "                               max_cat_to_onehot=None, max_delta_step=None,\n",
       "                               max_depth=None, max_leaves=None,\n",
       "                               min_child_weight=None, missing=nan,\n",
       "                               monotone_constraints=None, n_estimators=100,\n",
       "                               n_jobs=None, num_parallel_tree=None,\n",
       "                               predictor=None, random_state=42, ...))])</pre></div></div></div><div class=\"sk-serial\"><div class=\"sk-item\"><div class=\"sk-serial\"><div class=\"sk-item sk-dashed-wrapped\"><div class=\"sk-label-container\"><div class=\"sk-label sk-toggleable\"><input class=\"sk-toggleable__control sk-hidden--visually\" id=\"sk-estimator-id-28\" type=\"checkbox\" ><label for=\"sk-estimator-id-28\" class=\"sk-toggleable__label sk-toggleable__label-arrow\">select_from_model: SelectFromModel</label><div class=\"sk-toggleable__content\"><pre>SelectFromModel(estimator=RandomForestClassifier(random_state=0),\n",
       "                threshold=&#x27;median&#x27;)</pre></div></div></div><div class=\"sk-parallel\"><div class=\"sk-parallel-item\"><div class=\"sk-item\"><div class=\"sk-label-container\"><div class=\"sk-label sk-toggleable\"><input class=\"sk-toggleable__control sk-hidden--visually\" id=\"sk-estimator-id-29\" type=\"checkbox\" ><label for=\"sk-estimator-id-29\" class=\"sk-toggleable__label sk-toggleable__label-arrow\">estimator: RandomForestClassifier</label><div class=\"sk-toggleable__content\"><pre>RandomForestClassifier(random_state=0)</pre></div></div></div><div class=\"sk-serial\"><div class=\"sk-item\"><div class=\"sk-estimator sk-toggleable\"><input class=\"sk-toggleable__control sk-hidden--visually\" id=\"sk-estimator-id-30\" type=\"checkbox\" ><label for=\"sk-estimator-id-30\" class=\"sk-toggleable__label sk-toggleable__label-arrow\">RandomForestClassifier</label><div class=\"sk-toggleable__content\"><pre>RandomForestClassifier(random_state=0)</pre></div></div></div></div></div></div></div></div><div class=\"sk-item\"><div class=\"sk-estimator sk-toggleable\"><input class=\"sk-toggleable__control sk-hidden--visually\" id=\"sk-estimator-id-31\" type=\"checkbox\" ><label for=\"sk-estimator-id-31\" class=\"sk-toggleable__label sk-toggleable__label-arrow\">XGBClassifier</label><div class=\"sk-toggleable__content\"><pre>XGBClassifier(base_score=None, booster=None, callbacks=None,\n",
       "              colsample_bylevel=None, colsample_bynode=None,\n",
       "              colsample_bytree=None, early_stopping_rounds=None,\n",
       "              enable_categorical=False, eval_metric=None, feature_types=None,\n",
       "              gamma=None, gpu_id=None, grow_policy=None, importance_type=None,\n",
       "              interaction_constraints=None, learning_rate=None, max_bin=None,\n",
       "              max_cat_threshold=None, max_cat_to_onehot=None,\n",
       "              max_delta_step=None, max_depth=None, max_leaves=None,\n",
       "              min_child_weight=None, missing=nan, monotone_constraints=None,\n",
       "              n_estimators=100, n_jobs=None, num_parallel_tree=None,\n",
       "              predictor=None, random_state=42, ...)</pre></div></div></div></div></div></div></div></div></div></div></div></div>"
      ],
      "text/plain": [
       "GridSearchCV(cv=10,\n",
       "             estimator=Pipeline(steps=[('select_from_model',\n",
       "                                        SelectFromModel(estimator=RandomForestClassifier(random_state=0),\n",
       "                                                        threshold='median')),\n",
       "                                       ('classifier',\n",
       "                                        XGBClassifier(base_score=None,\n",
       "                                                      booster=None,\n",
       "                                                      callbacks=None,\n",
       "                                                      colsample_bylevel=None,\n",
       "                                                      colsample_bynode=None,\n",
       "                                                      colsample_bytree=None,\n",
       "                                                      early_stopping_rounds=None,\n",
       "                                                      enable_categorical=False,\n",
       "                                                      eval_me...\n",
       "                                                      num_parallel_tree=None,\n",
       "                                                      predictor=None,\n",
       "                                                      random_state=42, ...))]),\n",
       "             n_jobs=-1,\n",
       "             param_grid={'classifier__colsample_bytree': [0.5],\n",
       "                         'classifier__gamma': [0, 0.25, 0.5, 0.75, 1],\n",
       "                         'classifier__learning_rate': [0.001, 0.01, 0.1, 0.2,\n",
       "                                                       0.25, 0.3],\n",
       "                         'classifier__max_depth': [3, 4, 5, 6, 8, 10, 12, 15],\n",
       "                         'classifier__n_estimators': [50, 100, 150, 200],\n",
       "                         'classifier__subsample': [0.9]},\n",
       "             scoring='neg_log_loss')"
      ]
     },
     "execution_count": 54,
     "metadata": {},
     "output_type": "execute_result"
    }
   ],
   "source": [
    "grid_search = GridSearchCV(xgb_clf, param_grid, cv=10,scoring='neg_log_loss', n_jobs = -1)\n",
    "grid_search.fit(X_resampled,y_train_xgb)"
   ]
  },
  {
   "cell_type": "code",
   "execution_count": 55,
   "id": "74c924ef",
   "metadata": {
    "execution": {
     "iopub.execute_input": "2023-07-30T16:05:49.245206Z",
     "iopub.status.busy": "2023-07-30T16:05:49.244178Z",
     "iopub.status.idle": "2023-07-30T16:05:49.252628Z",
     "shell.execute_reply": "2023-07-30T16:05:49.251545Z"
    },
    "papermill": {
     "duration": 0.04587,
     "end_time": "2023-07-30T16:05:49.254876",
     "exception": false,
     "start_time": "2023-07-30T16:05:49.209006",
     "status": "completed"
    },
    "tags": []
   },
   "outputs": [
    {
     "data": {
      "text/plain": [
       "{'classifier__colsample_bytree': 0.5,\n",
       " 'classifier__gamma': 0,\n",
       " 'classifier__learning_rate': 0.2,\n",
       " 'classifier__max_depth': 4,\n",
       " 'classifier__n_estimators': 200,\n",
       " 'classifier__subsample': 0.9}"
      ]
     },
     "execution_count": 55,
     "metadata": {},
     "output_type": "execute_result"
    }
   ],
   "source": [
    "grid_search.best_params_"
   ]
  },
  {
   "cell_type": "code",
   "execution_count": 56,
   "id": "be61cd05",
   "metadata": {
    "execution": {
     "iopub.execute_input": "2023-07-30T16:05:49.321094Z",
     "iopub.status.busy": "2023-07-30T16:05:49.320452Z",
     "iopub.status.idle": "2023-07-30T16:05:49.357589Z",
     "shell.execute_reply": "2023-07-30T16:05:49.356240Z"
    },
    "papermill": {
     "duration": 0.073089,
     "end_time": "2023-07-30T16:05:49.360037",
     "exception": false,
     "start_time": "2023-07-30T16:05:49.286948",
     "status": "completed"
    },
    "tags": []
   },
   "outputs": [
    {
     "data": {
      "text/html": [
       "<style>#sk-container-id-7 {color: black;background-color: white;}#sk-container-id-7 pre{padding: 0;}#sk-container-id-7 div.sk-toggleable {background-color: white;}#sk-container-id-7 label.sk-toggleable__label {cursor: pointer;display: block;width: 100%;margin-bottom: 0;padding: 0.3em;box-sizing: border-box;text-align: center;}#sk-container-id-7 label.sk-toggleable__label-arrow:before {content: \"▸\";float: left;margin-right: 0.25em;color: #696969;}#sk-container-id-7 label.sk-toggleable__label-arrow:hover:before {color: black;}#sk-container-id-7 div.sk-estimator:hover label.sk-toggleable__label-arrow:before {color: black;}#sk-container-id-7 div.sk-toggleable__content {max-height: 0;max-width: 0;overflow: hidden;text-align: left;background-color: #f0f8ff;}#sk-container-id-7 div.sk-toggleable__content pre {margin: 0.2em;color: black;border-radius: 0.25em;background-color: #f0f8ff;}#sk-container-id-7 input.sk-toggleable__control:checked~div.sk-toggleable__content {max-height: 200px;max-width: 100%;overflow: auto;}#sk-container-id-7 input.sk-toggleable__control:checked~label.sk-toggleable__label-arrow:before {content: \"▾\";}#sk-container-id-7 div.sk-estimator input.sk-toggleable__control:checked~label.sk-toggleable__label {background-color: #d4ebff;}#sk-container-id-7 div.sk-label input.sk-toggleable__control:checked~label.sk-toggleable__label {background-color: #d4ebff;}#sk-container-id-7 input.sk-hidden--visually {border: 0;clip: rect(1px 1px 1px 1px);clip: rect(1px, 1px, 1px, 1px);height: 1px;margin: -1px;overflow: hidden;padding: 0;position: absolute;width: 1px;}#sk-container-id-7 div.sk-estimator {font-family: monospace;background-color: #f0f8ff;border: 1px dotted black;border-radius: 0.25em;box-sizing: border-box;margin-bottom: 0.5em;}#sk-container-id-7 div.sk-estimator:hover {background-color: #d4ebff;}#sk-container-id-7 div.sk-parallel-item::after {content: \"\";width: 100%;border-bottom: 1px solid gray;flex-grow: 1;}#sk-container-id-7 div.sk-label:hover label.sk-toggleable__label {background-color: #d4ebff;}#sk-container-id-7 div.sk-serial::before {content: \"\";position: absolute;border-left: 1px solid gray;box-sizing: border-box;top: 0;bottom: 0;left: 50%;z-index: 0;}#sk-container-id-7 div.sk-serial {display: flex;flex-direction: column;align-items: center;background-color: white;padding-right: 0.2em;padding-left: 0.2em;position: relative;}#sk-container-id-7 div.sk-item {position: relative;z-index: 1;}#sk-container-id-7 div.sk-parallel {display: flex;align-items: stretch;justify-content: center;background-color: white;position: relative;}#sk-container-id-7 div.sk-item::before, #sk-container-id-7 div.sk-parallel-item::before {content: \"\";position: absolute;border-left: 1px solid gray;box-sizing: border-box;top: 0;bottom: 0;left: 50%;z-index: -1;}#sk-container-id-7 div.sk-parallel-item {display: flex;flex-direction: column;z-index: 1;position: relative;background-color: white;}#sk-container-id-7 div.sk-parallel-item:first-child::after {align-self: flex-end;width: 50%;}#sk-container-id-7 div.sk-parallel-item:last-child::after {align-self: flex-start;width: 50%;}#sk-container-id-7 div.sk-parallel-item:only-child::after {width: 0;}#sk-container-id-7 div.sk-dashed-wrapped {border: 1px dashed gray;margin: 0 0.4em 0.5em 0.4em;box-sizing: border-box;padding-bottom: 0.4em;background-color: white;}#sk-container-id-7 div.sk-label label {font-family: monospace;font-weight: bold;display: inline-block;line-height: 1.2em;}#sk-container-id-7 div.sk-label-container {text-align: center;}#sk-container-id-7 div.sk-container {/* jupyter's `normalize.less` sets `[hidden] { display: none; }` but bootstrap.min.css set `[hidden] { display: none !important; }` so we also need the `!important` here to be able to override the default hidden behavior on the sphinx rendered scikit-learn.org. See: https://github.com/scikit-learn/scikit-learn/issues/21755 */display: inline-block !important;position: relative;}#sk-container-id-7 div.sk-text-repr-fallback {display: none;}</style><div id=\"sk-container-id-7\" class=\"sk-top-container\"><div class=\"sk-text-repr-fallback\"><pre>Pipeline(steps=[(&#x27;select_from_model&#x27;,\n",
       "                 SelectFromModel(estimator=RandomForestClassifier(random_state=0),\n",
       "                                 threshold=&#x27;median&#x27;)),\n",
       "                (&#x27;classifier&#x27;,\n",
       "                 XGBClassifier(base_score=None, booster=None, callbacks=None,\n",
       "                               colsample_bylevel=None, colsample_bynode=None,\n",
       "                               colsample_bytree=0.5, early_stopping_rounds=None,\n",
       "                               enable_categorical=False, eval_metric=None,\n",
       "                               feature_types=None, g...id=None,\n",
       "                               grow_policy=None, importance_type=None,\n",
       "                               interaction_constraints=None, learning_rate=0.2,\n",
       "                               max_bin=None, max_cat_threshold=None,\n",
       "                               max_cat_to_onehot=None, max_delta_step=None,\n",
       "                               max_depth=4, max_leaves=None,\n",
       "                               min_child_weight=None, missing=nan,\n",
       "                               monotone_constraints=None, n_estimators=200,\n",
       "                               n_jobs=None, num_parallel_tree=None,\n",
       "                               predictor=None, random_state=42, ...))])</pre><b>In a Jupyter environment, please rerun this cell to show the HTML representation or trust the notebook. <br />On GitHub, the HTML representation is unable to render, please try loading this page with nbviewer.org.</b></div><div class=\"sk-container\" hidden><div class=\"sk-item sk-dashed-wrapped\"><div class=\"sk-label-container\"><div class=\"sk-label sk-toggleable\"><input class=\"sk-toggleable__control sk-hidden--visually\" id=\"sk-estimator-id-32\" type=\"checkbox\" ><label for=\"sk-estimator-id-32\" class=\"sk-toggleable__label sk-toggleable__label-arrow\">Pipeline</label><div class=\"sk-toggleable__content\"><pre>Pipeline(steps=[(&#x27;select_from_model&#x27;,\n",
       "                 SelectFromModel(estimator=RandomForestClassifier(random_state=0),\n",
       "                                 threshold=&#x27;median&#x27;)),\n",
       "                (&#x27;classifier&#x27;,\n",
       "                 XGBClassifier(base_score=None, booster=None, callbacks=None,\n",
       "                               colsample_bylevel=None, colsample_bynode=None,\n",
       "                               colsample_bytree=0.5, early_stopping_rounds=None,\n",
       "                               enable_categorical=False, eval_metric=None,\n",
       "                               feature_types=None, g...id=None,\n",
       "                               grow_policy=None, importance_type=None,\n",
       "                               interaction_constraints=None, learning_rate=0.2,\n",
       "                               max_bin=None, max_cat_threshold=None,\n",
       "                               max_cat_to_onehot=None, max_delta_step=None,\n",
       "                               max_depth=4, max_leaves=None,\n",
       "                               min_child_weight=None, missing=nan,\n",
       "                               monotone_constraints=None, n_estimators=200,\n",
       "                               n_jobs=None, num_parallel_tree=None,\n",
       "                               predictor=None, random_state=42, ...))])</pre></div></div></div><div class=\"sk-serial\"><div class=\"sk-item sk-dashed-wrapped\"><div class=\"sk-label-container\"><div class=\"sk-label sk-toggleable\"><input class=\"sk-toggleable__control sk-hidden--visually\" id=\"sk-estimator-id-33\" type=\"checkbox\" ><label for=\"sk-estimator-id-33\" class=\"sk-toggleable__label sk-toggleable__label-arrow\">select_from_model: SelectFromModel</label><div class=\"sk-toggleable__content\"><pre>SelectFromModel(estimator=RandomForestClassifier(random_state=0),\n",
       "                threshold=&#x27;median&#x27;)</pre></div></div></div><div class=\"sk-parallel\"><div class=\"sk-parallel-item\"><div class=\"sk-item\"><div class=\"sk-label-container\"><div class=\"sk-label sk-toggleable\"><input class=\"sk-toggleable__control sk-hidden--visually\" id=\"sk-estimator-id-34\" type=\"checkbox\" ><label for=\"sk-estimator-id-34\" class=\"sk-toggleable__label sk-toggleable__label-arrow\">estimator: RandomForestClassifier</label><div class=\"sk-toggleable__content\"><pre>RandomForestClassifier(random_state=0)</pre></div></div></div><div class=\"sk-serial\"><div class=\"sk-item\"><div class=\"sk-estimator sk-toggleable\"><input class=\"sk-toggleable__control sk-hidden--visually\" id=\"sk-estimator-id-35\" type=\"checkbox\" ><label for=\"sk-estimator-id-35\" class=\"sk-toggleable__label sk-toggleable__label-arrow\">RandomForestClassifier</label><div class=\"sk-toggleable__content\"><pre>RandomForestClassifier(random_state=0)</pre></div></div></div></div></div></div></div></div><div class=\"sk-item\"><div class=\"sk-estimator sk-toggleable\"><input class=\"sk-toggleable__control sk-hidden--visually\" id=\"sk-estimator-id-36\" type=\"checkbox\" ><label for=\"sk-estimator-id-36\" class=\"sk-toggleable__label sk-toggleable__label-arrow\">XGBClassifier</label><div class=\"sk-toggleable__content\"><pre>XGBClassifier(base_score=None, booster=None, callbacks=None,\n",
       "              colsample_bylevel=None, colsample_bynode=None,\n",
       "              colsample_bytree=0.5, early_stopping_rounds=None,\n",
       "              enable_categorical=False, eval_metric=None, feature_types=None,\n",
       "              gamma=0, gpu_id=None, grow_policy=None, importance_type=None,\n",
       "              interaction_constraints=None, learning_rate=0.2, max_bin=None,\n",
       "              max_cat_threshold=None, max_cat_to_onehot=None,\n",
       "              max_delta_step=None, max_depth=4, max_leaves=None,\n",
       "              min_child_weight=None, missing=nan, monotone_constraints=None,\n",
       "              n_estimators=200, n_jobs=None, num_parallel_tree=None,\n",
       "              predictor=None, random_state=42, ...)</pre></div></div></div></div></div></div></div>"
      ],
      "text/plain": [
       "Pipeline(steps=[('select_from_model',\n",
       "                 SelectFromModel(estimator=RandomForestClassifier(random_state=0),\n",
       "                                 threshold='median')),\n",
       "                ('classifier',\n",
       "                 XGBClassifier(base_score=None, booster=None, callbacks=None,\n",
       "                               colsample_bylevel=None, colsample_bynode=None,\n",
       "                               colsample_bytree=0.5, early_stopping_rounds=None,\n",
       "                               enable_categorical=False, eval_metric=None,\n",
       "                               feature_types=None, g...id=None,\n",
       "                               grow_policy=None, importance_type=None,\n",
       "                               interaction_constraints=None, learning_rate=0.2,\n",
       "                               max_bin=None, max_cat_threshold=None,\n",
       "                               max_cat_to_onehot=None, max_delta_step=None,\n",
       "                               max_depth=4, max_leaves=None,\n",
       "                               min_child_weight=None, missing=nan,\n",
       "                               monotone_constraints=None, n_estimators=200,\n",
       "                               n_jobs=None, num_parallel_tree=None,\n",
       "                               predictor=None, random_state=42, ...))])"
      ]
     },
     "execution_count": 56,
     "metadata": {},
     "output_type": "execute_result"
    }
   ],
   "source": [
    "grid_search.best_estimator_"
   ]
  },
  {
   "cell_type": "code",
   "execution_count": 57,
   "id": "28cf1f2f",
   "metadata": {
    "execution": {
     "iopub.execute_input": "2023-07-30T16:05:49.426964Z",
     "iopub.status.busy": "2023-07-30T16:05:49.426538Z",
     "iopub.status.idle": "2023-07-30T16:05:49.431997Z",
     "shell.execute_reply": "2023-07-30T16:05:49.430667Z"
    },
    "papermill": {
     "duration": 0.041473,
     "end_time": "2023-07-30T16:05:49.434225",
     "exception": false,
     "start_time": "2023-07-30T16:05:49.392752",
     "status": "completed"
    },
    "tags": []
   },
   "outputs": [],
   "source": [
    "final_model = grid_search.best_estimator_"
   ]
  },
  {
   "cell_type": "code",
   "execution_count": 58,
   "id": "f0a42f12",
   "metadata": {
    "execution": {
     "iopub.execute_input": "2023-07-30T16:05:49.501338Z",
     "iopub.status.busy": "2023-07-30T16:05:49.500669Z",
     "iopub.status.idle": "2023-07-30T16:05:49.528133Z",
     "shell.execute_reply": "2023-07-30T16:05:49.527257Z"
    },
    "papermill": {
     "duration": 0.066578,
     "end_time": "2023-07-30T16:05:49.533319",
     "exception": false,
     "start_time": "2023-07-30T16:05:49.466741",
     "status": "completed"
    },
    "tags": []
   },
   "outputs": [],
   "source": [
    "final_predictions = final_model.predict_proba(X_test)"
   ]
  },
  {
   "cell_type": "code",
   "execution_count": 59,
   "id": "93694494",
   "metadata": {
    "execution": {
     "iopub.execute_input": "2023-07-30T16:05:49.605476Z",
     "iopub.status.busy": "2023-07-30T16:05:49.604306Z",
     "iopub.status.idle": "2023-07-30T16:05:49.612213Z",
     "shell.execute_reply": "2023-07-30T16:05:49.611094Z"
    },
    "papermill": {
     "duration": 0.045735,
     "end_time": "2023-07-30T16:05:49.614590",
     "exception": false,
     "start_time": "2023-07-30T16:05:49.568855",
     "status": "completed"
    },
    "tags": []
   },
   "outputs": [
    {
     "data": {
      "text/plain": [
       "array([[0.980738  , 0.01926199],\n",
       "       [0.980738  , 0.01926199],\n",
       "       [0.980738  , 0.01926199],\n",
       "       [0.980738  , 0.01926199],\n",
       "       [0.980738  , 0.01926199]], dtype=float32)"
      ]
     },
     "execution_count": 59,
     "metadata": {},
     "output_type": "execute_result"
    }
   ],
   "source": [
    "final_predictions"
   ]
  },
  {
   "cell_type": "code",
   "execution_count": 60,
   "id": "6974b3c6",
   "metadata": {
    "execution": {
     "iopub.execute_input": "2023-07-30T16:05:49.682142Z",
     "iopub.status.busy": "2023-07-30T16:05:49.681130Z",
     "iopub.status.idle": "2023-07-30T16:05:49.689133Z",
     "shell.execute_reply": "2023-07-30T16:05:49.688332Z"
    },
    "papermill": {
     "duration": 0.044172,
     "end_time": "2023-07-30T16:05:49.691518",
     "exception": false,
     "start_time": "2023-07-30T16:05:49.647346",
     "status": "completed"
    },
    "tags": []
   },
   "outputs": [],
   "source": [
    "sample_submission = pd.DataFrame(\n",
    "    data = {\n",
    "        'Id':test_df.Id,\n",
    "        'class_0':final_predictions[:,0],\n",
    "        'class_1':final_predictions[:,1]\n",
    "    }\n",
    ")"
   ]
  },
  {
   "cell_type": "code",
   "execution_count": 61,
   "id": "449bf9e0",
   "metadata": {
    "execution": {
     "iopub.execute_input": "2023-07-30T16:05:49.759780Z",
     "iopub.status.busy": "2023-07-30T16:05:49.758572Z",
     "iopub.status.idle": "2023-07-30T16:05:49.772097Z",
     "shell.execute_reply": "2023-07-30T16:05:49.770515Z"
    },
    "papermill": {
     "duration": 0.049982,
     "end_time": "2023-07-30T16:05:49.774536",
     "exception": false,
     "start_time": "2023-07-30T16:05:49.724554",
     "status": "completed"
    },
    "tags": []
   },
   "outputs": [
    {
     "data": {
      "text/html": [
       "<div>\n",
       "<style scoped>\n",
       "    .dataframe tbody tr th:only-of-type {\n",
       "        vertical-align: middle;\n",
       "    }\n",
       "\n",
       "    .dataframe tbody tr th {\n",
       "        vertical-align: top;\n",
       "    }\n",
       "\n",
       "    .dataframe thead th {\n",
       "        text-align: right;\n",
       "    }\n",
       "</style>\n",
       "<table border=\"1\" class=\"dataframe\">\n",
       "  <thead>\n",
       "    <tr style=\"text-align: right;\">\n",
       "      <th></th>\n",
       "      <th>Id</th>\n",
       "      <th>class_0</th>\n",
       "      <th>class_1</th>\n",
       "    </tr>\n",
       "  </thead>\n",
       "  <tbody>\n",
       "    <tr>\n",
       "      <th>0</th>\n",
       "      <td>00eed32682bb</td>\n",
       "      <td>0.980738</td>\n",
       "      <td>0.019262</td>\n",
       "    </tr>\n",
       "    <tr>\n",
       "      <th>1</th>\n",
       "      <td>010ebe33f668</td>\n",
       "      <td>0.980738</td>\n",
       "      <td>0.019262</td>\n",
       "    </tr>\n",
       "    <tr>\n",
       "      <th>2</th>\n",
       "      <td>02fa521e1838</td>\n",
       "      <td>0.980738</td>\n",
       "      <td>0.019262</td>\n",
       "    </tr>\n",
       "    <tr>\n",
       "      <th>3</th>\n",
       "      <td>040e15f562a2</td>\n",
       "      <td>0.980738</td>\n",
       "      <td>0.019262</td>\n",
       "    </tr>\n",
       "    <tr>\n",
       "      <th>4</th>\n",
       "      <td>046e85c7cc7f</td>\n",
       "      <td>0.980738</td>\n",
       "      <td>0.019262</td>\n",
       "    </tr>\n",
       "  </tbody>\n",
       "</table>\n",
       "</div>"
      ],
      "text/plain": [
       "             Id   class_0   class_1\n",
       "0  00eed32682bb  0.980738  0.019262\n",
       "1  010ebe33f668  0.980738  0.019262\n",
       "2  02fa521e1838  0.980738  0.019262\n",
       "3  040e15f562a2  0.980738  0.019262\n",
       "4  046e85c7cc7f  0.980738  0.019262"
      ]
     },
     "execution_count": 61,
     "metadata": {},
     "output_type": "execute_result"
    }
   ],
   "source": [
    "sample_submission"
   ]
  },
  {
   "cell_type": "code",
   "execution_count": 62,
   "id": "4a0de0d7",
   "metadata": {
    "execution": {
     "iopub.execute_input": "2023-07-30T16:05:49.841826Z",
     "iopub.status.busy": "2023-07-30T16:05:49.841404Z",
     "iopub.status.idle": "2023-07-30T16:05:49.851056Z",
     "shell.execute_reply": "2023-07-30T16:05:49.849877Z"
    },
    "papermill": {
     "duration": 0.046418,
     "end_time": "2023-07-30T16:05:49.853727",
     "exception": false,
     "start_time": "2023-07-30T16:05:49.807309",
     "status": "completed"
    },
    "tags": []
   },
   "outputs": [],
   "source": [
    "sample_submission.to_csv('submission.csv',index=False)"
   ]
  },
  {
   "cell_type": "code",
   "execution_count": null,
   "id": "bfa3db9f",
   "metadata": {
    "papermill": {
     "duration": 0.033885,
     "end_time": "2023-07-30T16:05:49.921372",
     "exception": false,
     "start_time": "2023-07-30T16:05:49.887487",
     "status": "completed"
    },
    "tags": []
   },
   "outputs": [],
   "source": []
  }
 ],
 "metadata": {
  "kernelspec": {
   "display_name": "Python 3",
   "language": "python",
   "name": "python3"
  },
  "language_info": {
   "codemirror_mode": {
    "name": "ipython",
    "version": 3
   },
   "file_extension": ".py",
   "mimetype": "text/x-python",
   "name": "python",
   "nbconvert_exporter": "python",
   "pygments_lexer": "ipython3",
   "version": "3.10.12"
  },
  "papermill": {
   "default_parameters": {},
   "duration": 3312.702769,
   "end_time": "2023-07-30T16:05:52.585397",
   "environment_variables": {},
   "exception": null,
   "input_path": "__notebook__.ipynb",
   "output_path": "__notebook__.ipynb",
   "parameters": {},
   "start_time": "2023-07-30T15:10:39.882628",
   "version": "2.4.0"
  }
 },
 "nbformat": 4,
 "nbformat_minor": 5
}
